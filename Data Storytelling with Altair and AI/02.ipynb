{
 "cells": [
  {
   "cell_type": "code",
   "execution_count": 1,
   "id": "8a549ff2-df89-4509-b640-0d92e7166c0e",
   "metadata": {},
   "outputs": [
    {
     "data": {
      "text/plain": [
       "RendererRegistry.enable('mimetype')"
      ]
     },
     "execution_count": 1,
     "metadata": {},
     "output_type": "execute_result"
    }
   ],
   "source": [
    "import altair as alt\n",
    "import pandas as pd\n",
    "import warnings\n",
    "\n",
    "warnings.filterwarnings(\"ignore\", category=FutureWarning)\n",
    "\n",
    "alt.renderers.enable('mimetype')"
   ]
  },
  {
   "cell_type": "code",
   "execution_count": 2,
   "id": "929b4b7b-36e8-45eb-ab82-c5189fef41c9",
   "metadata": {},
   "outputs": [
    {
     "data": {
      "application/vnd.vegalite.v5+json": {
       "$schema": "https://vega.github.io/schema/vega-lite/v5.8.0.json",
       "config": {
        "view": {
         "continuousHeight": 300,
         "continuousWidth": 300
        }
       },
       "data": {
        "name": "data-0c382a7e2b25acc44ea0fe6355a4f195"
       },
       "datasets": {
        "data-0c382a7e2b25acc44ea0fe6355a4f195": [
         {
          "Age": 25,
          "City": "New York",
          "Name": "Alice"
         },
         {
          "Age": 30,
          "City": "Paris",
          "Name": "Bob"
         },
         {
          "Age": 35,
          "City": "London",
          "Name": "Charlie"
         }
        ]
       },
       "encoding": {
        "x": {
         "field": "Age",
         "type": "quantitative"
        },
        "y": {
         "field": "Name",
         "type": "nominal"
        }
       },
       "mark": {
        "type": "bar"
       }
      },
      "image/png": "[encoded data removed]",
      "text/plain": [
       "<VegaLite 5 object>\n",
       "\n",
       "If you see this message, it means the renderer has not been properly enabled\n",
       "for the frontend that you are using. For more information, see\n",
       "https://altair-viz.github.io/user_guide/display_frontends.html#troubleshooting\n"
      ]
     },
     "execution_count": 2,
     "metadata": {},
     "output_type": "execute_result"
    }
   ],
   "source": [
    "# Create data for the DataFrame\n",
    "data = {'Name': ['Alice', 'Bob', 'Charlie'],\n",
    "        'Age': [25, 30, 35],\n",
    "        'City': ['New York', 'Paris', 'London']\n",
    "}\n",
    " \n",
    " \n",
    "# Create the DataFrame from the data\n",
    "df = pd.DataFrame(data)\n",
    " \n",
    "# Create the chart\n",
    "bar_chart = alt.Chart(df).mark_bar(\n",
    ").encode(\n",
    "    x = 'Age:Q',     \n",
    "    y = 'Name:N' \n",
    ")\n",
    " \n",
    "bar_chart"
   ]
  },
  {
   "cell_type": "code",
   "execution_count": 3,
   "id": "3f9972a2-c909-45bf-86ef-5856b5221db6",
   "metadata": {},
   "outputs": [
    {
     "data": {
      "application/vnd.vegalite.v5+json": {
       "$schema": "https://vega.github.io/schema/vega-lite/v5.8.0.json",
       "config": {
        "view": {
         "continuousHeight": 300,
         "continuousWidth": 300
        }
       },
       "data": {
        "name": "data-1ed8e6b20aca50ab40d16a5308cdabf9"
       },
       "datasets": {
        "data-1ed8e6b20aca50ab40d16a5308cdabf9": [
         {
          "X": 2,
          "Y": 4
         },
         {
          "X": 3,
          "Y": 5
         },
         {
          "X": 5,
          "Y": 6
         },
         {
          "X": 6,
          "Y": 7
         },
         {
          "X": 7,
          "Y": 8
         },
         {
          "X": 9,
          "Y": 9
         },
         {
          "X": 4,
          "Y": 5
         },
         {
          "X": 5,
          "Y": 6
         },
         {
          "X": 5,
          "Y": 3
         },
         {
          "X": 6,
          "Y": 5
         }
        ]
       },
       "encoding": {
        "x": {
         "field": "X",
         "type": "quantitative"
        },
        "y": {
         "field": "Y",
         "type": "quantitative"
        }
       },
       "mark": {
        "type": "line"
       }
      },
      "image/png": "[encoded data removed]",
      "text/plain": [
       "<VegaLite 5 object>\n",
       "\n",
       "If you see this message, it means the renderer has not been properly enabled\n",
       "for the frontend that you are using. For more information, see\n",
       "https://altair-viz.github.io/user_guide/display_frontends.html#troubleshooting\n"
      ]
     },
     "execution_count": 3,
     "metadata": {},
     "output_type": "execute_result"
    }
   ],
   "source": [
    "data = {\n",
    "   'X' : [2,3,5,6,7,9,4,5,5,6],\n",
    "   'Y' : [4,5,6,7,8,9,5,6,3,5]\n",
    "}\n",
    "\n",
    "df = pd.DataFrame(data)\n",
    "\n",
    "line_chart = alt.Chart(df).mark_line().encode(\n",
    "    x = 'X',     \n",
    "    y = 'Y' \n",
    ")\n",
    "\n",
    "line_chart"
   ]
  },
  {
   "cell_type": "code",
   "execution_count": 4,
   "id": "d24f0d29-daa4-41df-bccd-4ffb64d4bc3b",
   "metadata": {},
   "outputs": [
    {
     "data": {
      "application/vnd.vegalite.v5+json": {
       "$schema": "https://vega.github.io/schema/vega-lite/v5.8.0.json",
       "config": {
        "view": {
         "continuousHeight": 300,
         "continuousWidth": 300
        }
       },
       "data": {
        "name": "data-1ed8e6b20aca50ab40d16a5308cdabf9"
       },
       "datasets": {
        "data-1ed8e6b20aca50ab40d16a5308cdabf9": [
         {
          "X": 2,
          "Y": 4
         },
         {
          "X": 3,
          "Y": 5
         },
         {
          "X": 5,
          "Y": 6
         },
         {
          "X": 6,
          "Y": 7
         },
         {
          "X": 7,
          "Y": 8
         },
         {
          "X": 9,
          "Y": 9
         },
         {
          "X": 4,
          "Y": 5
         },
         {
          "X": 5,
          "Y": 6
         },
         {
          "X": 5,
          "Y": 3
         },
         {
          "X": 6,
          "Y": 5
         }
        ]
       },
       "encoding": {
        "x": {
         "field": "X",
         "type": "quantitative"
        },
        "y": {
         "field": "Y",
         "type": "quantitative"
        }
       },
       "mark": {
        "type": "circle"
       }
      },
      "image/png": "[encoded data removed]",
      "text/plain": [
       "<VegaLite 5 object>\n",
       "\n",
       "If you see this message, it means the renderer has not been properly enabled\n",
       "for the frontend that you are using. For more information, see\n",
       "https://altair-viz.github.io/user_guide/display_frontends.html#troubleshooting\n"
      ]
     },
     "execution_count": 4,
     "metadata": {},
     "output_type": "execute_result"
    }
   ],
   "source": [
    "data = {\n",
    "   'X' : [2,3,5,6,7,9,4,5,5,6],\n",
    "   'Y' : [4,5,6,7,8,9,5,6,3,5]\n",
    "}\n",
    "\n",
    "df = pd.DataFrame(data)\n",
    "\n",
    "\n",
    "scatter_chart = alt.Chart(df).mark_circle().encode(\n",
    "    x = 'X',     \n",
    "    y = 'Y' \n",
    ")\n",
    "\n",
    "scatter_chart"
   ]
  },
  {
   "cell_type": "code",
   "execution_count": 5,
   "id": "193ed8a5-b412-4936-9841-8f2fd93a38a1",
   "metadata": {},
   "outputs": [
    {
     "data": {
      "text/html": [
       "<div>\n",
       "<style scoped>\n",
       "    .dataframe tbody tr th:only-of-type {\n",
       "        vertical-align: middle;\n",
       "    }\n",
       "\n",
       "    .dataframe tbody tr th {\n",
       "        vertical-align: top;\n",
       "    }\n",
       "\n",
       "    .dataframe thead th {\n",
       "        text-align: right;\n",
       "    }\n",
       "</style>\n",
       "<table border=\"1\" class=\"dataframe\">\n",
       "  <thead>\n",
       "    <tr style=\"text-align: right;\">\n",
       "      <th></th>\n",
       "      <th>Date</th>\n",
       "      <th>IT</th>\n",
       "      <th>FR</th>\n",
       "      <th>DE</th>\n",
       "      <th>PT</th>\n",
       "      <th>ES</th>\n",
       "      <th>UK</th>\n",
       "    </tr>\n",
       "  </thead>\n",
       "  <tbody>\n",
       "    <tr>\n",
       "      <th>0</th>\n",
       "      <td>1990-01-01</td>\n",
       "      <td>2543920.0</td>\n",
       "      <td>NaN</td>\n",
       "      <td>3185877.0</td>\n",
       "      <td>325138.0</td>\n",
       "      <td>1723786.0</td>\n",
       "      <td>1776000.0</td>\n",
       "    </tr>\n",
       "    <tr>\n",
       "      <th>1</th>\n",
       "      <td>1990-02-01</td>\n",
       "      <td>2871632.0</td>\n",
       "      <td>NaN</td>\n",
       "      <td>3588879.0</td>\n",
       "      <td>381539.0</td>\n",
       "      <td>1885718.0</td>\n",
       "      <td>2250000.0</td>\n",
       "    </tr>\n",
       "    <tr>\n",
       "      <th>2</th>\n",
       "      <td>1990-03-01</td>\n",
       "      <td>3774702.0</td>\n",
       "      <td>NaN</td>\n",
       "      <td>4272437.0</td>\n",
       "      <td>493957.0</td>\n",
       "      <td>2337847.0</td>\n",
       "      <td>2662000.0</td>\n",
       "    </tr>\n",
       "    <tr>\n",
       "      <th>3</th>\n",
       "      <td>1990-04-01</td>\n",
       "      <td>5107712.0</td>\n",
       "      <td>NaN</td>\n",
       "      <td>4689424.0</td>\n",
       "      <td>635822.0</td>\n",
       "      <td>3172302.0</td>\n",
       "      <td>2645000.0</td>\n",
       "    </tr>\n",
       "    <tr>\n",
       "      <th>4</th>\n",
       "      <td>1990-05-01</td>\n",
       "      <td>4738376.0</td>\n",
       "      <td>NaN</td>\n",
       "      <td>6045278.0</td>\n",
       "      <td>609952.0</td>\n",
       "      <td>3072480.0</td>\n",
       "      <td>3096000.0</td>\n",
       "    </tr>\n",
       "  </tbody>\n",
       "</table>\n",
       "</div>"
      ],
      "text/plain": [
       "        Date         IT  FR         DE        PT         ES         UK\n",
       "0 1990-01-01  2543920.0 NaN  3185877.0  325138.0  1723786.0  1776000.0\n",
       "1 1990-02-01  2871632.0 NaN  3588879.0  381539.0  1885718.0  2250000.0\n",
       "2 1990-03-01  3774702.0 NaN  4272437.0  493957.0  2337847.0  2662000.0\n",
       "3 1990-04-01  5107712.0 NaN  4689424.0  635822.0  3172302.0  2645000.0\n",
       "4 1990-05-01  4738376.0 NaN  6045278.0  609952.0  3072480.0  3096000.0"
      ]
     },
     "execution_count": 5,
     "metadata": {},
     "output_type": "execute_result"
    }
   ],
   "source": [
    "df = pd.read_csv('dataset/tourist_arrivals_countries.csv', parse_dates=['Date'])\n",
    "df.head()"
   ]
  },
  {
   "cell_type": "code",
   "execution_count": 6,
   "id": "2e77e4af-076e-4f0c-892a-e31dbc7dde10",
   "metadata": {},
   "outputs": [
    {
     "name": "stdout",
     "output_type": "stream",
     "text": [
      "<class 'pandas.core.frame.DataFrame'>\n",
      "RangeIndex: 358 entries, 0 to 357\n",
      "Data columns (total 7 columns):\n",
      " #   Column  Non-Null Count  Dtype         \n",
      "---  ------  --------------  -----         \n",
      " 0   Date    358 non-null    datetime64[ns]\n",
      " 1   IT      358 non-null    float64       \n",
      " 2   FR      322 non-null    float64       \n",
      " 3   DE      358 non-null    float64       \n",
      " 4   PT      358 non-null    float64       \n",
      " 5   ES      356 non-null    float64       \n",
      " 6   UK      346 non-null    float64       \n",
      "dtypes: datetime64[ns](1), float64(6)\n",
      "memory usage: 19.7 KB\n"
     ]
    }
   ],
   "source": [
    "df.info()"
   ]
  },
  {
   "cell_type": "code",
   "execution_count": 7,
   "id": "1734a387-27b1-4a5b-8fc3-ce76b56ee518",
   "metadata": {},
   "outputs": [
    {
     "data": {
      "text/html": [
       "<div>\n",
       "<style scoped>\n",
       "    .dataframe tbody tr th:only-of-type {\n",
       "        vertical-align: middle;\n",
       "    }\n",
       "\n",
       "    .dataframe tbody tr th {\n",
       "        vertical-align: top;\n",
       "    }\n",
       "\n",
       "    .dataframe thead th {\n",
       "        text-align: right;\n",
       "    }\n",
       "</style>\n",
       "<table border=\"1\" class=\"dataframe\">\n",
       "  <thead>\n",
       "    <tr style=\"text-align: right;\">\n",
       "      <th></th>\n",
       "      <th>Date</th>\n",
       "      <th>Country</th>\n",
       "      <th>Tourist Arrivals</th>\n",
       "    </tr>\n",
       "  </thead>\n",
       "  <tbody>\n",
       "    <tr>\n",
       "      <th>0</th>\n",
       "      <td>1990-01-01</td>\n",
       "      <td>IT</td>\n",
       "      <td>2543920.0</td>\n",
       "    </tr>\n",
       "    <tr>\n",
       "      <th>1</th>\n",
       "      <td>1990-02-01</td>\n",
       "      <td>IT</td>\n",
       "      <td>2871632.0</td>\n",
       "    </tr>\n",
       "    <tr>\n",
       "      <th>2</th>\n",
       "      <td>1990-03-01</td>\n",
       "      <td>IT</td>\n",
       "      <td>3774702.0</td>\n",
       "    </tr>\n",
       "    <tr>\n",
       "      <th>3</th>\n",
       "      <td>1990-04-01</td>\n",
       "      <td>IT</td>\n",
       "      <td>5107712.0</td>\n",
       "    </tr>\n",
       "    <tr>\n",
       "      <th>4</th>\n",
       "      <td>1990-05-01</td>\n",
       "      <td>IT</td>\n",
       "      <td>4738376.0</td>\n",
       "    </tr>\n",
       "  </tbody>\n",
       "</table>\n",
       "</div>"
      ],
      "text/plain": [
       "        Date Country  Tourist Arrivals\n",
       "0 1990-01-01      IT         2543920.0\n",
       "1 1990-02-01      IT         2871632.0\n",
       "2 1990-03-01      IT         3774702.0\n",
       "3 1990-04-01      IT         5107712.0\n",
       "4 1990-05-01      IT         4738376.0"
      ]
     },
     "execution_count": 7,
     "metadata": {},
     "output_type": "execute_result"
    }
   ],
   "source": [
    "# raw chart\n",
    "df1 = pd.melt(df, id_vars='Date', value_name='Tourist Arrivals', var_name='Country')\n",
    "df1.head()"
   ]
  },
  {
   "cell_type": "code",
   "execution_count": 8,
   "id": "1503a1ce-45a9-4fc4-b137-8d1444ba2af3",
   "metadata": {},
   "outputs": [
    {
     "data": {
      "application/vnd.vegalite.v5+json": {
       "$schema": "https://vega.github.io/schema/vega-lite/v5.8.0.json",
       "config": {
        "view": {
         "continuousHeight": 300,
         "continuousWidth": 300
        }
       },
       "data": {
        "name": "data-84cba1df69482840b90de0d29291af1f"
       },
       "datasets": {
        "data-84cba1df69482840b90de0d29291af1f": [
         {
          "Country": "IT",
          "Date": "1990-01-01T00:00:00",
          "Tourist Arrivals": 2543920
         },
         {
          "Country": "IT",
          "Date": "1990-02-01T00:00:00",
          "Tourist Arrivals": 2871632
         },
         {
          "Country": "IT",
          "Date": "1990-03-01T00:00:00",
          "Tourist Arrivals": 3774702
         },
         {
          "Country": "IT",
          "Date": "1990-04-01T00:00:00",
          "Tourist Arrivals": 5107712
         },
         {
          "Country": "IT",
          "Date": "1990-05-01T00:00:00",
          "Tourist Arrivals": 4738376
         },
         {
          "Country": "IT",
          "Date": "1990-06-01T00:00:00",
          "Tourist Arrivals": 5001834
         },
         {
          "Country": "IT",
          "Date": "1990-07-01T00:00:00",
          "Tourist Arrivals": 5538456
         },
         {
          "Country": "IT",
          "Date": "1990-08-01T00:00:00",
          "Tourist Arrivals": 6215162
         },
         {
          "Country": "IT",
          "Date": "1990-09-01T00:00:00",
          "Tourist Arrivals": 5872800
         },
         {
          "Country": "IT",
          "Date": "1990-10-01T00:00:00",
          "Tourist Arrivals": 4382114
         },
         {
          "Country": "IT",
          "Date": "1990-11-01T00:00:00",
          "Tourist Arrivals": 2855961
         },
         {
          "Country": "IT",
          "Date": "1990-12-01T00:00:00",
          "Tourist Arrivals": 2797069
         },
         {
          "Country": "IT",
          "Date": "1991-01-01T00:00:00",
          "Tourist Arrivals": 2544782
         },
         {
          "Country": "IT",
          "Date": "1991-02-01T00:00:00",
          "Tourist Arrivals": 2645773
         },
         {
          "Country": "IT",
          "Date": "1991-03-01T00:00:00",
          "Tourist Arrivals": 4002596
         },
         {
          "Country": "IT",
          "Date": "1991-04-01T00:00:00",
          "Tourist Arrivals": 4484347
         },
         {
          "Country": "IT",
          "Date": "1991-05-01T00:00:00",
          "Tourist Arrivals": 4847278
         },
         {
          "Country": "IT",
          "Date": "1991-06-01T00:00:00",
          "Tourist Arrivals": 5209197
         },
         {
          "Country": "IT",
          "Date": "1991-07-01T00:00:00",
          "Tourist Arrivals": 5570098
         },
         {
          "Country": "IT",
          "Date": "1991-08-01T00:00:00",
          "Tourist Arrivals": 6402220
         },
         {
          "Country": "IT",
          "Date": "1991-09-01T00:00:00",
          "Tourist Arrivals": 5718601
         },
         {
          "Country": "IT",
          "Date": "1991-10-01T00:00:00",
          "Tourist Arrivals": 4308688
         },
         {
          "Country": "IT",
          "Date": "1991-11-01T00:00:00",
          "Tourist Arrivals": 2876177
         },
         {
          "Country": "IT",
          "Date": "1991-12-01T00:00:00",
          "Tourist Arrivals": 2726843
         },
         {
          "Country": "IT",
          "Date": "1992-01-01T00:00:00",
          "Tourist Arrivals": 2714727
         },
         {
          "Country": "IT",
          "Date": "1992-02-01T00:00:00",
          "Tourist Arrivals": 3181039
         },
         {
          "Country": "IT",
          "Date": "1992-03-01T00:00:00",
          "Tourist Arrivals": 3753232
         },
         {
          "Country": "IT",
          "Date": "1992-04-01T00:00:00",
          "Tourist Arrivals": 4942875
         },
         {
          "Country": "IT",
          "Date": "1992-05-01T00:00:00",
          "Tourist Arrivals": 5252192
         },
         {
          "Country": "IT",
          "Date": "1992-06-01T00:00:00",
          "Tourist Arrivals": 5364437
         },
         {
          "Country": "IT",
          "Date": "1992-07-01T00:00:00",
          "Tourist Arrivals": 5552620
         },
         {
          "Country": "IT",
          "Date": "1992-08-01T00:00:00",
          "Tourist Arrivals": 6282531
         },
         {
          "Country": "IT",
          "Date": "1992-09-01T00:00:00",
          "Tourist Arrivals": 5521645
         },
         {
          "Country": "IT",
          "Date": "1992-10-01T00:00:00",
          "Tourist Arrivals": 4068006
         },
         {
          "Country": "IT",
          "Date": "1992-11-01T00:00:00",
          "Tourist Arrivals": 2684279
         },
         {
          "Country": "IT",
          "Date": "1992-12-01T00:00:00",
          "Tourist Arrivals": 2767519
         },
         {
          "Country": "IT",
          "Date": "1993-01-01T00:00:00",
          "Tourist Arrivals": 2725903
         },
         {
          "Country": "IT",
          "Date": "1993-02-01T00:00:00",
          "Tourist Arrivals": 2931744
         },
         {
          "Country": "IT",
          "Date": "1993-03-01T00:00:00",
          "Tourist Arrivals": 3610510
         },
         {
          "Country": "IT",
          "Date": "1993-04-01T00:00:00",
          "Tourist Arrivals": 4744921
         },
         {
          "Country": "IT",
          "Date": "1993-05-01T00:00:00",
          "Tourist Arrivals": 4945425
         },
         {
          "Country": "IT",
          "Date": "1993-06-01T00:00:00",
          "Tourist Arrivals": 5093452
         },
         {
          "Country": "IT",
          "Date": "1993-07-01T00:00:00",
          "Tourist Arrivals": 5718819
         },
         {
          "Country": "IT",
          "Date": "1993-08-01T00:00:00",
          "Tourist Arrivals": 6323385
         },
         {
          "Country": "IT",
          "Date": "1993-09-01T00:00:00",
          "Tourist Arrivals": 5621848
         },
         {
          "Country": "IT",
          "Date": "1993-10-01T00:00:00",
          "Tourist Arrivals": 4278970
         },
         {
          "Country": "IT",
          "Date": "1993-11-01T00:00:00",
          "Tourist Arrivals": 2715241
         },
         {
          "Country": "IT",
          "Date": "1993-12-01T00:00:00",
          "Tourist Arrivals": 2822602
         },
         {
          "Country": "IT",
          "Date": "1994-01-01T00:00:00",
          "Tourist Arrivals": 2900063
         },
         {
          "Country": "IT",
          "Date": "1994-02-01T00:00:00",
          "Tourist Arrivals": 3053186
         },
         {
          "Country": "IT",
          "Date": "1994-03-01T00:00:00",
          "Tourist Arrivals": 4044593
         },
         {
          "Country": "IT",
          "Date": "1994-04-01T00:00:00",
          "Tourist Arrivals": 5189404
         },
         {
          "Country": "IT",
          "Date": "1994-05-01T00:00:00",
          "Tourist Arrivals": 5335357
         },
         {
          "Country": "IT",
          "Date": "1994-06-01T00:00:00",
          "Tourist Arrivals": 5554479
         },
         {
          "Country": "IT",
          "Date": "1994-07-01T00:00:00",
          "Tourist Arrivals": 6315208
         },
         {
          "Country": "IT",
          "Date": "1994-08-01T00:00:00",
          "Tourist Arrivals": 6720369
         },
         {
          "Country": "IT",
          "Date": "1994-09-01T00:00:00",
          "Tourist Arrivals": 6191375
         },
         {
          "Country": "IT",
          "Date": "1994-10-01T00:00:00",
          "Tourist Arrivals": 4693848
         },
         {
          "Country": "IT",
          "Date": "1994-11-01T00:00:00",
          "Tourist Arrivals": 2818796
         },
         {
          "Country": "IT",
          "Date": "1994-12-01T00:00:00",
          "Tourist Arrivals": 2873412
         },
         {
          "Country": "IT",
          "Date": "1995-01-01T00:00:00",
          "Tourist Arrivals": 3046395
         },
         {
          "Country": "IT",
          "Date": "1995-02-01T00:00:00",
          "Tourist Arrivals": 3137540
         },
         {
          "Country": "IT",
          "Date": "1995-03-01T00:00:00",
          "Tourist Arrivals": 3925725
         },
         {
          "Country": "IT",
          "Date": "1995-04-01T00:00:00",
          "Tourist Arrivals": 5630638
         },
         {
          "Country": "IT",
          "Date": "1995-05-01T00:00:00",
          "Tourist Arrivals": 5355690
         },
         {
          "Country": "IT",
          "Date": "1995-06-01T00:00:00",
          "Tourist Arrivals": 5978998
         },
         {
          "Country": "IT",
          "Date": "1995-07-01T00:00:00",
          "Tourist Arrivals": 6545805
         },
         {
          "Country": "IT",
          "Date": "1995-08-01T00:00:00",
          "Tourist Arrivals": 6784083
         },
         {
          "Country": "IT",
          "Date": "1995-09-01T00:00:00",
          "Tourist Arrivals": 6409376
         },
         {
          "Country": "IT",
          "Date": "1995-10-01T00:00:00",
          "Tourist Arrivals": 4850612
         },
         {
          "Country": "IT",
          "Date": "1995-11-01T00:00:00",
          "Tourist Arrivals": 2976124
         },
         {
          "Country": "IT",
          "Date": "1995-12-01T00:00:00",
          "Tourist Arrivals": 3083633
         },
         {
          "Country": "IT",
          "Date": "1996-01-01T00:00:00",
          "Tourist Arrivals": 3101733
         },
         {
          "Country": "IT",
          "Date": "1996-02-01T00:00:00",
          "Tourist Arrivals": 3395635
         },
         {
          "Country": "IT",
          "Date": "1996-03-01T00:00:00",
          "Tourist Arrivals": 4505274
         },
         {
          "Country": "IT",
          "Date": "1996-04-01T00:00:00",
          "Tourist Arrivals": 5504444
         },
         {
          "Country": "IT",
          "Date": "1996-05-01T00:00:00",
          "Tourist Arrivals": 5870868
         },
         {
          "Country": "IT",
          "Date": "1996-06-01T00:00:00",
          "Tourist Arrivals": 6229603
         },
         {
          "Country": "IT",
          "Date": "1996-07-01T00:00:00",
          "Tourist Arrivals": 6433358
         },
         {
          "Country": "IT",
          "Date": "1996-08-01T00:00:00",
          "Tourist Arrivals": 7117494
         },
         {
          "Country": "IT",
          "Date": "1996-09-01T00:00:00",
          "Tourist Arrivals": 6285644
         },
         {
          "Country": "IT",
          "Date": "1996-10-01T00:00:00",
          "Tourist Arrivals": 4980454
         },
         {
          "Country": "IT",
          "Date": "1996-11-01T00:00:00",
          "Tourist Arrivals": 3203939
         },
         {
          "Country": "IT",
          "Date": "1996-12-01T00:00:00",
          "Tourist Arrivals": 2961452
         },
         {
          "Country": "IT",
          "Date": "1997-01-01T00:00:00",
          "Tourist Arrivals": 3013109
         },
         {
          "Country": "IT",
          "Date": "1997-02-01T00:00:00",
          "Tourist Arrivals": 3440002
         },
         {
          "Country": "IT",
          "Date": "1997-03-01T00:00:00",
          "Tourist Arrivals": 4874045
         },
         {
          "Country": "IT",
          "Date": "1997-04-01T00:00:00",
          "Tourist Arrivals": 5210341
         },
         {
          "Country": "IT",
          "Date": "1997-05-01T00:00:00",
          "Tourist Arrivals": 6112825
         },
         {
          "Country": "IT",
          "Date": "1997-06-01T00:00:00",
          "Tourist Arrivals": 5986328
         },
         {
          "Country": "IT",
          "Date": "1997-07-01T00:00:00",
          "Tourist Arrivals": 6467817
         },
         {
          "Country": "IT",
          "Date": "1997-08-01T00:00:00",
          "Tourist Arrivals": 7443018
         },
         {
          "Country": "IT",
          "Date": "1997-09-01T00:00:00",
          "Tourist Arrivals": 6306150
         },
         {
          "Country": "IT",
          "Date": "1997-10-01T00:00:00",
          "Tourist Arrivals": 4974227
         },
         {
          "Country": "IT",
          "Date": "1997-11-01T00:00:00",
          "Tourist Arrivals": 3034493
         },
         {
          "Country": "IT",
          "Date": "1997-12-01T00:00:00",
          "Tourist Arrivals": 3202396
         },
         {
          "Country": "IT",
          "Date": "1998-01-01T00:00:00",
          "Tourist Arrivals": 3218025
         },
         {
          "Country": "IT",
          "Date": "1998-02-01T00:00:00",
          "Tourist Arrivals": 3507153
         },
         {
          "Country": "IT",
          "Date": "1998-03-01T00:00:00",
          "Tourist Arrivals": 4282043
         },
         {
          "Country": "IT",
          "Date": "1998-04-01T00:00:00",
          "Tourist Arrivals": 5638500
         },
         {
          "Country": "IT",
          "Date": "1998-05-01T00:00:00",
          "Tourist Arrivals": 6291649
         },
         {
          "Country": "IT",
          "Date": "1998-06-01T00:00:00",
          "Tourist Arrivals": 6311005
         },
         {
          "Country": "IT",
          "Date": "1998-07-01T00:00:00",
          "Tourist Arrivals": 6683398
         },
         {
          "Country": "IT",
          "Date": "1998-08-01T00:00:00",
          "Tourist Arrivals": 7590789
         },
         {
          "Country": "IT",
          "Date": "1998-09-01T00:00:00",
          "Tourist Arrivals": 6439720
         },
         {
          "Country": "IT",
          "Date": "1998-10-01T00:00:00",
          "Tourist Arrivals": 5053424
         },
         {
          "Country": "IT",
          "Date": "1998-11-01T00:00:00",
          "Tourist Arrivals": 3226365
         },
         {
          "Country": "IT",
          "Date": "1998-12-01T00:00:00",
          "Tourist Arrivals": 3237242
         },
         {
          "Country": "IT",
          "Date": "1999-01-01T00:00:00",
          "Tourist Arrivals": 3253860
         },
         {
          "Country": "IT",
          "Date": "1999-02-01T00:00:00",
          "Tourist Arrivals": 3509807
         },
         {
          "Country": "IT",
          "Date": "1999-03-01T00:00:00",
          "Tourist Arrivals": 4510803
         },
         {
          "Country": "IT",
          "Date": "1999-04-01T00:00:00",
          "Tourist Arrivals": 5567032
         },
         {
          "Country": "IT",
          "Date": "1999-05-01T00:00:00",
          "Tourist Arrivals": 6536672
         },
         {
          "Country": "IT",
          "Date": "1999-06-01T00:00:00",
          "Tourist Arrivals": 6398819
         },
         {
          "Country": "IT",
          "Date": "1999-07-01T00:00:00",
          "Tourist Arrivals": 7129194
         },
         {
          "Country": "IT",
          "Date": "1999-08-01T00:00:00",
          "Tourist Arrivals": 7497310
         },
         {
          "Country": "IT",
          "Date": "1999-09-01T00:00:00",
          "Tourist Arrivals": 6695703
         },
         {
          "Country": "IT",
          "Date": "1999-10-01T00:00:00",
          "Tourist Arrivals": 5313825
         },
         {
          "Country": "IT",
          "Date": "1999-11-01T00:00:00",
          "Tourist Arrivals": 3393259
         },
         {
          "Country": "IT",
          "Date": "1999-12-01T00:00:00",
          "Tourist Arrivals": 3112536
         },
         {
          "Country": "IT",
          "Date": "2000-01-01T00:00:00",
          "Tourist Arrivals": 3344348
         },
         {
          "Country": "IT",
          "Date": "2000-02-01T00:00:00",
          "Tourist Arrivals": 3675189
         },
         {
          "Country": "IT",
          "Date": "2000-03-01T00:00:00",
          "Tourist Arrivals": 4755538
         },
         {
          "Country": "IT",
          "Date": "2000-04-01T00:00:00",
          "Tourist Arrivals": 6172320
         },
         {
          "Country": "IT",
          "Date": "2000-05-01T00:00:00",
          "Tourist Arrivals": 6378840
         },
         {
          "Country": "IT",
          "Date": "2000-06-01T00:00:00",
          "Tourist Arrivals": 7105565
         },
         {
          "Country": "IT",
          "Date": "2000-07-01T00:00:00",
          "Tourist Arrivals": 7496902
         },
         {
          "Country": "IT",
          "Date": "2000-08-01T00:00:00",
          "Tourist Arrivals": 7698029
         },
         {
          "Country": "IT",
          "Date": "2000-09-01T00:00:00",
          "Tourist Arrivals": 7289448
         },
         {
          "Country": "IT",
          "Date": "2000-10-01T00:00:00",
          "Tourist Arrivals": 5526583
         },
         {
          "Country": "IT",
          "Date": "2000-11-01T00:00:00",
          "Tourist Arrivals": 3534091
         },
         {
          "Country": "IT",
          "Date": "2000-12-01T00:00:00",
          "Tourist Arrivals": 3783309
         },
         {
          "Country": "IT",
          "Date": "2001-01-01T00:00:00",
          "Tourist Arrivals": 3440000
         },
         {
          "Country": "IT",
          "Date": "2001-02-01T00:00:00",
          "Tourist Arrivals": 3925000
         },
         {
          "Country": "IT",
          "Date": "2001-03-01T00:00:00",
          "Tourist Arrivals": 4779000
         },
         {
          "Country": "IT",
          "Date": "2001-04-01T00:00:00",
          "Tourist Arrivals": 6300000
         },
         {
          "Country": "IT",
          "Date": "2001-05-01T00:00:00",
          "Tourist Arrivals": 6554000
         },
         {
          "Country": "IT",
          "Date": "2001-06-01T00:00:00",
          "Tourist Arrivals": 7572000
         },
         {
          "Country": "IT",
          "Date": "2001-07-01T00:00:00",
          "Tourist Arrivals": 7540000
         },
         {
          "Country": "IT",
          "Date": "2001-08-01T00:00:00",
          "Tourist Arrivals": 7906000
         },
         {
          "Country": "IT",
          "Date": "2001-09-01T00:00:00",
          "Tourist Arrivals": 7168000
         },
         {
          "Country": "IT",
          "Date": "2001-10-01T00:00:00",
          "Tourist Arrivals": 5407000
         },
         {
          "Country": "IT",
          "Date": "2001-11-01T00:00:00",
          "Tourist Arrivals": 3636000
         },
         {
          "Country": "IT",
          "Date": "2001-12-01T00:00:00",
          "Tourist Arrivals": 3563000
         },
         {
          "Country": "IT",
          "Date": "2002-01-01T00:00:00",
          "Tourist Arrivals": 3243131
         },
         {
          "Country": "IT",
          "Date": "2002-02-01T00:00:00",
          "Tourist Arrivals": 3838457
         },
         {
          "Country": "IT",
          "Date": "2002-03-01T00:00:00",
          "Tourist Arrivals": 5293942
         },
         {
          "Country": "IT",
          "Date": "2002-04-01T00:00:00",
          "Tourist Arrivals": 5746862
         },
         {
          "Country": "IT",
          "Date": "2002-05-01T00:00:00",
          "Tourist Arrivals": 6828875
         },
         {
          "Country": "IT",
          "Date": "2002-06-01T00:00:00",
          "Tourist Arrivals": 7154731
         },
         {
          "Country": "IT",
          "Date": "2002-07-01T00:00:00",
          "Tourist Arrivals": 7295692
         },
         {
          "Country": "IT",
          "Date": "2002-08-01T00:00:00",
          "Tourist Arrivals": 7938438
         },
         {
          "Country": "IT",
          "Date": "2002-09-01T00:00:00",
          "Tourist Arrivals": 7076626
         },
         {
          "Country": "IT",
          "Date": "2002-10-01T00:00:00",
          "Tourist Arrivals": 5707565
         },
         {
          "Country": "IT",
          "Date": "2002-11-01T00:00:00",
          "Tourist Arrivals": 3702082
         },
         {
          "Country": "IT",
          "Date": "2002-12-01T00:00:00",
          "Tourist Arrivals": 3523972
         },
         {
          "Country": "IT",
          "Date": "2003-01-01T00:00:00",
          "Tourist Arrivals": 3461000
         },
         {
          "Country": "IT",
          "Date": "2003-02-01T00:00:00",
          "Tourist Arrivals": 3868384
         },
         {
          "Country": "IT",
          "Date": "2003-03-01T00:00:00",
          "Tourist Arrivals": 4835974
         },
         {
          "Country": "IT",
          "Date": "2003-04-01T00:00:00",
          "Tourist Arrivals": 5970186
         },
         {
          "Country": "IT",
          "Date": "2003-05-01T00:00:00",
          "Tourist Arrivals": 6710944
         },
         {
          "Country": "IT",
          "Date": "2003-06-01T00:00:00",
          "Tourist Arrivals": 7145968
         },
         {
          "Country": "IT",
          "Date": "2003-07-01T00:00:00",
          "Tourist Arrivals": 7209603
         },
         {
          "Country": "IT",
          "Date": "2003-08-01T00:00:00",
          "Tourist Arrivals": 7898301
         },
         {
          "Country": "IT",
          "Date": "2003-09-01T00:00:00",
          "Tourist Arrivals": 6778180
         },
         {
          "Country": "IT",
          "Date": "2003-10-01T00:00:00",
          "Tourist Arrivals": 5671014
         },
         {
          "Country": "IT",
          "Date": "2003-11-01T00:00:00",
          "Tourist Arrivals": 3591698
         },
         {
          "Country": "IT",
          "Date": "2003-12-01T00:00:00",
          "Tourist Arrivals": 3841219
         },
         {
          "Country": "IT",
          "Date": "2004-01-01T00:00:00",
          "Tourist Arrivals": 3754397
         },
         {
          "Country": "IT",
          "Date": "2004-02-01T00:00:00",
          "Tourist Arrivals": 4299956
         },
         {
          "Country": "IT",
          "Date": "2004-03-01T00:00:00",
          "Tourist Arrivals": 5082164
         },
         {
          "Country": "IT",
          "Date": "2004-04-01T00:00:00",
          "Tourist Arrivals": 6225611
         },
         {
          "Country": "IT",
          "Date": "2004-05-01T00:00:00",
          "Tourist Arrivals": 7162242
         },
         {
          "Country": "IT",
          "Date": "2004-06-01T00:00:00",
          "Tourist Arrivals": 7178326
         },
         {
          "Country": "IT",
          "Date": "2004-07-01T00:00:00",
          "Tourist Arrivals": 7937118
         },
         {
          "Country": "IT",
          "Date": "2004-08-01T00:00:00",
          "Tourist Arrivals": 8078833
         },
         {
          "Country": "IT",
          "Date": "2004-09-01T00:00:00",
          "Tourist Arrivals": 7324414
         },
         {
          "Country": "IT",
          "Date": "2004-10-01T00:00:00",
          "Tourist Arrivals": 6029499
         },
         {
          "Country": "IT",
          "Date": "2004-11-01T00:00:00",
          "Tourist Arrivals": 3812827
         },
         {
          "Country": "IT",
          "Date": "2004-12-01T00:00:00",
          "Tourist Arrivals": 3798176
         },
         {
          "Country": "IT",
          "Date": "2005-01-01T00:00:00",
          "Tourist Arrivals": 3793077
         },
         {
          "Country": "IT",
          "Date": "2005-02-01T00:00:00",
          "Tourist Arrivals": 3952345
         },
         {
          "Country": "IT",
          "Date": "2005-03-01T00:00:00",
          "Tourist Arrivals": 5428208
         },
         {
          "Country": "IT",
          "Date": "2005-04-01T00:00:00",
          "Tourist Arrivals": 5949228
         },
         {
          "Country": "IT",
          "Date": "2005-05-01T00:00:00",
          "Tourist Arrivals": 6977895
         },
         {
          "Country": "IT",
          "Date": "2005-06-01T00:00:00",
          "Tourist Arrivals": 7496677
         },
         {
          "Country": "IT",
          "Date": "2005-07-01T00:00:00",
          "Tourist Arrivals": 8215352
         },
         {
          "Country": "IT",
          "Date": "2005-08-01T00:00:00",
          "Tourist Arrivals": 8154219
         },
         {
          "Country": "IT",
          "Date": "2005-09-01T00:00:00",
          "Tourist Arrivals": 7413875
         },
         {
          "Country": "IT",
          "Date": "2005-10-01T00:00:00",
          "Tourist Arrivals": 6156298
         },
         {
          "Country": "IT",
          "Date": "2005-11-01T00:00:00",
          "Tourist Arrivals": 3863757
         },
         {
          "Country": "IT",
          "Date": "2005-12-01T00:00:00",
          "Tourist Arrivals": 4034050
         },
         {
          "Country": "IT",
          "Date": "2006-01-01T00:00:00",
          "Tourist Arrivals": 4006989
         },
         {
          "Country": "IT",
          "Date": "2006-02-01T00:00:00",
          "Tourist Arrivals": 4369506
         },
         {
          "Country": "IT",
          "Date": "2006-03-01T00:00:00",
          "Tourist Arrivals": 5379038
         },
         {
          "Country": "IT",
          "Date": "2006-04-01T00:00:00",
          "Tourist Arrivals": 7015437
         },
         {
          "Country": "IT",
          "Date": "2006-05-01T00:00:00",
          "Tourist Arrivals": 7230929
         },
         {
          "Country": "IT",
          "Date": "2006-06-01T00:00:00",
          "Tourist Arrivals": 8112300
         },
         {
          "Country": "IT",
          "Date": "2006-07-01T00:00:00",
          "Tourist Arrivals": 8714694
         },
         {
          "Country": "IT",
          "Date": "2006-08-01T00:00:00",
          "Tourist Arrivals": 8657018
         },
         {
          "Country": "IT",
          "Date": "2006-09-01T00:00:00",
          "Tourist Arrivals": 8042038
         },
         {
          "Country": "IT",
          "Date": "2006-10-01T00:00:00",
          "Tourist Arrivals": 6169723
         },
         {
          "Country": "IT",
          "Date": "2006-11-01T00:00:00",
          "Tourist Arrivals": 4060927
         },
         {
          "Country": "IT",
          "Date": "2006-12-01T00:00:00",
          "Tourist Arrivals": 4274796
         },
         {
          "Country": "IT",
          "Date": "2007-01-01T00:00:00",
          "Tourist Arrivals": 3988962
         },
         {
          "Country": "IT",
          "Date": "2007-02-01T00:00:00",
          "Tourist Arrivals": 4429351
         },
         {
          "Country": "IT",
          "Date": "2007-03-01T00:00:00",
          "Tourist Arrivals": 5644161
         },
         {
          "Country": "IT",
          "Date": "2007-04-01T00:00:00",
          "Tourist Arrivals": 7053418
         },
         {
          "Country": "IT",
          "Date": "2007-05-01T00:00:00",
          "Tourist Arrivals": 7341561
         },
         {
          "Country": "IT",
          "Date": "2007-06-01T00:00:00",
          "Tourist Arrivals": 8579095
         },
         {
          "Country": "IT",
          "Date": "2007-07-01T00:00:00",
          "Tourist Arrivals": 8916361
         },
         {
          "Country": "IT",
          "Date": "2007-08-01T00:00:00",
          "Tourist Arrivals": 9041391
         },
         {
          "Country": "IT",
          "Date": "2007-09-01T00:00:00",
          "Tourist Arrivals": 8148956
         },
         {
          "Country": "IT",
          "Date": "2007-10-01T00:00:00",
          "Tourist Arrivals": 6294180
         },
         {
          "Country": "IT",
          "Date": "2007-11-01T00:00:00",
          "Tourist Arrivals": 4308851
         },
         {
          "Country": "IT",
          "Date": "2007-12-01T00:00:00",
          "Tourist Arrivals": 4305135
         },
         {
          "Country": "IT",
          "Date": "2008-01-01T00:00:00",
          "Tourist Arrivals": 4083973
         },
         {
          "Country": "IT",
          "Date": "2008-02-01T00:00:00",
          "Tourist Arrivals": 4713359
         },
         {
          "Country": "IT",
          "Date": "2008-03-01T00:00:00",
          "Tourist Arrivals": 5873658
         },
         {
          "Country": "IT",
          "Date": "2008-04-01T00:00:00",
          "Tourist Arrivals": 6353941
         },
         {
          "Country": "IT",
          "Date": "2008-05-01T00:00:00",
          "Tourist Arrivals": 7818026
         },
         {
          "Country": "IT",
          "Date": "2008-06-01T00:00:00",
          "Tourist Arrivals": 7944452
         },
         {
          "Country": "IT",
          "Date": "2008-07-01T00:00:00",
          "Tourist Arrivals": 8647860
         },
         {
          "Country": "IT",
          "Date": "2008-08-01T00:00:00",
          "Tourist Arrivals": 9158322
         },
         {
          "Country": "IT",
          "Date": "2008-09-01T00:00:00",
          "Tourist Arrivals": 7573217
         },
         {
          "Country": "IT",
          "Date": "2008-10-01T00:00:00",
          "Tourist Arrivals": 6035514
         },
         {
          "Country": "IT",
          "Date": "2008-11-01T00:00:00",
          "Tourist Arrivals": 3925463
         },
         {
          "Country": "IT",
          "Date": "2008-12-01T00:00:00",
          "Tourist Arrivals": 4166221
         },
         {
          "Country": "IT",
          "Date": "2009-01-01T00:00:00",
          "Tourist Arrivals": 4052444
         },
         {
          "Country": "IT",
          "Date": "2009-02-01T00:00:00",
          "Tourist Arrivals": 4458636
         },
         {
          "Country": "IT",
          "Date": "2009-03-01T00:00:00",
          "Tourist Arrivals": 5154138
         },
         {
          "Country": "IT",
          "Date": "2009-04-01T00:00:00",
          "Tourist Arrivals": 6410020
         },
         {
          "Country": "IT",
          "Date": "2009-05-01T00:00:00",
          "Tourist Arrivals": 7668348
         },
         {
          "Country": "IT",
          "Date": "2009-06-01T00:00:00",
          "Tourist Arrivals": 7667539
         },
         {
          "Country": "IT",
          "Date": "2009-07-01T00:00:00",
          "Tourist Arrivals": 8934650
         },
         {
          "Country": "IT",
          "Date": "2009-08-01T00:00:00",
          "Tourist Arrivals": 9731462
         },
         {
          "Country": "IT",
          "Date": "2009-09-01T00:00:00",
          "Tourist Arrivals": 7738095
         },
         {
          "Country": "IT",
          "Date": "2009-10-01T00:00:00",
          "Tourist Arrivals": 6168584
         },
         {
          "Country": "IT",
          "Date": "2009-11-01T00:00:00",
          "Tourist Arrivals": 3950570
         },
         {
          "Country": "IT",
          "Date": "2009-12-01T00:00:00",
          "Tourist Arrivals": 4396292
         },
         {
          "Country": "IT",
          "Date": "2010-01-01T00:00:00",
          "Tourist Arrivals": 4094827
         },
         {
          "Country": "IT",
          "Date": "2010-02-01T00:00:00",
          "Tourist Arrivals": 4565510
         },
         {
          "Country": "IT",
          "Date": "2010-03-01T00:00:00",
          "Tourist Arrivals": 5431338
         },
         {
          "Country": "IT",
          "Date": "2010-04-01T00:00:00",
          "Tourist Arrivals": 6634696
         },
         {
          "Country": "IT",
          "Date": "2010-05-01T00:00:00",
          "Tourist Arrivals": 7672519
         },
         {
          "Country": "IT",
          "Date": "2010-06-01T00:00:00",
          "Tourist Arrivals": 8055482
         },
         {
          "Country": "IT",
          "Date": "2010-07-01T00:00:00",
          "Tourist Arrivals": 9717796
         },
         {
          "Country": "IT",
          "Date": "2010-08-01T00:00:00",
          "Tourist Arrivals": 9784177
         },
         {
          "Country": "IT",
          "Date": "2010-09-01T00:00:00",
          "Tourist Arrivals": 8109870
         },
         {
          "Country": "IT",
          "Date": "2010-10-01T00:00:00",
          "Tourist Arrivals": 6588865
         },
         {
          "Country": "IT",
          "Date": "2010-11-01T00:00:00",
          "Tourist Arrivals": 4130569
         },
         {
          "Country": "IT",
          "Date": "2010-12-01T00:00:00",
          "Tourist Arrivals": 4349930
         },
         {
          "Country": "IT",
          "Date": "2011-01-01T00:00:00",
          "Tourist Arrivals": 4392388
         },
         {
          "Country": "IT",
          "Date": "2011-02-01T00:00:00",
          "Tourist Arrivals": 4579880
         },
         {
          "Country": "IT",
          "Date": "2011-03-01T00:00:00",
          "Tourist Arrivals": 5641686
         },
         {
          "Country": "IT",
          "Date": "2011-04-01T00:00:00",
          "Tourist Arrivals": 7108973
         },
         {
          "Country": "IT",
          "Date": "2011-05-01T00:00:00",
          "Tourist Arrivals": 7602077
         },
         {
          "Country": "IT",
          "Date": "2011-06-01T00:00:00",
          "Tourist Arrivals": 9092021
         },
         {
          "Country": "IT",
          "Date": "2011-07-01T00:00:00",
          "Tourist Arrivals": 10402688
         },
         {
          "Country": "IT",
          "Date": "2011-08-01T00:00:00",
          "Tourist Arrivals": 10071885
         },
         {
          "Country": "IT",
          "Date": "2011-09-01T00:00:00",
          "Tourist Arrivals": 8725551
         },
         {
          "Country": "IT",
          "Date": "2011-10-01T00:00:00",
          "Tourist Arrivals": 6847055
         },
         {
          "Country": "IT",
          "Date": "2011-11-01T00:00:00",
          "Tourist Arrivals": 4145137
         },
         {
          "Country": "IT",
          "Date": "2011-12-01T00:00:00",
          "Tourist Arrivals": 4446428
         },
         {
          "Country": "IT",
          "Date": "2012-01-01T00:00:00",
          "Tourist Arrivals": 4416477
         },
         {
          "Country": "IT",
          "Date": "2012-02-01T00:00:00",
          "Tourist Arrivals": 4494447
         },
         {
          "Country": "IT",
          "Date": "2012-03-01T00:00:00",
          "Tourist Arrivals": 5866474
         },
         {
          "Country": "IT",
          "Date": "2012-04-01T00:00:00",
          "Tourist Arrivals": 7018681
         },
         {
          "Country": "IT",
          "Date": "2012-05-01T00:00:00",
          "Tourist Arrivals": 7615319
         },
         {
          "Country": "IT",
          "Date": "2012-06-01T00:00:00",
          "Tourist Arrivals": 9009259
         },
         {
          "Country": "IT",
          "Date": "2012-07-01T00:00:00",
          "Tourist Arrivals": 10123156
         },
         {
          "Country": "IT",
          "Date": "2012-08-01T00:00:00",
          "Tourist Arrivals": 10221592
         },
         {
          "Country": "IT",
          "Date": "2012-09-01T00:00:00",
          "Tourist Arrivals": 8646692
         },
         {
          "Country": "IT",
          "Date": "2012-10-01T00:00:00",
          "Tourist Arrivals": 6451895
         },
         {
          "Country": "IT",
          "Date": "2012-11-01T00:00:00",
          "Tourist Arrivals": 4329189
         },
         {
          "Country": "IT",
          "Date": "2012-12-01T00:00:00",
          "Tourist Arrivals": 4451600
         },
         {
          "Country": "IT",
          "Date": "2013-01-01T00:00:00",
          "Tourist Arrivals": 4099209
         },
         {
          "Country": "IT",
          "Date": "2013-02-01T00:00:00",
          "Tourist Arrivals": 4505122
         },
         {
          "Country": "IT",
          "Date": "2013-03-01T00:00:00",
          "Tourist Arrivals": 5978957
         },
         {
          "Country": "IT",
          "Date": "2013-04-01T00:00:00",
          "Tourist Arrivals": 6340095
         },
         {
          "Country": "IT",
          "Date": "2013-05-01T00:00:00",
          "Tourist Arrivals": 7883596
         },
         {
          "Country": "IT",
          "Date": "2013-06-01T00:00:00",
          "Tourist Arrivals": 9002772
         },
         {
          "Country": "IT",
          "Date": "2013-07-01T00:00:00",
          "Tourist Arrivals": 10230694
         },
         {
          "Country": "IT",
          "Date": "2013-08-01T00:00:00",
          "Tourist Arrivals": 10731765
         },
         {
          "Country": "IT",
          "Date": "2013-09-01T00:00:00",
          "Tourist Arrivals": 8676325
         },
         {
          "Country": "IT",
          "Date": "2013-10-01T00:00:00",
          "Tourist Arrivals": 6455672
         },
         {
          "Country": "IT",
          "Date": "2013-11-01T00:00:00",
          "Tourist Arrivals": 4296640
         },
         {
          "Country": "IT",
          "Date": "2013-12-01T00:00:00",
          "Tourist Arrivals": 4438389
         },
         {
          "Country": "IT",
          "Date": "2014-01-01T00:00:00",
          "Tourist Arrivals": 4187654
         },
         {
          "Country": "IT",
          "Date": "2014-02-01T00:00:00",
          "Tourist Arrivals": 4441914
         },
         {
          "Country": "IT",
          "Date": "2014-03-01T00:00:00",
          "Tourist Arrivals": 5678972
         },
         {
          "Country": "IT",
          "Date": "2014-04-01T00:00:00",
          "Tourist Arrivals": 7064115
         },
         {
          "Country": "IT",
          "Date": "2014-05-01T00:00:00",
          "Tourist Arrivals": 8136241
         },
         {
          "Country": "IT",
          "Date": "2014-06-01T00:00:00",
          "Tourist Arrivals": 9044032
         },
         {
          "Country": "IT",
          "Date": "2014-07-01T00:00:00",
          "Tourist Arrivals": 10189469
         },
         {
          "Country": "IT",
          "Date": "2014-08-01T00:00:00",
          "Tourist Arrivals": 11096204
         },
         {
          "Country": "IT",
          "Date": "2014-09-01T00:00:00",
          "Tourist Arrivals": 8698963
         },
         {
          "Country": "IT",
          "Date": "2014-10-01T00:00:00",
          "Tourist Arrivals": 6697490
         },
         {
          "Country": "IT",
          "Date": "2014-11-01T00:00:00",
          "Tourist Arrivals": 4280739
         },
         {
          "Country": "IT",
          "Date": "2014-12-01T00:00:00",
          "Tourist Arrivals": 4724586
         },
         {
          "Country": "IT",
          "Date": "2015-01-01T00:00:00",
          "Tourist Arrivals": 4372586
         },
         {
          "Country": "IT",
          "Date": "2015-02-01T00:00:00",
          "Tourist Arrivals": 4800981
         },
         {
          "Country": "IT",
          "Date": "2015-03-01T00:00:00",
          "Tourist Arrivals": 5681008
         },
         {
          "Country": "IT",
          "Date": "2015-04-01T00:00:00",
          "Tourist Arrivals": 7134120
         },
         {
          "Country": "IT",
          "Date": "2015-05-01T00:00:00",
          "Tourist Arrivals": 8970471
         },
         {
          "Country": "IT",
          "Date": "2015-06-01T00:00:00",
          "Tourist Arrivals": 9344541
         },
         {
          "Country": "IT",
          "Date": "2015-07-01T00:00:00",
          "Tourist Arrivals": 11125505
         },
         {
          "Country": "IT",
          "Date": "2015-08-01T00:00:00",
          "Tourist Arrivals": 11895572
         },
         {
          "Country": "IT",
          "Date": "2015-09-01T00:00:00",
          "Tourist Arrivals": 9248127
         },
         {
          "Country": "IT",
          "Date": "2015-10-01T00:00:00",
          "Tourist Arrivals": 7203700
         },
         {
          "Country": "IT",
          "Date": "2015-11-01T00:00:00",
          "Tourist Arrivals": 4391275
         },
         {
          "Country": "IT",
          "Date": "2015-12-01T00:00:00",
          "Tourist Arrivals": 4851710
         },
         {
          "Country": "IT",
          "Date": "2016-01-01T00:00:00",
          "Tourist Arrivals": 4530563
         },
         {
          "Country": "IT",
          "Date": "2016-02-01T00:00:00",
          "Tourist Arrivals": 5099078
         },
         {
          "Country": "IT",
          "Date": "2016-03-01T00:00:00",
          "Tourist Arrivals": 6337016
         },
         {
          "Country": "IT",
          "Date": "2016-04-01T00:00:00",
          "Tourist Arrivals": 6946463
         },
         {
          "Country": "IT",
          "Date": "2016-05-01T00:00:00",
          "Tourist Arrivals": 8338111
         },
         {
          "Country": "IT",
          "Date": "2016-06-01T00:00:00",
          "Tourist Arrivals": 9485499
         },
         {
          "Country": "IT",
          "Date": "2016-07-01T00:00:00",
          "Tourist Arrivals": 11755553
         },
         {
          "Country": "IT",
          "Date": "2016-08-01T00:00:00",
          "Tourist Arrivals": 11422615
         },
         {
          "Country": "IT",
          "Date": "2016-09-01T00:00:00",
          "Tourist Arrivals": 9433150
         },
         {
          "Country": "IT",
          "Date": "2016-10-01T00:00:00",
          "Tourist Arrivals": 7320777
         },
         {
          "Country": "IT",
          "Date": "2016-11-01T00:00:00",
          "Tourist Arrivals": 4523557
         },
         {
          "Country": "IT",
          "Date": "2016-12-01T00:00:00",
          "Tourist Arrivals": 5063842
         },
         {
          "Country": "IT",
          "Date": "2017-01-01T00:00:00",
          "Tourist Arrivals": 4772747
         },
         {
          "Country": "IT",
          "Date": "2017-02-01T00:00:00",
          "Tourist Arrivals": 5108877
         },
         {
          "Country": "IT",
          "Date": "2017-03-01T00:00:00",
          "Tourist Arrivals": 6056440
         },
         {
          "Country": "IT",
          "Date": "2017-04-01T00:00:00",
          "Tourist Arrivals": 8220021
         },
         {
          "Country": "IT",
          "Date": "2017-05-01T00:00:00",
          "Tourist Arrivals": 8322918
         },
         {
          "Country": "IT",
          "Date": "2017-06-01T00:00:00",
          "Tourist Arrivals": 10519951
         },
         {
          "Country": "IT",
          "Date": "2017-07-01T00:00:00",
          "Tourist Arrivals": 11933697
         },
         {
          "Country": "IT",
          "Date": "2017-08-01T00:00:00",
          "Tourist Arrivals": 11567765
         },
         {
          "Country": "IT",
          "Date": "2017-09-01T00:00:00",
          "Tourist Arrivals": 9625706
         },
         {
          "Country": "IT",
          "Date": "2017-10-01T00:00:00",
          "Tourist Arrivals": 7401129
         },
         {
          "Country": "IT",
          "Date": "2017-11-01T00:00:00",
          "Tourist Arrivals": 4817633
         },
         {
          "Country": "IT",
          "Date": "2017-12-01T00:00:00",
          "Tourist Arrivals": 5443284
         },
         {
          "Country": "IT",
          "Date": "2018-01-01T00:00:00",
          "Tourist Arrivals": 4729026
         },
         {
          "Country": "IT",
          "Date": "2018-02-01T00:00:00",
          "Tourist Arrivals": 5383709
         },
         {
          "Country": "IT",
          "Date": "2018-03-01T00:00:00",
          "Tourist Arrivals": 6779476
         },
         {
          "Country": "IT",
          "Date": "2018-04-01T00:00:00",
          "Tourist Arrivals": 8025649
         },
         {
          "Country": "IT",
          "Date": "2018-05-01T00:00:00",
          "Tourist Arrivals": 9066367
         },
         {
          "Country": "IT",
          "Date": "2018-06-01T00:00:00",
          "Tourist Arrivals": 10728751
         },
         {
          "Country": "IT",
          "Date": "2018-07-01T00:00:00",
          "Tourist Arrivals": 11482751
         },
         {
          "Country": "IT",
          "Date": "2018-08-01T00:00:00",
          "Tourist Arrivals": 11817246
         },
         {
          "Country": "IT",
          "Date": "2018-09-01T00:00:00",
          "Tourist Arrivals": 10049088
         },
         {
          "Country": "IT",
          "Date": "2018-10-01T00:00:00",
          "Tourist Arrivals": 7462294
         },
         {
          "Country": "IT",
          "Date": "2018-11-01T00:00:00",
          "Tourist Arrivals": 5126598
         },
         {
          "Country": "IT",
          "Date": "2018-12-01T00:00:00",
          "Tourist Arrivals": 5550186
         },
         {
          "Country": "IT",
          "Date": "2019-01-01T00:00:00",
          "Tourist Arrivals": 4779780
         },
         {
          "Country": "IT",
          "Date": "2019-02-01T00:00:00",
          "Tourist Arrivals": 5401907
         },
         {
          "Country": "IT",
          "Date": "2019-03-01T00:00:00",
          "Tourist Arrivals": 6442451
         },
         {
          "Country": "IT",
          "Date": "2019-04-01T00:00:00",
          "Tourist Arrivals": 7996564
         },
         {
          "Country": "IT",
          "Date": "2019-05-01T00:00:00",
          "Tourist Arrivals": 8484623
         },
         {
          "Country": "IT",
          "Date": "2019-06-01T00:00:00",
          "Tourist Arrivals": 10555177
         },
         {
          "Country": "IT",
          "Date": "2019-07-01T00:00:00",
          "Tourist Arrivals": 11506828
         },
         {
          "Country": "IT",
          "Date": "2019-08-01T00:00:00",
          "Tourist Arrivals": 11649500
         },
         {
          "Country": "IT",
          "Date": "2019-09-01T00:00:00",
          "Tourist Arrivals": 9888817
         },
         {
          "Country": "IT",
          "Date": "2019-10-01T00:00:00",
          "Tourist Arrivals": 7692388
         },
         {
          "Country": "FR",
          "Date": "1990-01-01T00:00:00",
          "Tourist Arrivals": null
         },
         {
          "Country": "FR",
          "Date": "1990-02-01T00:00:00",
          "Tourist Arrivals": null
         },
         {
          "Country": "FR",
          "Date": "1990-03-01T00:00:00",
          "Tourist Arrivals": null
         },
         {
          "Country": "FR",
          "Date": "1990-04-01T00:00:00",
          "Tourist Arrivals": null
         },
         {
          "Country": "FR",
          "Date": "1990-05-01T00:00:00",
          "Tourist Arrivals": null
         },
         {
          "Country": "FR",
          "Date": "1990-06-01T00:00:00",
          "Tourist Arrivals": null
         },
         {
          "Country": "FR",
          "Date": "1990-07-01T00:00:00",
          "Tourist Arrivals": null
         },
         {
          "Country": "FR",
          "Date": "1990-08-01T00:00:00",
          "Tourist Arrivals": null
         },
         {
          "Country": "FR",
          "Date": "1990-09-01T00:00:00",
          "Tourist Arrivals": null
         },
         {
          "Country": "FR",
          "Date": "1990-10-01T00:00:00",
          "Tourist Arrivals": null
         },
         {
          "Country": "FR",
          "Date": "1990-11-01T00:00:00",
          "Tourist Arrivals": null
         },
         {
          "Country": "FR",
          "Date": "1990-12-01T00:00:00",
          "Tourist Arrivals": null
         },
         {
          "Country": "FR",
          "Date": "1991-01-01T00:00:00",
          "Tourist Arrivals": null
         },
         {
          "Country": "FR",
          "Date": "1991-02-01T00:00:00",
          "Tourist Arrivals": null
         },
         {
          "Country": "FR",
          "Date": "1991-03-01T00:00:00",
          "Tourist Arrivals": null
         },
         {
          "Country": "FR",
          "Date": "1991-04-01T00:00:00",
          "Tourist Arrivals": null
         },
         {
          "Country": "FR",
          "Date": "1991-05-01T00:00:00",
          "Tourist Arrivals": null
         },
         {
          "Country": "FR",
          "Date": "1991-06-01T00:00:00",
          "Tourist Arrivals": null
         },
         {
          "Country": "FR",
          "Date": "1991-07-01T00:00:00",
          "Tourist Arrivals": null
         },
         {
          "Country": "FR",
          "Date": "1991-08-01T00:00:00",
          "Tourist Arrivals": null
         },
         {
          "Country": "FR",
          "Date": "1991-09-01T00:00:00",
          "Tourist Arrivals": null
         },
         {
          "Country": "FR",
          "Date": "1991-10-01T00:00:00",
          "Tourist Arrivals": null
         },
         {
          "Country": "FR",
          "Date": "1991-11-01T00:00:00",
          "Tourist Arrivals": null
         },
         {
          "Country": "FR",
          "Date": "1991-12-01T00:00:00",
          "Tourist Arrivals": null
         },
         {
          "Country": "FR",
          "Date": "1992-01-01T00:00:00",
          "Tourist Arrivals": null
         },
         {
          "Country": "FR",
          "Date": "1992-02-01T00:00:00",
          "Tourist Arrivals": null
         },
         {
          "Country": "FR",
          "Date": "1992-03-01T00:00:00",
          "Tourist Arrivals": null
         },
         {
          "Country": "FR",
          "Date": "1992-04-01T00:00:00",
          "Tourist Arrivals": null
         },
         {
          "Country": "FR",
          "Date": "1992-05-01T00:00:00",
          "Tourist Arrivals": null
         },
         {
          "Country": "FR",
          "Date": "1992-06-01T00:00:00",
          "Tourist Arrivals": null
         },
         {
          "Country": "FR",
          "Date": "1992-07-01T00:00:00",
          "Tourist Arrivals": null
         },
         {
          "Country": "FR",
          "Date": "1992-08-01T00:00:00",
          "Tourist Arrivals": null
         },
         {
          "Country": "FR",
          "Date": "1992-09-01T00:00:00",
          "Tourist Arrivals": null
         },
         {
          "Country": "FR",
          "Date": "1992-10-01T00:00:00",
          "Tourist Arrivals": null
         },
         {
          "Country": "FR",
          "Date": "1992-11-01T00:00:00",
          "Tourist Arrivals": null
         },
         {
          "Country": "FR",
          "Date": "1992-12-01T00:00:00",
          "Tourist Arrivals": null
         },
         {
          "Country": "FR",
          "Date": "1993-01-01T00:00:00",
          "Tourist Arrivals": 4231516
         },
         {
          "Country": "FR",
          "Date": "1993-02-01T00:00:00",
          "Tourist Arrivals": 4355321
         },
         {
          "Country": "FR",
          "Date": "1993-03-01T00:00:00",
          "Tourist Arrivals": 5269730
         },
         {
          "Country": "FR",
          "Date": "1993-04-01T00:00:00",
          "Tourist Arrivals": 6505069
         },
         {
          "Country": "FR",
          "Date": "1993-05-01T00:00:00",
          "Tourist Arrivals": 7359948
         },
         {
          "Country": "FR",
          "Date": "1993-06-01T00:00:00",
          "Tourist Arrivals": 7690229
         },
         {
          "Country": "FR",
          "Date": "1993-07-01T00:00:00",
          "Tourist Arrivals": 8547599
         },
         {
          "Country": "FR",
          "Date": "1993-08-01T00:00:00",
          "Tourist Arrivals": 9396528
         },
         {
          "Country": "FR",
          "Date": "1993-09-01T00:00:00",
          "Tourist Arrivals": 8020111
         },
         {
          "Country": "FR",
          "Date": "1993-10-01T00:00:00",
          "Tourist Arrivals": 6437523
         },
         {
          "Country": "FR",
          "Date": "1993-11-01T00:00:00",
          "Tourist Arrivals": 4387058
         },
         {
          "Country": "FR",
          "Date": "1993-12-01T00:00:00",
          "Tourist Arrivals": 4179622
         },
         {
          "Country": "FR",
          "Date": "1994-01-01T00:00:00",
          "Tourist Arrivals": 4117549
         },
         {
          "Country": "FR",
          "Date": "1994-02-01T00:00:00",
          "Tourist Arrivals": 4368478
         },
         {
          "Country": "FR",
          "Date": "1994-03-01T00:00:00",
          "Tourist Arrivals": 5552921
         },
         {
          "Country": "FR",
          "Date": "1994-04-01T00:00:00",
          "Tourist Arrivals": 6313526
         },
         {
          "Country": "FR",
          "Date": "1994-05-01T00:00:00",
          "Tourist Arrivals": 7211616
         },
         {
          "Country": "FR",
          "Date": "1994-06-01T00:00:00",
          "Tourist Arrivals": 7776864
         },
         {
          "Country": "FR",
          "Date": "1994-07-01T00:00:00",
          "Tourist Arrivals": 8756841
         },
         {
          "Country": "FR",
          "Date": "1994-08-01T00:00:00",
          "Tourist Arrivals": 9562958
         },
         {
          "Country": "FR",
          "Date": "1994-09-01T00:00:00",
          "Tourist Arrivals": 8263179
         },
         {
          "Country": "FR",
          "Date": "1994-10-01T00:00:00",
          "Tourist Arrivals": 6665517
         },
         {
          "Country": "FR",
          "Date": "1994-11-01T00:00:00",
          "Tourist Arrivals": 4653332
         },
         {
          "Country": "FR",
          "Date": "1994-12-01T00:00:00",
          "Tourist Arrivals": 4427505
         },
         {
          "Country": "FR",
          "Date": "1995-01-01T00:00:00",
          "Tourist Arrivals": 4269970
         },
         {
          "Country": "FR",
          "Date": "1995-02-01T00:00:00",
          "Tourist Arrivals": 4514412
         },
         {
          "Country": "FR",
          "Date": "1995-03-01T00:00:00",
          "Tourist Arrivals": 5592108
         },
         {
          "Country": "FR",
          "Date": "1995-04-01T00:00:00",
          "Tourist Arrivals": 6843051
         },
         {
          "Country": "FR",
          "Date": "1995-05-01T00:00:00",
          "Tourist Arrivals": 7344987
         },
         {
          "Country": "FR",
          "Date": "1995-06-01T00:00:00",
          "Tourist Arrivals": 8303378
         },
         {
          "Country": "FR",
          "Date": "1995-07-01T00:00:00",
          "Tourist Arrivals": 8891009
         },
         {
          "Country": "FR",
          "Date": "1995-08-01T00:00:00",
          "Tourist Arrivals": 9276207
         },
         {
          "Country": "FR",
          "Date": "1995-09-01T00:00:00",
          "Tourist Arrivals": 8229231
         },
         {
          "Country": "FR",
          "Date": "1995-10-01T00:00:00",
          "Tourist Arrivals": 6657147
         },
         {
          "Country": "FR",
          "Date": "1995-11-01T00:00:00",
          "Tourist Arrivals": 4837294
         },
         {
          "Country": "FR",
          "Date": "1995-12-01T00:00:00",
          "Tourist Arrivals": 4132139
         },
         {
          "Country": "FR",
          "Date": "1996-01-01T00:00:00",
          "Tourist Arrivals": 4260861
         },
         {
          "Country": "FR",
          "Date": "1996-02-01T00:00:00",
          "Tourist Arrivals": 4706053
         },
         {
          "Country": "FR",
          "Date": "1996-03-01T00:00:00",
          "Tourist Arrivals": 5815773
         },
         {
          "Country": "FR",
          "Date": "1996-04-01T00:00:00",
          "Tourist Arrivals": 6739475
         },
         {
          "Country": "FR",
          "Date": "1996-05-01T00:00:00",
          "Tourist Arrivals": 7278849
         },
         {
          "Country": "FR",
          "Date": "1996-06-01T00:00:00",
          "Tourist Arrivals": 8089061
         },
         {
          "Country": "FR",
          "Date": "1996-07-01T00:00:00",
          "Tourist Arrivals": 8712295
         },
         {
          "Country": "FR",
          "Date": "1996-08-01T00:00:00",
          "Tourist Arrivals": 9506594
         },
         {
          "Country": "FR",
          "Date": "1996-09-01T00:00:00",
          "Tourist Arrivals": 8055512
         },
         {
          "Country": "FR",
          "Date": "1996-10-01T00:00:00",
          "Tourist Arrivals": 6838498
         },
         {
          "Country": "FR",
          "Date": "1996-11-01T00:00:00",
          "Tourist Arrivals": 4940530
         },
         {
          "Country": "FR",
          "Date": "1996-12-01T00:00:00",
          "Tourist Arrivals": 4496435
         },
         {
          "Country": "FR",
          "Date": "1997-01-01T00:00:00",
          "Tourist Arrivals": 4241163
         },
         {
          "Country": "FR",
          "Date": "1997-02-01T00:00:00",
          "Tourist Arrivals": 4743975
         },
         {
          "Country": "FR",
          "Date": "1997-03-01T00:00:00",
          "Tourist Arrivals": 6231087
         },
         {
          "Country": "FR",
          "Date": "1997-04-01T00:00:00",
          "Tourist Arrivals": 6579014
         },
         {
          "Country": "FR",
          "Date": "1997-05-01T00:00:00",
          "Tourist Arrivals": 7939897
         },
         {
          "Country": "FR",
          "Date": "1997-06-01T00:00:00",
          "Tourist Arrivals": 8271985
         },
         {
          "Country": "FR",
          "Date": "1997-07-01T00:00:00",
          "Tourist Arrivals": 9361175
         },
         {
          "Country": "FR",
          "Date": "1997-08-01T00:00:00",
          "Tourist Arrivals": 10491109
         },
         {
          "Country": "FR",
          "Date": "1997-09-01T00:00:00",
          "Tourist Arrivals": 8687288
         },
         {
          "Country": "FR",
          "Date": "1997-10-01T00:00:00",
          "Tourist Arrivals": 7244290
         },
         {
          "Country": "FR",
          "Date": "1997-11-01T00:00:00",
          "Tourist Arrivals": 4959264
         },
         {
          "Country": "FR",
          "Date": "1997-12-01T00:00:00",
          "Tourist Arrivals": 4896571
         },
         {
          "Country": "FR",
          "Date": "1998-01-01T00:00:00",
          "Tourist Arrivals": 4693513
         },
         {
          "Country": "FR",
          "Date": "1998-02-01T00:00:00",
          "Tourist Arrivals": 5021861
         },
         {
          "Country": "FR",
          "Date": "1998-03-01T00:00:00",
          "Tourist Arrivals": 6184213
         },
         {
          "Country": "FR",
          "Date": "1998-04-01T00:00:00",
          "Tourist Arrivals": 7493170
         },
         {
          "Country": "FR",
          "Date": "1998-05-01T00:00:00",
          "Tourist Arrivals": 8635034
         },
         {
          "Country": "FR",
          "Date": "1998-06-01T00:00:00",
          "Tourist Arrivals": 8594904
         },
         {
          "Country": "FR",
          "Date": "1998-07-01T00:00:00",
          "Tourist Arrivals": 9585305
         },
         {
          "Country": "FR",
          "Date": "1998-08-01T00:00:00",
          "Tourist Arrivals": 10699358
         },
         {
          "Country": "FR",
          "Date": "1998-09-01T00:00:00",
          "Tourist Arrivals": 8974332
         },
         {
          "Country": "FR",
          "Date": "1998-10-01T00:00:00",
          "Tourist Arrivals": 7556579
         },
         {
          "Country": "FR",
          "Date": "1998-11-01T00:00:00",
          "Tourist Arrivals": 5137451
         },
         {
          "Country": "FR",
          "Date": "1998-12-01T00:00:00",
          "Tourist Arrivals": 5109068
         },
         {
          "Country": "FR",
          "Date": "1999-01-01T00:00:00",
          "Tourist Arrivals": 4957078
         },
         {
          "Country": "FR",
          "Date": "1999-02-01T00:00:00",
          "Tourist Arrivals": 5477471
         },
         {
          "Country": "FR",
          "Date": "1999-03-01T00:00:00",
          "Tourist Arrivals": 6822798
         },
         {
          "Country": "FR",
          "Date": "1999-04-01T00:00:00",
          "Tourist Arrivals": 7765252
         },
         {
          "Country": "FR",
          "Date": "1999-05-01T00:00:00",
          "Tourist Arrivals": 9214265
         },
         {
          "Country": "FR",
          "Date": "1999-06-01T00:00:00",
          "Tourist Arrivals": 9605244
         },
         {
          "Country": "FR",
          "Date": "1999-07-01T00:00:00",
          "Tourist Arrivals": 11032651
         },
         {
          "Country": "FR",
          "Date": "1999-08-01T00:00:00",
          "Tourist Arrivals": 11769763
         },
         {
          "Country": "FR",
          "Date": "1999-09-01T00:00:00",
          "Tourist Arrivals": 9822868
         },
         {
          "Country": "FR",
          "Date": "1999-10-01T00:00:00",
          "Tourist Arrivals": 8169987
         },
         {
          "Country": "FR",
          "Date": "1999-11-01T00:00:00",
          "Tourist Arrivals": 6000341
         },
         {
          "Country": "FR",
          "Date": "1999-12-01T00:00:00",
          "Tourist Arrivals": 5757824
         },
         {
          "Country": "FR",
          "Date": "2000-01-01T00:00:00",
          "Tourist Arrivals": 5527118
         },
         {
          "Country": "FR",
          "Date": "2000-02-01T00:00:00",
          "Tourist Arrivals": 6151213
         },
         {
          "Country": "FR",
          "Date": "2000-03-01T00:00:00",
          "Tourist Arrivals": 7452989
         },
         {
          "Country": "FR",
          "Date": "2000-04-01T00:00:00",
          "Tourist Arrivals": 8925091
         },
         {
          "Country": "FR",
          "Date": "2000-05-01T00:00:00",
          "Tourist Arrivals": 9075355
         },
         {
          "Country": "FR",
          "Date": "2000-06-01T00:00:00",
          "Tourist Arrivals": 10443068
         },
         {
          "Country": "FR",
          "Date": "2000-07-01T00:00:00",
          "Tourist Arrivals": 11281263
         },
         {
          "Country": "FR",
          "Date": "2000-08-01T00:00:00",
          "Tourist Arrivals": 11657467
         },
         {
          "Country": "FR",
          "Date": "2000-09-01T00:00:00",
          "Tourist Arrivals": 9861667
         },
         {
          "Country": "FR",
          "Date": "2000-10-01T00:00:00",
          "Tourist Arrivals": 8289371
         },
         {
          "Country": "FR",
          "Date": "2000-11-01T00:00:00",
          "Tourist Arrivals": 6439713
         },
         {
          "Country": "FR",
          "Date": "2000-12-01T00:00:00",
          "Tourist Arrivals": 6282433
         },
         {
          "Country": "FR",
          "Date": "2001-01-01T00:00:00",
          "Tourist Arrivals": 5708823
         },
         {
          "Country": "FR",
          "Date": "2001-02-01T00:00:00",
          "Tourist Arrivals": 6210514
         },
         {
          "Country": "FR",
          "Date": "2001-03-01T00:00:00",
          "Tourist Arrivals": 7308714
         },
         {
          "Country": "FR",
          "Date": "2001-04-01T00:00:00",
          "Tourist Arrivals": 8626105
         },
         {
          "Country": "FR",
          "Date": "2001-05-01T00:00:00",
          "Tourist Arrivals": 9190466
         },
         {
          "Country": "FR",
          "Date": "2001-06-01T00:00:00",
          "Tourist Arrivals": 10422463
         },
         {
          "Country": "FR",
          "Date": "2001-07-01T00:00:00",
          "Tourist Arrivals": 11139723
         },
         {
          "Country": "FR",
          "Date": "2001-08-01T00:00:00",
          "Tourist Arrivals": 11947020
         },
         {
          "Country": "FR",
          "Date": "2001-09-01T00:00:00",
          "Tourist Arrivals": 9920170
         },
         {
          "Country": "FR",
          "Date": "2001-10-01T00:00:00",
          "Tourist Arrivals": 8168768
         },
         {
          "Country": "FR",
          "Date": "2001-11-01T00:00:00",
          "Tourist Arrivals": 6413346
         },
         {
          "Country": "FR",
          "Date": "2001-12-01T00:00:00",
          "Tourist Arrivals": 6152915
         },
         {
          "Country": "FR",
          "Date": "2002-01-01T00:00:00",
          "Tourist Arrivals": 5629270
         },
         {
          "Country": "FR",
          "Date": "2002-02-01T00:00:00",
          "Tourist Arrivals": 6218178
         },
         {
          "Country": "FR",
          "Date": "2002-03-01T00:00:00",
          "Tourist Arrivals": 7891792
         },
         {
          "Country": "FR",
          "Date": "2002-04-01T00:00:00",
          "Tourist Arrivals": 8119023
         },
         {
          "Country": "FR",
          "Date": "2002-05-01T00:00:00",
          "Tourist Arrivals": 9384491
         },
         {
          "Country": "FR",
          "Date": "2002-06-01T00:00:00",
          "Tourist Arrivals": 9975582
         },
         {
          "Country": "FR",
          "Date": "2002-07-01T00:00:00",
          "Tourist Arrivals": 10940735
         },
         {
          "Country": "FR",
          "Date": "2002-08-01T00:00:00",
          "Tourist Arrivals": 11906211
         },
         {
          "Country": "FR",
          "Date": "2002-09-01T00:00:00",
          "Tourist Arrivals": 10001821
         },
         {
          "Country": "FR",
          "Date": "2002-10-01T00:00:00",
          "Tourist Arrivals": 8527690
         },
         {
          "Country": "FR",
          "Date": "2002-11-01T00:00:00",
          "Tourist Arrivals": 6574727
         },
         {
          "Country": "FR",
          "Date": "2002-12-01T00:00:00",
          "Tourist Arrivals": 6176265
         },
         {
          "Country": "FR",
          "Date": "2003-01-01T00:00:00",
          "Tourist Arrivals": 5669432
         },
         {
          "Country": "FR",
          "Date": "2003-02-01T00:00:00",
          "Tourist Arrivals": 6178433
         },
         {
          "Country": "FR",
          "Date": "2003-03-01T00:00:00",
          "Tourist Arrivals": 7288274
         },
         {
          "Country": "FR",
          "Date": "2003-04-01T00:00:00",
          "Tourist Arrivals": 8197580
         },
         {
          "Country": "FR",
          "Date": "2003-05-01T00:00:00",
          "Tourist Arrivals": 8895577
         },
         {
          "Country": "FR",
          "Date": "2003-06-01T00:00:00",
          "Tourist Arrivals": 9922901
         },
         {
          "Country": "FR",
          "Date": "2003-07-01T00:00:00",
          "Tourist Arrivals": 10450841
         },
         {
          "Country": "FR",
          "Date": "2003-08-01T00:00:00",
          "Tourist Arrivals": 11280724
         },
         {
          "Country": "FR",
          "Date": "2003-09-01T00:00:00",
          "Tourist Arrivals": 9787013
         },
         {
          "Country": "FR",
          "Date": "2003-10-01T00:00:00",
          "Tourist Arrivals": 8422103
         },
         {
          "Country": "FR",
          "Date": "2003-11-01T00:00:00",
          "Tourist Arrivals": 6371442
         },
         {
          "Country": "FR",
          "Date": "2003-12-01T00:00:00",
          "Tourist Arrivals": 6445200
         },
         {
          "Country": "FR",
          "Date": "2004-01-01T00:00:00",
          "Tourist Arrivals": 5999876
         },
         {
          "Country": "FR",
          "Date": "2004-02-01T00:00:00",
          "Tourist Arrivals": 6581803
         },
         {
          "Country": "FR",
          "Date": "2004-03-01T00:00:00",
          "Tourist Arrivals": 7569419
         },
         {
          "Country": "FR",
          "Date": "2004-04-01T00:00:00",
          "Tourist Arrivals": 8560068
         },
         {
          "Country": "FR",
          "Date": "2004-05-01T00:00:00",
          "Tourist Arrivals": 9667217
         },
         {
          "Country": "FR",
          "Date": "2004-06-01T00:00:00",
          "Tourist Arrivals": 10052826
         },
         {
          "Country": "FR",
          "Date": "2004-07-01T00:00:00",
          "Tourist Arrivals": 10969563
         },
         {
          "Country": "FR",
          "Date": "2004-08-01T00:00:00",
          "Tourist Arrivals": 11287351
         },
         {
          "Country": "FR",
          "Date": "2004-09-01T00:00:00",
          "Tourist Arrivals": 10257803
         },
         {
          "Country": "FR",
          "Date": "2004-10-01T00:00:00",
          "Tourist Arrivals": 9013416
         },
         {
          "Country": "FR",
          "Date": "2004-11-01T00:00:00",
          "Tourist Arrivals": 6664292
         },
         {
          "Country": "FR",
          "Date": "2004-12-01T00:00:00",
          "Tourist Arrivals": 7069733
         },
         {
          "Country": "FR",
          "Date": "2005-01-01T00:00:00",
          "Tourist Arrivals": 6565534
         },
         {
          "Country": "FR",
          "Date": "2005-02-01T00:00:00",
          "Tourist Arrivals": 6727781
         },
         {
          "Country": "FR",
          "Date": "2005-03-01T00:00:00",
          "Tourist Arrivals": 8396497
         },
         {
          "Country": "FR",
          "Date": "2005-04-01T00:00:00",
          "Tourist Arrivals": 8497597
         },
         {
          "Country": "FR",
          "Date": "2005-05-01T00:00:00",
          "Tourist Arrivals": 10069071
         },
         {
          "Country": "FR",
          "Date": "2005-06-01T00:00:00",
          "Tourist Arrivals": 10591329
         },
         {
          "Country": "FR",
          "Date": "2005-07-01T00:00:00",
          "Tourist Arrivals": 11513255
         },
         {
          "Country": "FR",
          "Date": "2005-08-01T00:00:00",
          "Tourist Arrivals": 11875121
         },
         {
          "Country": "FR",
          "Date": "2005-09-01T00:00:00",
          "Tourist Arrivals": 10495421
         },
         {
          "Country": "FR",
          "Date": "2005-10-01T00:00:00",
          "Tourist Arrivals": 9253718
         },
         {
          "Country": "FR",
          "Date": "2005-11-01T00:00:00",
          "Tourist Arrivals": 7118207
         },
         {
          "Country": "FR",
          "Date": "2005-12-01T00:00:00",
          "Tourist Arrivals": 6994777
         },
         {
          "Country": "FR",
          "Date": "2006-01-01T00:00:00",
          "Tourist Arrivals": 6422103
         },
         {
          "Country": "FR",
          "Date": "2006-02-01T00:00:00",
          "Tourist Arrivals": 6617688
         },
         {
          "Country": "FR",
          "Date": "2006-03-01T00:00:00",
          "Tourist Arrivals": 7883715
         },
         {
          "Country": "FR",
          "Date": "2006-04-01T00:00:00",
          "Tourist Arrivals": 9156434
         },
         {
          "Country": "FR",
          "Date": "2006-05-01T00:00:00",
          "Tourist Arrivals": 9813675
         },
         {
          "Country": "FR",
          "Date": "2006-06-01T00:00:00",
          "Tourist Arrivals": 10644379
         },
         {
          "Country": "FR",
          "Date": "2006-07-01T00:00:00",
          "Tourist Arrivals": 11171424
         },
         {
          "Country": "FR",
          "Date": "2006-08-01T00:00:00",
          "Tourist Arrivals": 11345971
         },
         {
          "Country": "FR",
          "Date": "2006-09-01T00:00:00",
          "Tourist Arrivals": 10471058
         },
         {
          "Country": "FR",
          "Date": "2006-10-01T00:00:00",
          "Tourist Arrivals": 8859372
         },
         {
          "Country": "FR",
          "Date": "2006-11-01T00:00:00",
          "Tourist Arrivals": 7149839
         },
         {
          "Country": "FR",
          "Date": "2006-12-01T00:00:00",
          "Tourist Arrivals": 7170819
         },
         {
          "Country": "FR",
          "Date": "2007-01-01T00:00:00",
          "Tourist Arrivals": 6364505
         },
         {
          "Country": "FR",
          "Date": "2007-02-01T00:00:00",
          "Tourist Arrivals": 6667389
         },
         {
          "Country": "FR",
          "Date": "2007-03-01T00:00:00",
          "Tourist Arrivals": 8242805
         },
         {
          "Country": "FR",
          "Date": "2007-04-01T00:00:00",
          "Tourist Arrivals": 9301779
         },
         {
          "Country": "FR",
          "Date": "2007-05-01T00:00:00",
          "Tourist Arrivals": 9736043
         },
         {
          "Country": "FR",
          "Date": "2007-06-01T00:00:00",
          "Tourist Arrivals": 10809451
         },
         {
          "Country": "FR",
          "Date": "2007-07-01T00:00:00",
          "Tourist Arrivals": 11597921
         },
         {
          "Country": "FR",
          "Date": "2007-08-01T00:00:00",
          "Tourist Arrivals": 12048875
         },
         {
          "Country": "FR",
          "Date": "2007-09-01T00:00:00",
          "Tourist Arrivals": 10760127
         },
         {
          "Country": "FR",
          "Date": "2007-10-01T00:00:00",
          "Tourist Arrivals": 9304308
         },
         {
          "Country": "FR",
          "Date": "2007-11-01T00:00:00",
          "Tourist Arrivals": 7471925
         },
         {
          "Country": "FR",
          "Date": "2007-12-01T00:00:00",
          "Tourist Arrivals": 7359771
         },
         {
          "Country": "FR",
          "Date": "2008-01-01T00:00:00",
          "Tourist Arrivals": 6440471
         },
         {
          "Country": "FR",
          "Date": "2008-02-01T00:00:00",
          "Tourist Arrivals": 7214820
         },
         {
          "Country": "FR",
          "Date": "2008-03-01T00:00:00",
          "Tourist Arrivals": 8393558
         },
         {
          "Country": "FR",
          "Date": "2008-04-01T00:00:00",
          "Tourist Arrivals": 8751818
         },
         {
          "Country": "FR",
          "Date": "2008-05-01T00:00:00",
          "Tourist Arrivals": 10411451
         },
         {
          "Country": "FR",
          "Date": "2008-06-01T00:00:00",
          "Tourist Arrivals": 10622799
         },
         {
          "Country": "FR",
          "Date": "2008-07-01T00:00:00",
          "Tourist Arrivals": 11385588
         },
         {
          "Country": "FR",
          "Date": "2008-08-01T00:00:00",
          "Tourist Arrivals": 11851097
         },
         {
          "Country": "FR",
          "Date": "2008-09-01T00:00:00",
          "Tourist Arrivals": 10274608
         },
         {
          "Country": "FR",
          "Date": "2008-10-01T00:00:00",
          "Tourist Arrivals": 9106073
         },
         {
          "Country": "FR",
          "Date": "2008-11-01T00:00:00",
          "Tourist Arrivals": 6994141
         },
         {
          "Country": "FR",
          "Date": "2008-12-01T00:00:00",
          "Tourist Arrivals": 7231814
         },
         {
          "Country": "FR",
          "Date": "2009-01-01T00:00:00",
          "Tourist Arrivals": 6165100
         },
         {
          "Country": "FR",
          "Date": "2009-02-01T00:00:00",
          "Tourist Arrivals": 6539800
         },
         {
          "Country": "FR",
          "Date": "2009-03-01T00:00:00",
          "Tourist Arrivals": 7474200
         },
         {
          "Country": "FR",
          "Date": "2009-04-01T00:00:00",
          "Tourist Arrivals": 8740100
         },
         {
          "Country": "FR",
          "Date": "2009-05-01T00:00:00",
          "Tourist Arrivals": 9916354
         },
         {
          "Country": "FR",
          "Date": "2009-06-01T00:00:00",
          "Tourist Arrivals": 10090791
         },
         {
          "Country": "FR",
          "Date": "2009-07-01T00:00:00",
          "Tourist Arrivals": 11411818
         },
         {
          "Country": "FR",
          "Date": "2009-08-01T00:00:00",
          "Tourist Arrivals": 11717701
         },
         {
          "Country": "FR",
          "Date": "2009-09-01T00:00:00",
          "Tourist Arrivals": 10025358
         },
         {
          "Country": "FR",
          "Date": "2009-10-01T00:00:00",
          "Tourist Arrivals": 8912370
         },
         {
          "Country": "FR",
          "Date": "2009-11-01T00:00:00",
          "Tourist Arrivals": 6703301
         },
         {
          "Country": "FR",
          "Date": "2009-12-01T00:00:00",
          "Tourist Arrivals": 7123901
         },
         {
          "Country": "FR",
          "Date": "2010-01-01T00:00:00",
          "Tourist Arrivals": 6018294
         },
         {
          "Country": "FR",
          "Date": "2010-02-01T00:00:00",
          "Tourist Arrivals": 6558665
         },
         {
          "Country": "FR",
          "Date": "2010-03-01T00:00:00",
          "Tourist Arrivals": 7825469
         },
         {
          "Country": "FR",
          "Date": "2010-04-01T00:00:00",
          "Tourist Arrivals": 8918480
         },
         {
          "Country": "FR",
          "Date": "2010-05-01T00:00:00",
          "Tourist Arrivals": 10155452
         },
         {
          "Country": "FR",
          "Date": "2010-06-01T00:00:00",
          "Tourist Arrivals": 10533720
         },
         {
          "Country": "FR",
          "Date": "2010-07-01T00:00:00",
          "Tourist Arrivals": 11704636
         },
         {
          "Country": "FR",
          "Date": "2010-08-01T00:00:00",
          "Tourist Arrivals": 11705427
         },
         {
          "Country": "FR",
          "Date": "2010-09-01T00:00:00",
          "Tourist Arrivals": 10433344
         },
         {
          "Country": "FR",
          "Date": "2010-10-01T00:00:00",
          "Tourist Arrivals": 8894445
         },
         {
          "Country": "FR",
          "Date": "2010-11-01T00:00:00",
          "Tourist Arrivals": 6964427
         },
         {
          "Country": "FR",
          "Date": "2010-12-01T00:00:00",
          "Tourist Arrivals": 7069474
         },
         {
          "Country": "FR",
          "Date": "2011-01-01T00:00:00",
          "Tourist Arrivals": 6351714
         },
         {
          "Country": "FR",
          "Date": "2011-02-01T00:00:00",
          "Tourist Arrivals": 6640575
         },
         {
          "Country": "FR",
          "Date": "2011-03-01T00:00:00",
          "Tourist Arrivals": 8017670
         },
         {
          "Country": "FR",
          "Date": "2011-04-01T00:00:00",
          "Tourist Arrivals": 9234944
         },
         {
          "Country": "FR",
          "Date": "2011-05-01T00:00:00",
          "Tourist Arrivals": 9850099
         },
         {
          "Country": "FR",
          "Date": "2011-06-01T00:00:00",
          "Tourist Arrivals": 11254842
         },
         {
          "Country": "FR",
          "Date": "2011-07-01T00:00:00",
          "Tourist Arrivals": 12260186
         },
         {
          "Country": "FR",
          "Date": "2011-08-01T00:00:00",
          "Tourist Arrivals": 11986705
         },
         {
          "Country": "FR",
          "Date": "2011-09-01T00:00:00",
          "Tourist Arrivals": 10679060
         },
         {
          "Country": "FR",
          "Date": "2011-10-01T00:00:00",
          "Tourist Arrivals": 9441032
         },
         {
          "Country": "FR",
          "Date": "2011-11-01T00:00:00",
          "Tourist Arrivals": 7239935
         },
         {
          "Country": "FR",
          "Date": "2011-12-01T00:00:00",
          "Tourist Arrivals": 7267115
         },
         {
          "Country": "FR",
          "Date": "2012-01-01T00:00:00",
          "Tourist Arrivals": 6478931
         },
         {
          "Country": "FR",
          "Date": "2012-02-01T00:00:00",
          "Tourist Arrivals": 6837135
         },
         {
          "Country": "FR",
          "Date": "2012-03-01T00:00:00",
          "Tourist Arrivals": 8312542
         },
         {
          "Country": "FR",
          "Date": "2012-04-01T00:00:00",
          "Tourist Arrivals": 9031209
         },
         {
          "Country": "FR",
          "Date": "2012-05-01T00:00:00",
          "Tourist Arrivals": 9929483
         },
         {
          "Country": "FR",
          "Date": "2012-06-01T00:00:00",
          "Tourist Arrivals": 10901716
         },
         {
          "Country": "FR",
          "Date": "2012-07-01T00:00:00",
          "Tourist Arrivals": 11926501
         },
         {
          "Country": "FR",
          "Date": "2012-08-01T00:00:00",
          "Tourist Arrivals": 11988272
         },
         {
          "Country": "FR",
          "Date": "2012-09-01T00:00:00",
          "Tourist Arrivals": 10664165
         },
         {
          "Country": "FR",
          "Date": "2012-10-01T00:00:00",
          "Tourist Arrivals": 9156124
         },
         {
          "Country": "FR",
          "Date": "2012-11-01T00:00:00",
          "Tourist Arrivals": 7459403
         },
         {
          "Country": "FR",
          "Date": "2012-12-01T00:00:00",
          "Tourist Arrivals": 7300744
         },
         {
          "Country": "FR",
          "Date": "2013-01-01T00:00:00",
          "Tourist Arrivals": 6369735
         },
         {
          "Country": "FR",
          "Date": "2013-02-01T00:00:00",
          "Tourist Arrivals": 6831688
         },
         {
          "Country": "FR",
          "Date": "2013-03-01T00:00:00",
          "Tourist Arrivals": 8583015
         },
         {
          "Country": "FR",
          "Date": "2013-04-01T00:00:00",
          "Tourist Arrivals": 8915387
         },
         {
          "Country": "FR",
          "Date": "2013-05-01T00:00:00",
          "Tourist Arrivals": 10575924
         },
         {
          "Country": "FR",
          "Date": "2013-06-01T00:00:00",
          "Tourist Arrivals": 11278350
         },
         {
          "Country": "FR",
          "Date": "2013-07-01T00:00:00",
          "Tourist Arrivals": 12148308
         },
         {
          "Country": "FR",
          "Date": "2013-08-01T00:00:00",
          "Tourist Arrivals": 12913800
         },
         {
          "Country": "FR",
          "Date": "2013-09-01T00:00:00",
          "Tourist Arrivals": 10733545
         },
         {
          "Country": "FR",
          "Date": "2013-10-01T00:00:00",
          "Tourist Arrivals": 9419127
         },
         {
          "Country": "FR",
          "Date": "2013-11-01T00:00:00",
          "Tourist Arrivals": 7489746
         },
         {
          "Country": "FR",
          "Date": "2013-12-01T00:00:00",
          "Tourist Arrivals": 7469355
         },
         {
          "Country": "FR",
          "Date": "2014-01-01T00:00:00",
          "Tourist Arrivals": 6430291
         },
         {
          "Country": "FR",
          "Date": "2014-02-01T00:00:00",
          "Tourist Arrivals": 6866710
         },
         {
          "Country": "FR",
          "Date": "2014-03-01T00:00:00",
          "Tourist Arrivals": 8161487
         },
         {
          "Country": "FR",
          "Date": "2014-04-01T00:00:00",
          "Tourist Arrivals": 9221217
         },
         {
          "Country": "FR",
          "Date": "2014-05-01T00:00:00",
          "Tourist Arrivals": 10169525
         },
         {
          "Country": "FR",
          "Date": "2014-06-01T00:00:00",
          "Tourist Arrivals": 11081971
         },
         {
          "Country": "FR",
          "Date": "2014-07-01T00:00:00",
          "Tourist Arrivals": 11758752
         },
         {
          "Country": "FR",
          "Date": "2014-08-01T00:00:00",
          "Tourist Arrivals": 12855608
         },
         {
          "Country": "FR",
          "Date": "2014-09-01T00:00:00",
          "Tourist Arrivals": 10578807
         },
         {
          "Country": "FR",
          "Date": "2014-10-01T00:00:00",
          "Tourist Arrivals": 9457198
         },
         {
          "Country": "FR",
          "Date": "2014-11-01T00:00:00",
          "Tourist Arrivals": 7154724
         },
         {
          "Country": "FR",
          "Date": "2014-12-01T00:00:00",
          "Tourist Arrivals": 7622998
         },
         {
          "Country": "FR",
          "Date": "2015-01-01T00:00:00",
          "Tourist Arrivals": 6549436
         },
         {
          "Country": "FR",
          "Date": "2015-02-01T00:00:00",
          "Tourist Arrivals": 7137624
         },
         {
          "Country": "FR",
          "Date": "2015-03-01T00:00:00",
          "Tourist Arrivals": 8201674
         },
         {
          "Country": "FR",
          "Date": "2015-04-01T00:00:00",
          "Tourist Arrivals": 9322927
         },
         {
          "Country": "FR",
          "Date": "2015-05-01T00:00:00",
          "Tourist Arrivals": 10746372
         },
         {
          "Country": "FR",
          "Date": "2015-06-01T00:00:00",
          "Tourist Arrivals": 11257638
         },
         {
          "Country": "FR",
          "Date": "2015-07-01T00:00:00",
          "Tourist Arrivals": 12618720
         },
         {
          "Country": "FR",
          "Date": "2015-08-01T00:00:00",
          "Tourist Arrivals": 13060638
         },
         {
          "Country": "FR",
          "Date": "2015-09-01T00:00:00",
          "Tourist Arrivals": 10977572
         },
         {
          "Country": "FR",
          "Date": "2015-10-01T00:00:00",
          "Tourist Arrivals": 9672095
         },
         {
          "Country": "FR",
          "Date": "2015-11-01T00:00:00",
          "Tourist Arrivals": 7090507
         },
         {
          "Country": "FR",
          "Date": "2015-12-01T00:00:00",
          "Tourist Arrivals": 7283749
         },
         {
          "Country": "FR",
          "Date": "2016-01-01T00:00:00",
          "Tourist Arrivals": 6456115
         },
         {
          "Country": "FR",
          "Date": "2016-02-01T00:00:00",
          "Tourist Arrivals": 7277169
         },
         {
          "Country": "FR",
          "Date": "2016-03-01T00:00:00",
          "Tourist Arrivals": 8616284
         },
         {
          "Country": "FR",
          "Date": "2016-04-01T00:00:00",
          "Tourist Arrivals": 9039902
         },
         {
          "Country": "FR",
          "Date": "2016-05-01T00:00:00",
          "Tourist Arrivals": 10493820
         },
         {
          "Country": "FR",
          "Date": "2016-06-01T00:00:00",
          "Tourist Arrivals": 10944590
         },
         {
          "Country": "FR",
          "Date": "2016-07-01T00:00:00",
          "Tourist Arrivals": 12670939
         },
         {
          "Country": "FR",
          "Date": "2016-08-01T00:00:00",
          "Tourist Arrivals": 12332244
         },
         {
          "Country": "FR",
          "Date": "2016-09-01T00:00:00",
          "Tourist Arrivals": 10689469
         },
         {
          "Country": "FR",
          "Date": "2016-10-01T00:00:00",
          "Tourist Arrivals": 9867348
         },
         {
          "Country": "FR",
          "Date": "2016-11-01T00:00:00",
          "Tourist Arrivals": 7621301
         },
         {
          "Country": "FR",
          "Date": "2016-12-01T00:00:00",
          "Tourist Arrivals": 7885616
         },
         {
          "Country": "FR",
          "Date": "2017-01-01T00:00:00",
          "Tourist Arrivals": 6990261
         },
         {
          "Country": "FR",
          "Date": "2017-02-01T00:00:00",
          "Tourist Arrivals": 7388302
         },
         {
          "Country": "FR",
          "Date": "2017-03-01T00:00:00",
          "Tourist Arrivals": 8689731
         },
         {
          "Country": "FR",
          "Date": "2017-04-01T00:00:00",
          "Tourist Arrivals": 10224291
         },
         {
          "Country": "FR",
          "Date": "2017-05-01T00:00:00",
          "Tourist Arrivals": 10544568
         },
         {
          "Country": "FR",
          "Date": "2017-06-01T00:00:00",
          "Tourist Arrivals": 11631420
         },
         {
          "Country": "FR",
          "Date": "2017-07-01T00:00:00",
          "Tourist Arrivals": 13071877
         },
         {
          "Country": "FR",
          "Date": "2017-08-01T00:00:00",
          "Tourist Arrivals": 12940902
         },
         {
          "Country": "FR",
          "Date": "2017-09-01T00:00:00",
          "Tourist Arrivals": 11414804
         },
         {
          "Country": "FR",
          "Date": "2017-10-01T00:00:00",
          "Tourist Arrivals": 10131444
         },
         {
          "Country": "FR",
          "Date": "2017-11-01T00:00:00",
          "Tourist Arrivals": 8063817
         },
         {
          "Country": "FR",
          "Date": "2017-12-01T00:00:00",
          "Tourist Arrivals": 8266987
         },
         {
          "Country": "FR",
          "Date": "2018-01-01T00:00:00",
          "Tourist Arrivals": 7138324
         },
         {
          "Country": "FR",
          "Date": "2018-02-01T00:00:00",
          "Tourist Arrivals": 7516780
         },
         {
          "Country": "FR",
          "Date": "2018-03-01T00:00:00",
          "Tourist Arrivals": 9335085
         },
         {
          "Country": "FR",
          "Date": "2018-04-01T00:00:00",
          "Tourist Arrivals": 9758090
         },
         {
          "Country": "FR",
          "Date": "2018-05-01T00:00:00",
          "Tourist Arrivals": 10829639
         },
         {
          "Country": "FR",
          "Date": "2018-06-01T00:00:00",
          "Tourist Arrivals": 11888719
         },
         {
          "Country": "FR",
          "Date": "2018-07-01T00:00:00",
          "Tourist Arrivals": 13065128
         },
         {
          "Country": "FR",
          "Date": "2018-08-01T00:00:00",
          "Tourist Arrivals": 13411499
         },
         {
          "Country": "FR",
          "Date": "2018-09-01T00:00:00",
          "Tourist Arrivals": 11574174
         },
         {
          "Country": "FR",
          "Date": "2018-10-01T00:00:00",
          "Tourist Arrivals": 10436609
         },
         {
          "Country": "FR",
          "Date": "2018-11-01T00:00:00",
          "Tourist Arrivals": 8266613
         },
         {
          "Country": "FR",
          "Date": "2018-12-01T00:00:00",
          "Tourist Arrivals": 8127067
         },
         {
          "Country": "FR",
          "Date": "2019-01-01T00:00:00",
          "Tourist Arrivals": 7135767
         },
         {
          "Country": "FR",
          "Date": "2019-02-01T00:00:00",
          "Tourist Arrivals": 7679625
         },
         {
          "Country": "FR",
          "Date": "2019-03-01T00:00:00",
          "Tourist Arrivals": 9118018
         },
         {
          "Country": "FR",
          "Date": "2019-04-01T00:00:00",
          "Tourist Arrivals": 3804493
         },
         {
          "Country": "FR",
          "Date": "2019-05-01T00:00:00",
          "Tourist Arrivals": 10677739
         },
         {
          "Country": "FR",
          "Date": "2019-06-01T00:00:00",
          "Tourist Arrivals": 12472500
         },
         {
          "Country": "FR",
          "Date": "2019-07-01T00:00:00",
          "Tourist Arrivals": 13174390
         },
         {
          "Country": "FR",
          "Date": "2019-08-01T00:00:00",
          "Tourist Arrivals": 13692822
         },
         {
          "Country": "FR",
          "Date": "2019-09-01T00:00:00",
          "Tourist Arrivals": 11684845
         },
         {
          "Country": "FR",
          "Date": "2019-10-01T00:00:00",
          "Tourist Arrivals": 10401793
         },
         {
          "Country": "DE",
          "Date": "1990-01-01T00:00:00",
          "Tourist Arrivals": 3185877
         },
         {
          "Country": "DE",
          "Date": "1990-02-01T00:00:00",
          "Tourist Arrivals": 3588879
         },
         {
          "Country": "DE",
          "Date": "1990-03-01T00:00:00",
          "Tourist Arrivals": 4272437
         },
         {
          "Country": "DE",
          "Date": "1990-04-01T00:00:00",
          "Tourist Arrivals": 4689424
         },
         {
          "Country": "DE",
          "Date": "1990-05-01T00:00:00",
          "Tourist Arrivals": 6045278
         },
         {
          "Country": "DE",
          "Date": "1990-06-01T00:00:00",
          "Tourist Arrivals": 5904466
         },
         {
          "Country": "DE",
          "Date": "1990-07-01T00:00:00",
          "Tourist Arrivals": 6106438
         },
         {
          "Country": "DE",
          "Date": "1990-08-01T00:00:00",
          "Tourist Arrivals": 6197367
         },
         {
          "Country": "DE",
          "Date": "1990-09-01T00:00:00",
          "Tourist Arrivals": 6764833
         },
         {
          "Country": "DE",
          "Date": "1990-10-01T00:00:00",
          "Tourist Arrivals": 6272722
         },
         {
          "Country": "DE",
          "Date": "1990-11-01T00:00:00",
          "Tourist Arrivals": 4447462
         },
         {
          "Country": "DE",
          "Date": "1990-12-01T00:00:00",
          "Tourist Arrivals": 3656181
         },
         {
          "Country": "DE",
          "Date": "1991-01-01T00:00:00",
          "Tourist Arrivals": 3384978
         },
         {
          "Country": "DE",
          "Date": "1991-02-01T00:00:00",
          "Tourist Arrivals": 3677255
         },
         {
          "Country": "DE",
          "Date": "1991-03-01T00:00:00",
          "Tourist Arrivals": 4455767
         },
         {
          "Country": "DE",
          "Date": "1991-04-01T00:00:00",
          "Tourist Arrivals": 4876920
         },
         {
          "Country": "DE",
          "Date": "1991-05-01T00:00:00",
          "Tourist Arrivals": 5889274
         },
         {
          "Country": "DE",
          "Date": "1991-06-01T00:00:00",
          "Tourist Arrivals": 5943604
         },
         {
          "Country": "DE",
          "Date": "1991-07-01T00:00:00",
          "Tourist Arrivals": 6014987
         },
         {
          "Country": "DE",
          "Date": "1991-08-01T00:00:00",
          "Tourist Arrivals": 6234582
         },
         {
          "Country": "DE",
          "Date": "1991-09-01T00:00:00",
          "Tourist Arrivals": 6715867
         },
         {
          "Country": "DE",
          "Date": "1991-10-01T00:00:00",
          "Tourist Arrivals": 6330142
         },
         {
          "Country": "DE",
          "Date": "1991-11-01T00:00:00",
          "Tourist Arrivals": 4478093
         },
         {
          "Country": "DE",
          "Date": "1991-12-01T00:00:00",
          "Tourist Arrivals": 3622211
         },
         {
          "Country": "DE",
          "Date": "1992-01-01T00:00:00",
          "Tourist Arrivals": 3398861
         },
         {
          "Country": "DE",
          "Date": "1992-02-01T00:00:00",
          "Tourist Arrivals": 3996943
         },
         {
          "Country": "DE",
          "Date": "1992-03-01T00:00:00",
          "Tourist Arrivals": 4412482
         },
         {
          "Country": "DE",
          "Date": "1992-04-01T00:00:00",
          "Tourist Arrivals": 4758039
         },
         {
          "Country": "DE",
          "Date": "1992-05-01T00:00:00",
          "Tourist Arrivals": 6033849
         },
         {
          "Country": "DE",
          "Date": "1992-06-01T00:00:00",
          "Tourist Arrivals": 5763454
         },
         {
          "Country": "DE",
          "Date": "1992-07-01T00:00:00",
          "Tourist Arrivals": 5924836
         },
         {
          "Country": "DE",
          "Date": "1992-08-01T00:00:00",
          "Tourist Arrivals": 6018690
         },
         {
          "Country": "DE",
          "Date": "1992-09-01T00:00:00",
          "Tourist Arrivals": 6663663
         },
         {
          "Country": "DE",
          "Date": "1992-10-01T00:00:00",
          "Tourist Arrivals": 6224264
         },
         {
          "Country": "DE",
          "Date": "1992-11-01T00:00:00",
          "Tourist Arrivals": 4335450
         },
         {
          "Country": "DE",
          "Date": "1992-12-01T00:00:00",
          "Tourist Arrivals": 3599130
         },
         {
          "Country": "DE",
          "Date": "1993-01-01T00:00:00",
          "Tourist Arrivals": 3683350
         },
         {
          "Country": "DE",
          "Date": "1993-02-01T00:00:00",
          "Tourist Arrivals": 4156426
         },
         {
          "Country": "DE",
          "Date": "1993-03-01T00:00:00",
          "Tourist Arrivals": 4979348
         },
         {
          "Country": "DE",
          "Date": "1993-04-01T00:00:00",
          "Tourist Arrivals": 5150549
         },
         {
          "Country": "DE",
          "Date": "1993-05-01T00:00:00",
          "Tourist Arrivals": 6587152
         },
         {
          "Country": "DE",
          "Date": "1993-06-01T00:00:00",
          "Tourist Arrivals": 6386675
         },
         {
          "Country": "DE",
          "Date": "1993-07-01T00:00:00",
          "Tourist Arrivals": 6239527
         },
         {
          "Country": "DE",
          "Date": "1993-08-01T00:00:00",
          "Tourist Arrivals": 6429087
         },
         {
          "Country": "DE",
          "Date": "1993-09-01T00:00:00",
          "Tourist Arrivals": 7072446
         },
         {
          "Country": "DE",
          "Date": "1993-10-01T00:00:00",
          "Tourist Arrivals": 6729236
         },
         {
          "Country": "DE",
          "Date": "1993-11-01T00:00:00",
          "Tourist Arrivals": 4684456
         },
         {
          "Country": "DE",
          "Date": "1993-12-01T00:00:00",
          "Tourist Arrivals": 3995061
         },
         {
          "Country": "DE",
          "Date": "1994-01-01T00:00:00",
          "Tourist Arrivals": 3743291
         },
         {
          "Country": "DE",
          "Date": "1994-02-01T00:00:00",
          "Tourist Arrivals": 4151872
         },
         {
          "Country": "DE",
          "Date": "1994-03-01T00:00:00",
          "Tourist Arrivals": 4848711
         },
         {
          "Country": "DE",
          "Date": "1994-04-01T00:00:00",
          "Tourist Arrivals": 5346095
         },
         {
          "Country": "DE",
          "Date": "1994-05-01T00:00:00",
          "Tourist Arrivals": 6520534
         },
         {
          "Country": "DE",
          "Date": "1994-06-01T00:00:00",
          "Tourist Arrivals": 6487590
         },
         {
          "Country": "DE",
          "Date": "1994-07-01T00:00:00",
          "Tourist Arrivals": 6212720
         },
         {
          "Country": "DE",
          "Date": "1994-08-01T00:00:00",
          "Tourist Arrivals": 6421380
         },
         {
          "Country": "DE",
          "Date": "1994-09-01T00:00:00",
          "Tourist Arrivals": 7506692
         },
         {
          "Country": "DE",
          "Date": "1994-10-01T00:00:00",
          "Tourist Arrivals": 6909084
         },
         {
          "Country": "DE",
          "Date": "1994-11-01T00:00:00",
          "Tourist Arrivals": 4981139
         },
         {
          "Country": "DE",
          "Date": "1994-12-01T00:00:00",
          "Tourist Arrivals": 4280732
         },
         {
          "Country": "DE",
          "Date": "1995-01-01T00:00:00",
          "Tourist Arrivals": 4020729
         },
         {
          "Country": "DE",
          "Date": "1995-02-01T00:00:00",
          "Tourist Arrivals": 4342893
         },
         {
          "Country": "DE",
          "Date": "1995-03-01T00:00:00",
          "Tourist Arrivals": 5165778
         },
         {
          "Country": "DE",
          "Date": "1995-04-01T00:00:00",
          "Tourist Arrivals": 5550833
         },
         {
          "Country": "DE",
          "Date": "1995-05-01T00:00:00",
          "Tourist Arrivals": 7000145
         },
         {
          "Country": "DE",
          "Date": "1995-06-01T00:00:00",
          "Tourist Arrivals": 6785848
         },
         {
          "Country": "DE",
          "Date": "1995-07-01T00:00:00",
          "Tourist Arrivals": 6502518
         },
         {
          "Country": "DE",
          "Date": "1995-08-01T00:00:00",
          "Tourist Arrivals": 6636579
         },
         {
          "Country": "DE",
          "Date": "1995-09-01T00:00:00",
          "Tourist Arrivals": 7851806
         },
         {
          "Country": "DE",
          "Date": "1995-10-01T00:00:00",
          "Tourist Arrivals": 7021097
         },
         {
          "Country": "DE",
          "Date": "1995-11-01T00:00:00",
          "Tourist Arrivals": 5261602
         },
         {
          "Country": "DE",
          "Date": "1995-12-01T00:00:00",
          "Tourist Arrivals": 4492760
         },
         {
          "Country": "DE",
          "Date": "1996-01-01T00:00:00",
          "Tourist Arrivals": 4009021
         },
         {
          "Country": "DE",
          "Date": "1996-02-01T00:00:00",
          "Tourist Arrivals": 4472043
         },
         {
          "Country": "DE",
          "Date": "1996-03-01T00:00:00",
          "Tourist Arrivals": 5200408
         },
         {
          "Country": "DE",
          "Date": "1996-04-01T00:00:00",
          "Tourist Arrivals": 5542351
         },
         {
          "Country": "DE",
          "Date": "1996-05-01T00:00:00",
          "Tourist Arrivals": 7128811
         },
         {
          "Country": "DE",
          "Date": "1996-06-01T00:00:00",
          "Tourist Arrivals": 6952707
         },
         {
          "Country": "DE",
          "Date": "1996-07-01T00:00:00",
          "Tourist Arrivals": 6717378
         },
         {
          "Country": "DE",
          "Date": "1996-08-01T00:00:00",
          "Tourist Arrivals": 7020300
         },
         {
          "Country": "DE",
          "Date": "1996-09-01T00:00:00",
          "Tourist Arrivals": 7928122
         },
         {
          "Country": "DE",
          "Date": "1996-10-01T00:00:00",
          "Tourist Arrivals": 7409777
         },
         {
          "Country": "DE",
          "Date": "1996-11-01T00:00:00",
          "Tourist Arrivals": 5546832
         },
         {
          "Country": "DE",
          "Date": "1996-12-01T00:00:00",
          "Tourist Arrivals": 4553059
         },
         {
          "Country": "DE",
          "Date": "1997-01-01T00:00:00",
          "Tourist Arrivals": 4165023
         },
         {
          "Country": "DE",
          "Date": "1997-02-01T00:00:00",
          "Tourist Arrivals": 4493634
         },
         {
          "Country": "DE",
          "Date": "1997-03-01T00:00:00",
          "Tourist Arrivals": 5275130
         },
         {
          "Country": "DE",
          "Date": "1997-04-01T00:00:00",
          "Tourist Arrivals": 5854734
         },
         {
          "Country": "DE",
          "Date": "1997-05-01T00:00:00",
          "Tourist Arrivals": 7195913
         },
         {
          "Country": "DE",
          "Date": "1997-06-01T00:00:00",
          "Tourist Arrivals": 7241481
         },
         {
          "Country": "DE",
          "Date": "1997-07-01T00:00:00",
          "Tourist Arrivals": 6997776
         },
         {
          "Country": "DE",
          "Date": "1997-08-01T00:00:00",
          "Tourist Arrivals": 7252821
         },
         {
          "Country": "DE",
          "Date": "1997-09-01T00:00:00",
          "Tourist Arrivals": 8114116
         },
         {
          "Country": "DE",
          "Date": "1997-10-01T00:00:00",
          "Tourist Arrivals": 7635811
         },
         {
          "Country": "DE",
          "Date": "1997-11-01T00:00:00",
          "Tourist Arrivals": 5542254
         },
         {
          "Country": "DE",
          "Date": "1997-12-01T00:00:00",
          "Tourist Arrivals": 4734581
         },
         {
          "Country": "DE",
          "Date": "1998-01-01T00:00:00",
          "Tourist Arrivals": 4232683
         },
         {
          "Country": "DE",
          "Date": "1998-02-01T00:00:00",
          "Tourist Arrivals": 4681727
         },
         {
          "Country": "DE",
          "Date": "1998-03-01T00:00:00",
          "Tourist Arrivals": 5632690
         },
         {
          "Country": "DE",
          "Date": "1998-04-01T00:00:00",
          "Tourist Arrivals": 5860972
         },
         {
          "Country": "DE",
          "Date": "1998-05-01T00:00:00",
          "Tourist Arrivals": 7734762
         },
         {
          "Country": "DE",
          "Date": "1998-06-01T00:00:00",
          "Tourist Arrivals": 7337596
         },
         {
          "Country": "DE",
          "Date": "1998-07-01T00:00:00",
          "Tourist Arrivals": 7296068
         },
         {
          "Country": "DE",
          "Date": "1998-08-01T00:00:00",
          "Tourist Arrivals": 7634457
         },
         {
          "Country": "DE",
          "Date": "1998-09-01T00:00:00",
          "Tourist Arrivals": 8330603
         },
         {
          "Country": "DE",
          "Date": "1998-10-01T00:00:00",
          "Tourist Arrivals": 7802828
         },
         {
          "Country": "DE",
          "Date": "1998-11-01T00:00:00",
          "Tourist Arrivals": 5861313
         },
         {
          "Country": "DE",
          "Date": "1998-12-01T00:00:00",
          "Tourist Arrivals": 5027993
         },
         {
          "Country": "DE",
          "Date": "1999-01-01T00:00:00",
          "Tourist Arrivals": 4494960
         },
         {
          "Country": "DE",
          "Date": "1999-02-01T00:00:00",
          "Tourist Arrivals": 4966750
         },
         {
          "Country": "DE",
          "Date": "1999-03-01T00:00:00",
          "Tourist Arrivals": 5894865
         },
         {
          "Country": "DE",
          "Date": "1999-04-01T00:00:00",
          "Tourist Arrivals": 6338652
         },
         {
          "Country": "DE",
          "Date": "1999-05-01T00:00:00",
          "Tourist Arrivals": 7839183
         },
         {
          "Country": "DE",
          "Date": "1999-06-01T00:00:00",
          "Tourist Arrivals": 7772924
         },
         {
          "Country": "DE",
          "Date": "1999-07-01T00:00:00",
          "Tourist Arrivals": 7736826
         },
         {
          "Country": "DE",
          "Date": "1999-08-01T00:00:00",
          "Tourist Arrivals": 8042134
         },
         {
          "Country": "DE",
          "Date": "1999-09-01T00:00:00",
          "Tourist Arrivals": 8788864
         },
         {
          "Country": "DE",
          "Date": "1999-10-01T00:00:00",
          "Tourist Arrivals": 8252774
         },
         {
          "Country": "DE",
          "Date": "1999-11-01T00:00:00",
          "Tourist Arrivals": 6327376
         },
         {
          "Country": "DE",
          "Date": "1999-12-01T00:00:00",
          "Tourist Arrivals": 5441596
         },
         {
          "Country": "DE",
          "Date": "2000-01-01T00:00:00",
          "Tourist Arrivals": 4772252
         },
         {
          "Country": "DE",
          "Date": "2000-02-01T00:00:00",
          "Tourist Arrivals": 5502985
         },
         {
          "Country": "DE",
          "Date": "2000-03-01T00:00:00",
          "Tourist Arrivals": 6212827
         },
         {
          "Country": "DE",
          "Date": "2000-04-01T00:00:00",
          "Tourist Arrivals": 6642826
         },
         {
          "Country": "DE",
          "Date": "2000-05-01T00:00:00",
          "Tourist Arrivals": 8347719
         },
         {
          "Country": "DE",
          "Date": "2000-06-01T00:00:00",
          "Tourist Arrivals": 8411680
         },
         {
          "Country": "DE",
          "Date": "2000-07-01T00:00:00",
          "Tourist Arrivals": 8461299
         },
         {
          "Country": "DE",
          "Date": "2000-08-01T00:00:00",
          "Tourist Arrivals": 8534252
         },
         {
          "Country": "DE",
          "Date": "2000-09-01T00:00:00",
          "Tourist Arrivals": 9755121
         },
         {
          "Country": "DE",
          "Date": "2000-10-01T00:00:00",
          "Tourist Arrivals": 8466682
         },
         {
          "Country": "DE",
          "Date": "2000-11-01T00:00:00",
          "Tourist Arrivals": 6572899
         },
         {
          "Country": "DE",
          "Date": "2000-12-01T00:00:00",
          "Tourist Arrivals": 5730998
         },
         {
          "Country": "DE",
          "Date": "2001-01-01T00:00:00",
          "Tourist Arrivals": 5047657
         },
         {
          "Country": "DE",
          "Date": "2001-02-01T00:00:00",
          "Tourist Arrivals": 5347870
         },
         {
          "Country": "DE",
          "Date": "2001-03-01T00:00:00",
          "Tourist Arrivals": 6489639
         },
         {
          "Country": "DE",
          "Date": "2001-04-01T00:00:00",
          "Tourist Arrivals": 6683241
         },
         {
          "Country": "DE",
          "Date": "2001-05-01T00:00:00",
          "Tourist Arrivals": 8450588
         },
         {
          "Country": "DE",
          "Date": "2001-06-01T00:00:00",
          "Tourist Arrivals": 8345102
         },
         {
          "Country": "DE",
          "Date": "2001-07-01T00:00:00",
          "Tourist Arrivals": 8333906
         },
         {
          "Country": "DE",
          "Date": "2001-08-01T00:00:00",
          "Tourist Arrivals": 8394761
         },
         {
          "Country": "DE",
          "Date": "2001-09-01T00:00:00",
          "Tourist Arrivals": 8979344
         },
         {
          "Country": "DE",
          "Date": "2001-10-01T00:00:00",
          "Tourist Arrivals": 8222980
         },
         {
          "Country": "DE",
          "Date": "2001-11-01T00:00:00",
          "Tourist Arrivals": 6636492
         },
         {
          "Country": "DE",
          "Date": "2001-12-01T00:00:00",
          "Tourist Arrivals": 5579517
         },
         {
          "Country": "DE",
          "Date": "2002-01-01T00:00:00",
          "Tourist Arrivals": 4920562
         },
         {
          "Country": "DE",
          "Date": "2002-02-01T00:00:00",
          "Tourist Arrivals": 5307295
         },
         {
          "Country": "DE",
          "Date": "2002-03-01T00:00:00",
          "Tourist Arrivals": 6166080
         },
         {
          "Country": "DE",
          "Date": "2002-04-01T00:00:00",
          "Tourist Arrivals": 6731677
         },
         {
          "Country": "DE",
          "Date": "2002-05-01T00:00:00",
          "Tourist Arrivals": 8047892
         },
         {
          "Country": "DE",
          "Date": "2002-06-01T00:00:00",
          "Tourist Arrivals": 8037341
         },
         {
          "Country": "DE",
          "Date": "2002-07-01T00:00:00",
          "Tourist Arrivals": 8052822
         },
         {
          "Country": "DE",
          "Date": "2002-08-01T00:00:00",
          "Tourist Arrivals": 8159404
         },
         {
          "Country": "DE",
          "Date": "2002-09-01T00:00:00",
          "Tourist Arrivals": 8768877
         },
         {
          "Country": "DE",
          "Date": "2002-10-01T00:00:00",
          "Tourist Arrivals": 8054134
         },
         {
          "Country": "DE",
          "Date": "2002-11-01T00:00:00",
          "Tourist Arrivals": 6407663
         },
         {
          "Country": "DE",
          "Date": "2002-12-01T00:00:00",
          "Tourist Arrivals": 5533822
         },
         {
          "Country": "DE",
          "Date": "2003-01-01T00:00:00",
          "Tourist Arrivals": 3867184
         },
         {
          "Country": "DE",
          "Date": "2003-02-01T00:00:00",
          "Tourist Arrivals": 5234211
         },
         {
          "Country": "DE",
          "Date": "2003-03-01T00:00:00",
          "Tourist Arrivals": 6130168
         },
         {
          "Country": "DE",
          "Date": "2003-04-01T00:00:00",
          "Tourist Arrivals": 6412020
         },
         {
          "Country": "DE",
          "Date": "2003-05-01T00:00:00",
          "Tourist Arrivals": 8369895
         },
         {
          "Country": "DE",
          "Date": "2003-06-01T00:00:00",
          "Tourist Arrivals": 7884038
         },
         {
          "Country": "DE",
          "Date": "2003-07-01T00:00:00",
          "Tourist Arrivals": 8157886
         },
         {
          "Country": "DE",
          "Date": "2003-08-01T00:00:00",
          "Tourist Arrivals": 8205820
         },
         {
          "Country": "DE",
          "Date": "2003-09-01T00:00:00",
          "Tourist Arrivals": 8943872
         },
         {
          "Country": "DE",
          "Date": "2003-10-01T00:00:00",
          "Tourist Arrivals": 8433735
         },
         {
          "Country": "DE",
          "Date": "2003-11-01T00:00:00",
          "Tourist Arrivals": 6479205
         },
         {
          "Country": "DE",
          "Date": "2003-12-01T00:00:00",
          "Tourist Arrivals": 5791893
         },
         {
          "Country": "DE",
          "Date": "2004-01-01T00:00:00",
          "Tourist Arrivals": 4980928
         },
         {
          "Country": "DE",
          "Date": "2004-02-01T00:00:00",
          "Tourist Arrivals": 5505309
         },
         {
          "Country": "DE",
          "Date": "2004-03-01T00:00:00",
          "Tourist Arrivals": 6640682
         },
         {
          "Country": "DE",
          "Date": "2004-04-01T00:00:00",
          "Tourist Arrivals": 6871985
         },
         {
          "Country": "DE",
          "Date": "2004-05-01T00:00:00",
          "Tourist Arrivals": 8589029
         },
         {
          "Country": "DE",
          "Date": "2004-06-01T00:00:00",
          "Tourist Arrivals": 8371562
         },
         {
          "Country": "DE",
          "Date": "2004-07-01T00:00:00",
          "Tourist Arrivals": 8642257
         },
         {
          "Country": "DE",
          "Date": "2004-08-01T00:00:00",
          "Tourist Arrivals": 8370525
         },
         {
          "Country": "DE",
          "Date": "2004-09-01T00:00:00",
          "Tourist Arrivals": 9351606
         },
         {
          "Country": "DE",
          "Date": "2004-10-01T00:00:00",
          "Tourist Arrivals": 8700695
         },
         {
          "Country": "DE",
          "Date": "2004-11-01T00:00:00",
          "Tourist Arrivals": 6833654
         },
         {
          "Country": "DE",
          "Date": "2004-12-01T00:00:00",
          "Tourist Arrivals": 6136941
         },
         {
          "Country": "DE",
          "Date": "2005-01-01T00:00:00",
          "Tourist Arrivals": 5423624
         },
         {
          "Country": "DE",
          "Date": "2005-02-01T00:00:00",
          "Tourist Arrivals": 5797440
         },
         {
          "Country": "DE",
          "Date": "2005-03-01T00:00:00",
          "Tourist Arrivals": 6557621
         },
         {
          "Country": "DE",
          "Date": "2005-04-01T00:00:00",
          "Tourist Arrivals": 7453749
         },
         {
          "Country": "DE",
          "Date": "2005-05-01T00:00:00",
          "Tourist Arrivals": 8573205
         },
         {
          "Country": "DE",
          "Date": "2005-06-01T00:00:00",
          "Tourist Arrivals": 8708234
         },
         {
          "Country": "DE",
          "Date": "2005-07-01T00:00:00",
          "Tourist Arrivals": 8907829
         },
         {
          "Country": "DE",
          "Date": "2005-08-01T00:00:00",
          "Tourist Arrivals": 9019181
         },
         {
          "Country": "DE",
          "Date": "2005-09-01T00:00:00",
          "Tourist Arrivals": 9743413
         },
         {
          "Country": "DE",
          "Date": "2005-10-01T00:00:00",
          "Tourist Arrivals": 8964499
         },
         {
          "Country": "DE",
          "Date": "2005-11-01T00:00:00",
          "Tourist Arrivals": 7128070
         },
         {
          "Country": "DE",
          "Date": "2005-12-01T00:00:00",
          "Tourist Arrivals": 6467533
         },
         {
          "Country": "DE",
          "Date": "2006-01-01T00:00:00",
          "Tourist Arrivals": 5682742
         },
         {
          "Country": "DE",
          "Date": "2006-02-01T00:00:00",
          "Tourist Arrivals": 5987329
         },
         {
          "Country": "DE",
          "Date": "2006-03-01T00:00:00",
          "Tourist Arrivals": 7116553
         },
         {
          "Country": "DE",
          "Date": "2006-04-01T00:00:00",
          "Tourist Arrivals": 7452377
         },
         {
          "Country": "DE",
          "Date": "2006-05-01T00:00:00",
          "Tourist Arrivals": 9261910
         },
         {
          "Country": "DE",
          "Date": "2006-06-01T00:00:00",
          "Tourist Arrivals": 9015147
         },
         {
          "Country": "DE",
          "Date": "2006-07-01T00:00:00",
          "Tourist Arrivals": 9245264
         },
         {
          "Country": "DE",
          "Date": "2006-08-01T00:00:00",
          "Tourist Arrivals": 9181702
         },
         {
          "Country": "DE",
          "Date": "2006-09-01T00:00:00",
          "Tourist Arrivals": 10518546
         },
         {
          "Country": "DE",
          "Date": "2006-10-01T00:00:00",
          "Tourist Arrivals": 9255362
         },
         {
          "Country": "DE",
          "Date": "2006-11-01T00:00:00",
          "Tourist Arrivals": 7470916
         },
         {
          "Country": "DE",
          "Date": "2006-12-01T00:00:00",
          "Tourist Arrivals": 6963087
         },
         {
          "Country": "DE",
          "Date": "2007-01-01T00:00:00",
          "Tourist Arrivals": 5848762
         },
         {
          "Country": "DE",
          "Date": "2007-02-01T00:00:00",
          "Tourist Arrivals": 6234330
         },
         {
          "Country": "DE",
          "Date": "2007-03-01T00:00:00",
          "Tourist Arrivals": 7632920
         },
         {
          "Country": "DE",
          "Date": "2007-04-01T00:00:00",
          "Tourist Arrivals": 7869005
         },
         {
          "Country": "DE",
          "Date": "2007-05-01T00:00:00",
          "Tourist Arrivals": 9201855
         },
         {
          "Country": "DE",
          "Date": "2007-06-01T00:00:00",
          "Tourist Arrivals": 9526109
         },
         {
          "Country": "DE",
          "Date": "2007-07-01T00:00:00",
          "Tourist Arrivals": 9690515
         },
         {
          "Country": "DE",
          "Date": "2007-08-01T00:00:00",
          "Tourist Arrivals": 9756842
         },
         {
          "Country": "DE",
          "Date": "2007-09-01T00:00:00",
          "Tourist Arrivals": 10480979
         },
         {
          "Country": "DE",
          "Date": "2007-10-01T00:00:00",
          "Tourist Arrivals": 9651148
         },
         {
          "Country": "DE",
          "Date": "2007-11-01T00:00:00",
          "Tourist Arrivals": 7912914
         },
         {
          "Country": "DE",
          "Date": "2007-12-01T00:00:00",
          "Tourist Arrivals": 7058135
         },
         {
          "Country": "DE",
          "Date": "2008-01-01T00:00:00",
          "Tourist Arrivals": 6079289
         },
         {
          "Country": "DE",
          "Date": "2008-02-01T00:00:00",
          "Tourist Arrivals": 6896194
         },
         {
          "Country": "DE",
          "Date": "2008-03-01T00:00:00",
          "Tourist Arrivals": 7354476
         },
         {
          "Country": "DE",
          "Date": "2008-04-01T00:00:00",
          "Tourist Arrivals": 8369482
         },
         {
          "Country": "DE",
          "Date": "2008-05-01T00:00:00",
          "Tourist Arrivals": 9867356
         },
         {
          "Country": "DE",
          "Date": "2008-06-01T00:00:00",
          "Tourist Arrivals": 9449167
         },
         {
          "Country": "DE",
          "Date": "2008-07-01T00:00:00",
          "Tourist Arrivals": 9802959
         },
         {
          "Country": "DE",
          "Date": "2008-08-01T00:00:00",
          "Tourist Arrivals": 9890438
         },
         {
          "Country": "DE",
          "Date": "2008-09-01T00:00:00",
          "Tourist Arrivals": 10512132
         },
         {
          "Country": "DE",
          "Date": "2008-10-01T00:00:00",
          "Tourist Arrivals": 9889010
         },
         {
          "Country": "DE",
          "Date": "2008-11-01T00:00:00",
          "Tourist Arrivals": 7705485
         },
         {
          "Country": "DE",
          "Date": "2008-12-01T00:00:00",
          "Tourist Arrivals": 7062157
         },
         {
          "Country": "DE",
          "Date": "2009-01-01T00:00:00",
          "Tourist Arrivals": 5847947
         },
         {
          "Country": "DE",
          "Date": "2009-02-01T00:00:00",
          "Tourist Arrivals": 6351018
         },
         {
          "Country": "DE",
          "Date": "2009-03-01T00:00:00",
          "Tourist Arrivals": 7505714
         },
         {
          "Country": "DE",
          "Date": "2009-04-01T00:00:00",
          "Tourist Arrivals": 7778554
         },
         {
          "Country": "DE",
          "Date": "2009-05-01T00:00:00",
          "Tourist Arrivals": 9761406
         },
         {
          "Country": "DE",
          "Date": "2009-06-01T00:00:00",
          "Tourist Arrivals": 9372958
         },
         {
          "Country": "DE",
          "Date": "2009-07-01T00:00:00",
          "Tourist Arrivals": 9972112
         },
         {
          "Country": "DE",
          "Date": "2009-08-01T00:00:00",
          "Tourist Arrivals": 10083380
         },
         {
          "Country": "DE",
          "Date": "2009-09-01T00:00:00",
          "Tourist Arrivals": 10419061
         },
         {
          "Country": "DE",
          "Date": "2009-10-01T00:00:00",
          "Tourist Arrivals": 9835083
         },
         {
          "Country": "DE",
          "Date": "2009-11-01T00:00:00",
          "Tourist Arrivals": 7823378
         },
         {
          "Country": "DE",
          "Date": "2009-12-01T00:00:00",
          "Tourist Arrivals": 7301857
         },
         {
          "Country": "DE",
          "Date": "2010-01-01T00:00:00",
          "Tourist Arrivals": 5914641
         },
         {
          "Country": "DE",
          "Date": "2010-02-01T00:00:00",
          "Tourist Arrivals": 6660159
         },
         {
          "Country": "DE",
          "Date": "2010-03-01T00:00:00",
          "Tourist Arrivals": 7861055
         },
         {
          "Country": "DE",
          "Date": "2010-04-01T00:00:00",
          "Tourist Arrivals": 8500385
         },
         {
          "Country": "DE",
          "Date": "2010-05-01T00:00:00",
          "Tourist Arrivals": 10149713
         },
         {
          "Country": "DE",
          "Date": "2010-06-01T00:00:00",
          "Tourist Arrivals": 10213857
         },
         {
          "Country": "DE",
          "Date": "2010-07-01T00:00:00",
          "Tourist Arrivals": 10682470
         },
         {
          "Country": "DE",
          "Date": "2010-08-01T00:00:00",
          "Tourist Arrivals": 10753918
         },
         {
          "Country": "DE",
          "Date": "2010-09-01T00:00:00",
          "Tourist Arrivals": 11370541
         },
         {
          "Country": "DE",
          "Date": "2010-10-01T00:00:00",
          "Tourist Arrivals": 10715918
         },
         {
          "Country": "DE",
          "Date": "2010-11-01T00:00:00",
          "Tourist Arrivals": 8557366
         },
         {
          "Country": "DE",
          "Date": "2010-12-01T00:00:00",
          "Tourist Arrivals": 7656895
         },
         {
          "Country": "DE",
          "Date": "2011-01-01T00:00:00",
          "Tourist Arrivals": 6516075
         },
         {
          "Country": "DE",
          "Date": "2011-02-01T00:00:00",
          "Tourist Arrivals": 7092280
         },
         {
          "Country": "DE",
          "Date": "2011-03-01T00:00:00",
          "Tourist Arrivals": 8275119
         },
         {
          "Country": "DE",
          "Date": "2011-04-01T00:00:00",
          "Tourist Arrivals": 8996745
         },
         {
          "Country": "DE",
          "Date": "2011-05-01T00:00:00",
          "Tourist Arrivals": 10906252
         },
         {
          "Country": "DE",
          "Date": "2011-06-01T00:00:00",
          "Tourist Arrivals": 10894379
         },
         {
          "Country": "DE",
          "Date": "2011-07-01T00:00:00",
          "Tourist Arrivals": 11570412
         },
         {
          "Country": "DE",
          "Date": "2011-08-01T00:00:00",
          "Tourist Arrivals": 11155092
         },
         {
          "Country": "DE",
          "Date": "2011-09-01T00:00:00",
          "Tourist Arrivals": 11935301
         },
         {
          "Country": "DE",
          "Date": "2011-10-01T00:00:00",
          "Tourist Arrivals": 11143662
         },
         {
          "Country": "DE",
          "Date": "2011-11-01T00:00:00",
          "Tourist Arrivals": 9001098
         },
         {
          "Country": "DE",
          "Date": "2011-12-01T00:00:00",
          "Tourist Arrivals": 8096683
         },
         {
          "Country": "DE",
          "Date": "2012-01-01T00:00:00",
          "Tourist Arrivals": 6975295
         },
         {
          "Country": "DE",
          "Date": "2012-02-01T00:00:00",
          "Tourist Arrivals": 7575869
         },
         {
          "Country": "DE",
          "Date": "2012-03-01T00:00:00",
          "Tourist Arrivals": 9100987
         },
         {
          "Country": "DE",
          "Date": "2012-04-01T00:00:00",
          "Tourist Arrivals": 9457653
         },
         {
          "Country": "DE",
          "Date": "2012-05-01T00:00:00",
          "Tourist Arrivals": 11205397
         },
         {
          "Country": "DE",
          "Date": "2012-06-01T00:00:00",
          "Tourist Arrivals": 11211790
         },
         {
          "Country": "DE",
          "Date": "2012-07-01T00:00:00",
          "Tourist Arrivals": 11718346
         },
         {
          "Country": "DE",
          "Date": "2012-08-01T00:00:00",
          "Tourist Arrivals": 11706160
         },
         {
          "Country": "DE",
          "Date": "2012-09-01T00:00:00",
          "Tourist Arrivals": 12360605
         },
         {
          "Country": "DE",
          "Date": "2012-10-01T00:00:00",
          "Tourist Arrivals": 11196186
         },
         {
          "Country": "DE",
          "Date": "2012-11-01T00:00:00",
          "Tourist Arrivals": 9278650
         },
         {
          "Country": "DE",
          "Date": "2012-12-01T00:00:00",
          "Tourist Arrivals": 8434506
         },
         {
          "Country": "DE",
          "Date": "2013-01-01T00:00:00",
          "Tourist Arrivals": 7076969
         },
         {
          "Country": "DE",
          "Date": "2013-02-01T00:00:00",
          "Tourist Arrivals": 7583169
         },
         {
          "Country": "DE",
          "Date": "2013-03-01T00:00:00",
          "Tourist Arrivals": 9033507
         },
         {
          "Country": "DE",
          "Date": "2013-04-01T00:00:00",
          "Tourist Arrivals": 9689413
         },
         {
          "Country": "DE",
          "Date": "2013-05-01T00:00:00",
          "Tourist Arrivals": 11311766
         },
         {
          "Country": "DE",
          "Date": "2013-06-01T00:00:00",
          "Tourist Arrivals": 11435421
         },
         {
          "Country": "DE",
          "Date": "2013-07-01T00:00:00",
          "Tourist Arrivals": 12097905
         },
         {
          "Country": "DE",
          "Date": "2013-08-01T00:00:00",
          "Tourist Arrivals": 12151510
         },
         {
          "Country": "DE",
          "Date": "2013-09-01T00:00:00",
          "Tourist Arrivals": 12322730
         },
         {
          "Country": "DE",
          "Date": "2013-10-01T00:00:00",
          "Tourist Arrivals": 11599286
         },
         {
          "Country": "DE",
          "Date": "2013-11-01T00:00:00",
          "Tourist Arrivals": 9501007
         },
         {
          "Country": "DE",
          "Date": "2013-12-01T00:00:00",
          "Tourist Arrivals": 8653717
         },
         {
          "Country": "DE",
          "Date": "2014-01-01T00:00:00",
          "Tourist Arrivals": 7248835
         },
         {
          "Country": "DE",
          "Date": "2014-02-01T00:00:00",
          "Tourist Arrivals": 7904348
         },
         {
          "Country": "DE",
          "Date": "2014-03-01T00:00:00",
          "Tourist Arrivals": 9290494
         },
         {
          "Country": "DE",
          "Date": "2014-04-01T00:00:00",
          "Tourist Arrivals": 9739594
         },
         {
          "Country": "DE",
          "Date": "2014-05-01T00:00:00",
          "Tourist Arrivals": 12092508
         },
         {
          "Country": "DE",
          "Date": "2014-06-01T00:00:00",
          "Tourist Arrivals": 11705824
         },
         {
          "Country": "DE",
          "Date": "2014-07-01T00:00:00",
          "Tourist Arrivals": 12318127
         },
         {
          "Country": "DE",
          "Date": "2014-08-01T00:00:00",
          "Tourist Arrivals": 12650693
         },
         {
          "Country": "DE",
          "Date": "2014-09-01T00:00:00",
          "Tourist Arrivals": 12650696
         },
         {
          "Country": "DE",
          "Date": "2014-10-01T00:00:00",
          "Tourist Arrivals": 12226766
         },
         {
          "Country": "DE",
          "Date": "2014-11-01T00:00:00",
          "Tourist Arrivals": 9806429
         },
         {
          "Country": "DE",
          "Date": "2014-12-01T00:00:00",
          "Tourist Arrivals": 9240752
         },
         {
          "Country": "DE",
          "Date": "2015-01-01T00:00:00",
          "Tourist Arrivals": 7459748
         },
         {
          "Country": "DE",
          "Date": "2015-02-01T00:00:00",
          "Tourist Arrivals": 8271184
         },
         {
          "Country": "DE",
          "Date": "2015-03-01T00:00:00",
          "Tourist Arrivals": 9781260
         },
         {
          "Country": "DE",
          "Date": "2015-04-01T00:00:00",
          "Tourist Arrivals": 10263954
         },
         {
          "Country": "DE",
          "Date": "2015-05-01T00:00:00",
          "Tourist Arrivals": 12370255
         },
         {
          "Country": "DE",
          "Date": "2015-06-01T00:00:00",
          "Tourist Arrivals": 12464548
         },
         {
          "Country": "DE",
          "Date": "2015-07-01T00:00:00",
          "Tourist Arrivals": 13118786
         },
         {
          "Country": "DE",
          "Date": "2015-08-01T00:00:00",
          "Tourist Arrivals": 13057638
         },
         {
          "Country": "DE",
          "Date": "2015-09-01T00:00:00",
          "Tourist Arrivals": 12909237
         },
         {
          "Country": "DE",
          "Date": "2015-10-01T00:00:00",
          "Tourist Arrivals": 12468804
         },
         {
          "Country": "DE",
          "Date": "2015-11-01T00:00:00",
          "Tourist Arrivals": 10274097
         },
         {
          "Country": "DE",
          "Date": "2015-12-01T00:00:00",
          "Tourist Arrivals": 9427385
         },
         {
          "Country": "DE",
          "Date": "2016-01-01T00:00:00",
          "Tourist Arrivals": 7676323
         },
         {
          "Country": "DE",
          "Date": "2016-02-01T00:00:00",
          "Tourist Arrivals": 8769044
         },
         {
          "Country": "DE",
          "Date": "2016-03-01T00:00:00",
          "Tourist Arrivals": 9969657
         },
         {
          "Country": "DE",
          "Date": "2016-04-01T00:00:00",
          "Tourist Arrivals": 10993118
         },
         {
          "Country": "DE",
          "Date": "2016-05-01T00:00:00",
          "Tourist Arrivals": 12402622
         },
         {
          "Country": "DE",
          "Date": "2016-06-01T00:00:00",
          "Tourist Arrivals": 12475418
         },
         {
          "Country": "DE",
          "Date": "2016-07-01T00:00:00",
          "Tourist Arrivals": 13505413
         },
         {
          "Country": "DE",
          "Date": "2016-08-01T00:00:00",
          "Tourist Arrivals": 12924722
         },
         {
          "Country": "DE",
          "Date": "2016-09-01T00:00:00",
          "Tourist Arrivals": 13586617
         },
         {
          "Country": "DE",
          "Date": "2016-10-01T00:00:00",
          "Tourist Arrivals": 12762183
         },
         {
          "Country": "DE",
          "Date": "2016-11-01T00:00:00",
          "Tourist Arrivals": 10567308
         },
         {
          "Country": "DE",
          "Date": "2016-12-01T00:00:00",
          "Tourist Arrivals": 9846892
         },
         {
          "Country": "DE",
          "Date": "2017-01-01T00:00:00",
          "Tourist Arrivals": 8279716
         },
         {
          "Country": "DE",
          "Date": "2017-02-01T00:00:00",
          "Tourist Arrivals": 8782925
         },
         {
          "Country": "DE",
          "Date": "2017-03-01T00:00:00",
          "Tourist Arrivals": 10644716
         },
         {
          "Country": "DE",
          "Date": "2017-04-01T00:00:00",
          "Tourist Arrivals": 11318757
         },
         {
          "Country": "DE",
          "Date": "2017-05-01T00:00:00",
          "Tourist Arrivals": 13023747
         },
         {
          "Country": "DE",
          "Date": "2017-06-01T00:00:00",
          "Tourist Arrivals": 13219920
         },
         {
          "Country": "DE",
          "Date": "2017-07-01T00:00:00",
          "Tourist Arrivals": 14009901
         },
         {
          "Country": "DE",
          "Date": "2017-08-01T00:00:00",
          "Tourist Arrivals": 13491586
         },
         {
          "Country": "DE",
          "Date": "2017-09-01T00:00:00",
          "Tourist Arrivals": 14182815
         },
         {
          "Country": "DE",
          "Date": "2017-10-01T00:00:00",
          "Tourist Arrivals": 12940626
         },
         {
          "Country": "DE",
          "Date": "2017-11-01T00:00:00",
          "Tourist Arrivals": 10785817
         },
         {
          "Country": "DE",
          "Date": "2017-12-01T00:00:00",
          "Tourist Arrivals": 10452985
         },
         {
          "Country": "DE",
          "Date": "2018-01-01T00:00:00",
          "Tourist Arrivals": 8713317
         },
         {
          "Country": "DE",
          "Date": "2018-02-01T00:00:00",
          "Tourist Arrivals": 9300791
         },
         {
          "Country": "DE",
          "Date": "2018-03-01T00:00:00",
          "Tourist Arrivals": 11004822
         },
         {
          "Country": "DE",
          "Date": "2018-04-01T00:00:00",
          "Tourist Arrivals": 11666825
         },
         {
          "Country": "DE",
          "Date": "2018-05-01T00:00:00",
          "Tourist Arrivals": 13113329
         },
         {
          "Country": "DE",
          "Date": "2018-06-01T00:00:00",
          "Tourist Arrivals": 13773254
         },
         {
          "Country": "DE",
          "Date": "2018-07-01T00:00:00",
          "Tourist Arrivals": 14278769
         },
         {
          "Country": "DE",
          "Date": "2018-08-01T00:00:00",
          "Tourist Arrivals": 14044382
         },
         {
          "Country": "DE",
          "Date": "2018-09-01T00:00:00",
          "Tourist Arrivals": 14302813
         },
         {
          "Country": "DE",
          "Date": "2018-10-01T00:00:00",
          "Tourist Arrivals": 13320325
         },
         {
          "Country": "DE",
          "Date": "2018-11-01T00:00:00",
          "Tourist Arrivals": 11425685
         },
         {
          "Country": "DE",
          "Date": "2018-12-01T00:00:00",
          "Tourist Arrivals": 10645568
         },
         {
          "Country": "DE",
          "Date": "2019-01-01T00:00:00",
          "Tourist Arrivals": 8874939
         },
         {
          "Country": "DE",
          "Date": "2019-02-01T00:00:00",
          "Tourist Arrivals": 9600404
         },
         {
          "Country": "DE",
          "Date": "2019-03-01T00:00:00",
          "Tourist Arrivals": 11279076
         },
         {
          "Country": "DE",
          "Date": "2019-04-01T00:00:00",
          "Tourist Arrivals": 11974146
         },
         {
          "Country": "DE",
          "Date": "2019-05-01T00:00:00",
          "Tourist Arrivals": 13931767
         },
         {
          "Country": "DE",
          "Date": "2019-06-01T00:00:00",
          "Tourist Arrivals": 13910286
         },
         {
          "Country": "DE",
          "Date": "2019-07-01T00:00:00",
          "Tourist Arrivals": 14744389
         },
         {
          "Country": "DE",
          "Date": "2019-08-01T00:00:00",
          "Tourist Arrivals": 14570339
         },
         {
          "Country": "DE",
          "Date": "2019-09-01T00:00:00",
          "Tourist Arrivals": 14373815
         },
         {
          "Country": "DE",
          "Date": "2019-10-01T00:00:00",
          "Tourist Arrivals": 13780441
         },
         {
          "Country": "PT",
          "Date": "1990-01-01T00:00:00",
          "Tourist Arrivals": 325138
         },
         {
          "Country": "PT",
          "Date": "1990-02-01T00:00:00",
          "Tourist Arrivals": 381539
         },
         {
          "Country": "PT",
          "Date": "1990-03-01T00:00:00",
          "Tourist Arrivals": 493957
         },
         {
          "Country": "PT",
          "Date": "1990-04-01T00:00:00",
          "Tourist Arrivals": 635822
         },
         {
          "Country": "PT",
          "Date": "1990-05-01T00:00:00",
          "Tourist Arrivals": 609952
         },
         {
          "Country": "PT",
          "Date": "1990-06-01T00:00:00",
          "Tourist Arrivals": 600451
         },
         {
          "Country": "PT",
          "Date": "1990-07-01T00:00:00",
          "Tourist Arrivals": 678446
         },
         {
          "Country": "PT",
          "Date": "1990-08-01T00:00:00",
          "Tourist Arrivals": 835119
         },
         {
          "Country": "PT",
          "Date": "1990-09-01T00:00:00",
          "Tourist Arrivals": 739187
         },
         {
          "Country": "PT",
          "Date": "1990-10-01T00:00:00",
          "Tourist Arrivals": 618071
         },
         {
          "Country": "PT",
          "Date": "1990-11-01T00:00:00",
          "Tourist Arrivals": 424864
         },
         {
          "Country": "PT",
          "Date": "1990-12-01T00:00:00",
          "Tourist Arrivals": 391129
         },
         {
          "Country": "PT",
          "Date": "1991-01-01T00:00:00",
          "Tourist Arrivals": 328842
         },
         {
          "Country": "PT",
          "Date": "1991-02-01T00:00:00",
          "Tourist Arrivals": 373727
         },
         {
          "Country": "PT",
          "Date": "1991-03-01T00:00:00",
          "Tourist Arrivals": 585098
         },
         {
          "Country": "PT",
          "Date": "1991-04-01T00:00:00",
          "Tourist Arrivals": 587085
         },
         {
          "Country": "PT",
          "Date": "1991-05-01T00:00:00",
          "Tourist Arrivals": 685867
         },
         {
          "Country": "PT",
          "Date": "1991-06-01T00:00:00",
          "Tourist Arrivals": 658869
         },
         {
          "Country": "PT",
          "Date": "1991-07-01T00:00:00",
          "Tourist Arrivals": 723855
         },
         {
          "Country": "PT",
          "Date": "1991-08-01T00:00:00",
          "Tourist Arrivals": 885011
         },
         {
          "Country": "PT",
          "Date": "1991-09-01T00:00:00",
          "Tourist Arrivals": 777360
         },
         {
          "Country": "PT",
          "Date": "1991-10-01T00:00:00",
          "Tourist Arrivals": 604904
         },
         {
          "Country": "PT",
          "Date": "1991-11-01T00:00:00",
          "Tourist Arrivals": 435089
         },
         {
          "Country": "PT",
          "Date": "1991-12-01T00:00:00",
          "Tourist Arrivals": 380178
         },
         {
          "Country": "PT",
          "Date": "1992-01-01T00:00:00",
          "Tourist Arrivals": 343732
         },
         {
          "Country": "PT",
          "Date": "1992-02-01T00:00:00",
          "Tourist Arrivals": 405857
         },
         {
          "Country": "PT",
          "Date": "1992-03-01T00:00:00",
          "Tourist Arrivals": 503669
         },
         {
          "Country": "PT",
          "Date": "1992-04-01T00:00:00",
          "Tourist Arrivals": 667306
         },
         {
          "Country": "PT",
          "Date": "1992-05-01T00:00:00",
          "Tourist Arrivals": 709130
         },
         {
          "Country": "PT",
          "Date": "1992-06-01T00:00:00",
          "Tourist Arrivals": 620241
         },
         {
          "Country": "PT",
          "Date": "1992-07-01T00:00:00",
          "Tourist Arrivals": 675792
         },
         {
          "Country": "PT",
          "Date": "1992-08-01T00:00:00",
          "Tourist Arrivals": 843372
         },
         {
          "Country": "PT",
          "Date": "1992-09-01T00:00:00",
          "Tourist Arrivals": 734605
         },
         {
          "Country": "PT",
          "Date": "1992-10-01T00:00:00",
          "Tourist Arrivals": 607612
         },
         {
          "Country": "PT",
          "Date": "1992-11-01T00:00:00",
          "Tourist Arrivals": 395199
         },
         {
          "Country": "PT",
          "Date": "1992-12-01T00:00:00",
          "Tourist Arrivals": 382042
         },
         {
          "Country": "PT",
          "Date": "1993-01-01T00:00:00",
          "Tourist Arrivals": 327298
         },
         {
          "Country": "PT",
          "Date": "1993-02-01T00:00:00",
          "Tourist Arrivals": 378939
         },
         {
          "Country": "PT",
          "Date": "1993-03-01T00:00:00",
          "Tourist Arrivals": 467125
         },
         {
          "Country": "PT",
          "Date": "1993-04-01T00:00:00",
          "Tourist Arrivals": 599639
         },
         {
          "Country": "PT",
          "Date": "1993-05-01T00:00:00",
          "Tourist Arrivals": 595553
         },
         {
          "Country": "PT",
          "Date": "1993-06-01T00:00:00",
          "Tourist Arrivals": 562473
         },
         {
          "Country": "PT",
          "Date": "1993-07-01T00:00:00",
          "Tourist Arrivals": 629256
         },
         {
          "Country": "PT",
          "Date": "1993-08-01T00:00:00",
          "Tourist Arrivals": 791135
         },
         {
          "Country": "PT",
          "Date": "1993-09-01T00:00:00",
          "Tourist Arrivals": 679645
         },
         {
          "Country": "PT",
          "Date": "1993-10-01T00:00:00",
          "Tourist Arrivals": 583685
         },
         {
          "Country": "PT",
          "Date": "1993-11-01T00:00:00",
          "Tourist Arrivals": 373949
         },
         {
          "Country": "PT",
          "Date": "1993-12-01T00:00:00",
          "Tourist Arrivals": 357375
         },
         {
          "Country": "PT",
          "Date": "1994-01-01T00:00:00",
          "Tourist Arrivals": 315653
         },
         {
          "Country": "PT",
          "Date": "1994-02-01T00:00:00",
          "Tourist Arrivals": 364478
         },
         {
          "Country": "PT",
          "Date": "1994-03-01T00:00:00",
          "Tourist Arrivals": 546842
         },
         {
          "Country": "PT",
          "Date": "1994-04-01T00:00:00",
          "Tourist Arrivals": 676028
         },
         {
          "Country": "PT",
          "Date": "1994-05-01T00:00:00",
          "Tourist Arrivals": 639490
         },
         {
          "Country": "PT",
          "Date": "1994-06-01T00:00:00",
          "Tourist Arrivals": 618870
         },
         {
          "Country": "PT",
          "Date": "1994-07-01T00:00:00",
          "Tourist Arrivals": 688344
         },
         {
          "Country": "PT",
          "Date": "1994-08-01T00:00:00",
          "Tourist Arrivals": 818554
         },
         {
          "Country": "PT",
          "Date": "1994-09-01T00:00:00",
          "Tourist Arrivals": 700620
         },
         {
          "Country": "PT",
          "Date": "1994-10-01T00:00:00",
          "Tourist Arrivals": 566364
         },
         {
          "Country": "PT",
          "Date": "1994-11-01T00:00:00",
          "Tourist Arrivals": 419101
         },
         {
          "Country": "PT",
          "Date": "1994-12-01T00:00:00",
          "Tourist Arrivals": 405914
         },
         {
          "Country": "PT",
          "Date": "1995-01-01T00:00:00",
          "Tourist Arrivals": 342045
         },
         {
          "Country": "PT",
          "Date": "1995-02-01T00:00:00",
          "Tourist Arrivals": 395425
         },
         {
          "Country": "PT",
          "Date": "1995-03-01T00:00:00",
          "Tourist Arrivals": 516981
         },
         {
          "Country": "PT",
          "Date": "1995-04-01T00:00:00",
          "Tourist Arrivals": 733613
         },
         {
          "Country": "PT",
          "Date": "1995-05-01T00:00:00",
          "Tourist Arrivals": 718773
         },
         {
          "Country": "PT",
          "Date": "1995-06-01T00:00:00",
          "Tourist Arrivals": 677044
         },
         {
          "Country": "PT",
          "Date": "1995-07-01T00:00:00",
          "Tourist Arrivals": 745918
         },
         {
          "Country": "PT",
          "Date": "1995-08-01T00:00:00",
          "Tourist Arrivals": 886835
         },
         {
          "Country": "PT",
          "Date": "1995-09-01T00:00:00",
          "Tourist Arrivals": 779225
         },
         {
          "Country": "PT",
          "Date": "1995-10-01T00:00:00",
          "Tourist Arrivals": 643352
         },
         {
          "Country": "PT",
          "Date": "1995-11-01T00:00:00",
          "Tourist Arrivals": 456728
         },
         {
          "Country": "PT",
          "Date": "1995-12-01T00:00:00",
          "Tourist Arrivals": 430156
         },
         {
          "Country": "PT",
          "Date": "1996-01-01T00:00:00",
          "Tourist Arrivals": 346012
         },
         {
          "Country": "PT",
          "Date": "1996-02-01T00:00:00",
          "Tourist Arrivals": 428034
         },
         {
          "Country": "PT",
          "Date": "1996-03-01T00:00:00",
          "Tourist Arrivals": 576391
         },
         {
          "Country": "PT",
          "Date": "1996-04-01T00:00:00",
          "Tourist Arrivals": 714235
         },
         {
          "Country": "PT",
          "Date": "1996-05-01T00:00:00",
          "Tourist Arrivals": 742041
         },
         {
          "Country": "PT",
          "Date": "1996-06-01T00:00:00",
          "Tourist Arrivals": 709365
         },
         {
          "Country": "PT",
          "Date": "1996-07-01T00:00:00",
          "Tourist Arrivals": 741873
         },
         {
          "Country": "PT",
          "Date": "1996-08-01T00:00:00",
          "Tourist Arrivals": 944974
         },
         {
          "Country": "PT",
          "Date": "1996-09-01T00:00:00",
          "Tourist Arrivals": 812454
         },
         {
          "Country": "PT",
          "Date": "1996-10-01T00:00:00",
          "Tourist Arrivals": 670733
         },
         {
          "Country": "PT",
          "Date": "1996-11-01T00:00:00",
          "Tourist Arrivals": 475543
         },
         {
          "Country": "PT",
          "Date": "1996-12-01T00:00:00",
          "Tourist Arrivals": 428415
         },
         {
          "Country": "PT",
          "Date": "1997-01-01T00:00:00",
          "Tourist Arrivals": 361735
         },
         {
          "Country": "PT",
          "Date": "1997-02-01T00:00:00",
          "Tourist Arrivals": 431465
         },
         {
          "Country": "PT",
          "Date": "1997-03-01T00:00:00",
          "Tourist Arrivals": 681821
         },
         {
          "Country": "PT",
          "Date": "1997-04-01T00:00:00",
          "Tourist Arrivals": 709958
         },
         {
          "Country": "PT",
          "Date": "1997-05-01T00:00:00",
          "Tourist Arrivals": 815940
         },
         {
          "Country": "PT",
          "Date": "1997-06-01T00:00:00",
          "Tourist Arrivals": 720699
         },
         {
          "Country": "PT",
          "Date": "1997-07-01T00:00:00",
          "Tourist Arrivals": 804018
         },
         {
          "Country": "PT",
          "Date": "1997-08-01T00:00:00",
          "Tourist Arrivals": 1003883
         },
         {
          "Country": "PT",
          "Date": "1997-09-01T00:00:00",
          "Tourist Arrivals": 855960
         },
         {
          "Country": "PT",
          "Date": "1997-10-01T00:00:00",
          "Tourist Arrivals": 726385
         },
         {
          "Country": "PT",
          "Date": "1997-11-01T00:00:00",
          "Tourist Arrivals": 485184
         },
         {
          "Country": "PT",
          "Date": "1997-12-01T00:00:00",
          "Tourist Arrivals": 452849
         },
         {
          "Country": "PT",
          "Date": "1998-01-01T00:00:00",
          "Tourist Arrivals": 419475
         },
         {
          "Country": "PT",
          "Date": "1998-02-01T00:00:00",
          "Tourist Arrivals": 488538
         },
         {
          "Country": "PT",
          "Date": "1998-03-01T00:00:00",
          "Tourist Arrivals": 633139
         },
         {
          "Country": "PT",
          "Date": "1998-04-01T00:00:00",
          "Tourist Arrivals": 794680
         },
         {
          "Country": "PT",
          "Date": "1998-05-01T00:00:00",
          "Tourist Arrivals": 865283
         },
         {
          "Country": "PT",
          "Date": "1998-06-01T00:00:00",
          "Tourist Arrivals": 894765
         },
         {
          "Country": "PT",
          "Date": "1998-07-01T00:00:00",
          "Tourist Arrivals": 949136
         },
         {
          "Country": "PT",
          "Date": "1998-08-01T00:00:00",
          "Tourist Arrivals": 1145857
         },
         {
          "Country": "PT",
          "Date": "1998-09-01T00:00:00",
          "Tourist Arrivals": 998911
         },
         {
          "Country": "PT",
          "Date": "1998-10-01T00:00:00",
          "Tourist Arrivals": 777252
         },
         {
          "Country": "PT",
          "Date": "1998-11-01T00:00:00",
          "Tourist Arrivals": 525027
         },
         {
          "Country": "PT",
          "Date": "1998-12-01T00:00:00",
          "Tourist Arrivals": 502651
         },
         {
          "Country": "PT",
          "Date": "1999-01-01T00:00:00",
          "Tourist Arrivals": 430529
         },
         {
          "Country": "PT",
          "Date": "1999-02-01T00:00:00",
          "Tourist Arrivals": 525637
         },
         {
          "Country": "PT",
          "Date": "1999-03-01T00:00:00",
          "Tourist Arrivals": 696968
         },
         {
          "Country": "PT",
          "Date": "1999-04-01T00:00:00",
          "Tourist Arrivals": 808873
         },
         {
          "Country": "PT",
          "Date": "1999-05-01T00:00:00",
          "Tourist Arrivals": 880291
         },
         {
          "Country": "PT",
          "Date": "1999-06-01T00:00:00",
          "Tourist Arrivals": 832874
         },
         {
          "Country": "PT",
          "Date": "1999-07-01T00:00:00",
          "Tourist Arrivals": 897939
         },
         {
          "Country": "PT",
          "Date": "1999-08-01T00:00:00",
          "Tourist Arrivals": 1084926
         },
         {
          "Country": "PT",
          "Date": "1999-09-01T00:00:00",
          "Tourist Arrivals": 959357
         },
         {
          "Country": "PT",
          "Date": "1999-10-01T00:00:00",
          "Tourist Arrivals": 853172
         },
         {
          "Country": "PT",
          "Date": "1999-11-01T00:00:00",
          "Tourist Arrivals": 578744
         },
         {
          "Country": "PT",
          "Date": "1999-12-01T00:00:00",
          "Tourist Arrivals": 496283
         },
         {
          "Country": "PT",
          "Date": "2000-01-01T00:00:00",
          "Tourist Arrivals": 427041
         },
         {
          "Country": "PT",
          "Date": "2000-02-01T00:00:00",
          "Tourist Arrivals": 526350
         },
         {
          "Country": "PT",
          "Date": "2000-03-01T00:00:00",
          "Tourist Arrivals": 729482
         },
         {
          "Country": "PT",
          "Date": "2000-04-01T00:00:00",
          "Tourist Arrivals": 894769
         },
         {
          "Country": "PT",
          "Date": "2000-05-01T00:00:00",
          "Tourist Arrivals": 891307
         },
         {
          "Country": "PT",
          "Date": "2000-06-01T00:00:00",
          "Tourist Arrivals": 847774
         },
         {
          "Country": "PT",
          "Date": "2000-07-01T00:00:00",
          "Tourist Arrivals": 940053
         },
         {
          "Country": "PT",
          "Date": "2000-08-01T00:00:00",
          "Tourist Arrivals": 1108076
         },
         {
          "Country": "PT",
          "Date": "2000-09-01T00:00:00",
          "Tourist Arrivals": 995570
         },
         {
          "Country": "PT",
          "Date": "2000-10-01T00:00:00",
          "Tourist Arrivals": 841055
         },
         {
          "Country": "PT",
          "Date": "2000-11-01T00:00:00",
          "Tourist Arrivals": 619118
         },
         {
          "Country": "PT",
          "Date": "2000-12-01T00:00:00",
          "Tourist Arrivals": 522220
         },
         {
          "Country": "PT",
          "Date": "2001-01-01T00:00:00",
          "Tourist Arrivals": 478745
         },
         {
          "Country": "PT",
          "Date": "2001-02-01T00:00:00",
          "Tourist Arrivals": 569991
         },
         {
          "Country": "PT",
          "Date": "2001-03-01T00:00:00",
          "Tourist Arrivals": 724735
         },
         {
          "Country": "PT",
          "Date": "2001-04-01T00:00:00",
          "Tourist Arrivals": 918416
         },
         {
          "Country": "PT",
          "Date": "2001-05-01T00:00:00",
          "Tourist Arrivals": 917764
         },
         {
          "Country": "PT",
          "Date": "2001-06-01T00:00:00",
          "Tourist Arrivals": 894448
         },
         {
          "Country": "PT",
          "Date": "2001-07-01T00:00:00",
          "Tourist Arrivals": 950431
         },
         {
          "Country": "PT",
          "Date": "2001-08-01T00:00:00",
          "Tourist Arrivals": 1096784
         },
         {
          "Country": "PT",
          "Date": "2001-09-01T00:00:00",
          "Tourist Arrivals": 952255
         },
         {
          "Country": "PT",
          "Date": "2001-10-01T00:00:00",
          "Tourist Arrivals": 815475
         },
         {
          "Country": "PT",
          "Date": "2001-11-01T00:00:00",
          "Tourist Arrivals": 584753
         },
         {
          "Country": "PT",
          "Date": "2001-12-01T00:00:00",
          "Tourist Arrivals": 488649
         },
         {
          "Country": "PT",
          "Date": "2002-01-01T00:00:00",
          "Tourist Arrivals": 463526
         },
         {
          "Country": "PT",
          "Date": "2002-02-01T00:00:00",
          "Tourist Arrivals": 582512
         },
         {
          "Country": "PT",
          "Date": "2002-03-01T00:00:00",
          "Tourist Arrivals": 827094
         },
         {
          "Country": "PT",
          "Date": "2002-04-01T00:00:00",
          "Tourist Arrivals": 834359
         },
         {
          "Country": "PT",
          "Date": "2002-05-01T00:00:00",
          "Tourist Arrivals": 940354
         },
         {
          "Country": "PT",
          "Date": "2002-06-01T00:00:00",
          "Tourist Arrivals": 912061
         },
         {
          "Country": "PT",
          "Date": "2002-07-01T00:00:00",
          "Tourist Arrivals": 961808
         },
         {
          "Country": "PT",
          "Date": "2002-08-01T00:00:00",
          "Tourist Arrivals": 1245493
         },
         {
          "Country": "PT",
          "Date": "2002-09-01T00:00:00",
          "Tourist Arrivals": 1022900
         },
         {
          "Country": "PT",
          "Date": "2002-10-01T00:00:00",
          "Tourist Arrivals": 823833
         },
         {
          "Country": "PT",
          "Date": "2002-11-01T00:00:00",
          "Tourist Arrivals": 601660
         },
         {
          "Country": "PT",
          "Date": "2002-12-01T00:00:00",
          "Tourist Arrivals": 519144
         },
         {
          "Country": "PT",
          "Date": "2003-01-01T00:00:00",
          "Tourist Arrivals": 464480
         },
         {
          "Country": "PT",
          "Date": "2003-02-01T00:00:00",
          "Tourist Arrivals": 549259
         },
         {
          "Country": "PT",
          "Date": "2003-03-01T00:00:00",
          "Tourist Arrivals": 703002
         },
         {
          "Country": "PT",
          "Date": "2003-04-01T00:00:00",
          "Tourist Arrivals": 890693
         },
         {
          "Country": "PT",
          "Date": "2003-05-01T00:00:00",
          "Tourist Arrivals": 953336
         },
         {
          "Country": "PT",
          "Date": "2003-06-01T00:00:00",
          "Tourist Arrivals": 896668
         },
         {
          "Country": "PT",
          "Date": "2003-07-01T00:00:00",
          "Tourist Arrivals": 954499
         },
         {
          "Country": "PT",
          "Date": "2003-08-01T00:00:00",
          "Tourist Arrivals": 1196879
         },
         {
          "Country": "PT",
          "Date": "2003-09-01T00:00:00",
          "Tourist Arrivals": 998050
         },
         {
          "Country": "PT",
          "Date": "2003-10-01T00:00:00",
          "Tourist Arrivals": 835529
         },
         {
          "Country": "PT",
          "Date": "2003-11-01T00:00:00",
          "Tourist Arrivals": 613220
         },
         {
          "Country": "PT",
          "Date": "2003-12-01T00:00:00",
          "Tourist Arrivals": 563652
         },
         {
          "Country": "PT",
          "Date": "2004-01-01T00:00:00",
          "Tourist Arrivals": 475304
         },
         {
          "Country": "PT",
          "Date": "2004-02-01T00:00:00",
          "Tourist Arrivals": 598922
         },
         {
          "Country": "PT",
          "Date": "2004-03-01T00:00:00",
          "Tourist Arrivals": 720474
         },
         {
          "Country": "PT",
          "Date": "2004-04-01T00:00:00",
          "Tourist Arrivals": 927614
         },
         {
          "Country": "PT",
          "Date": "2004-05-01T00:00:00",
          "Tourist Arrivals": 994840
         },
         {
          "Country": "PT",
          "Date": "2004-06-01T00:00:00",
          "Tourist Arrivals": 938991
         },
         {
          "Country": "PT",
          "Date": "2004-07-01T00:00:00",
          "Tourist Arrivals": 1011718
         },
         {
          "Country": "PT",
          "Date": "2004-08-01T00:00:00",
          "Tourist Arrivals": 1255639
         },
         {
          "Country": "PT",
          "Date": "2004-09-01T00:00:00",
          "Tourist Arrivals": 1052437
         },
         {
          "Country": "PT",
          "Date": "2004-10-01T00:00:00",
          "Tourist Arrivals": 934268
         },
         {
          "Country": "PT",
          "Date": "2004-11-01T00:00:00",
          "Tourist Arrivals": 618424
         },
         {
          "Country": "PT",
          "Date": "2004-12-01T00:00:00",
          "Tourist Arrivals": 606263
         },
         {
          "Country": "PT",
          "Date": "2005-01-01T00:00:00",
          "Tourist Arrivals": 505291
         },
         {
          "Country": "PT",
          "Date": "2005-02-01T00:00:00",
          "Tourist Arrivals": 582901
         },
         {
          "Country": "PT",
          "Date": "2005-03-01T00:00:00",
          "Tourist Arrivals": 830238
         },
         {
          "Country": "PT",
          "Date": "2005-04-01T00:00:00",
          "Tourist Arrivals": 899584
         },
         {
          "Country": "PT",
          "Date": "2005-05-01T00:00:00",
          "Tourist Arrivals": 1024243
         },
         {
          "Country": "PT",
          "Date": "2005-06-01T00:00:00",
          "Tourist Arrivals": 982722
         },
         {
          "Country": "PT",
          "Date": "2005-07-01T00:00:00",
          "Tourist Arrivals": 1080611
         },
         {
          "Country": "PT",
          "Date": "2005-08-01T00:00:00",
          "Tourist Arrivals": 1332651
         },
         {
          "Country": "PT",
          "Date": "2005-09-01T00:00:00",
          "Tourist Arrivals": 1096997
         },
         {
          "Country": "PT",
          "Date": "2005-10-01T00:00:00",
          "Tourist Arrivals": 940787
         },
         {
          "Country": "PT",
          "Date": "2005-11-01T00:00:00",
          "Tourist Arrivals": 662732
         },
         {
          "Country": "PT",
          "Date": "2005-12-01T00:00:00",
          "Tourist Arrivals": 650933
         },
         {
          "Country": "PT",
          "Date": "2006-01-01T00:00:00",
          "Tourist Arrivals": 544074
         },
         {
          "Country": "PT",
          "Date": "2006-02-01T00:00:00",
          "Tourist Arrivals": 632557
         },
         {
          "Country": "PT",
          "Date": "2006-03-01T00:00:00",
          "Tourist Arrivals": 790270
         },
         {
          "Country": "PT",
          "Date": "2006-04-01T00:00:00",
          "Tourist Arrivals": 1098197
         },
         {
          "Country": "PT",
          "Date": "2006-05-01T00:00:00",
          "Tourist Arrivals": 1082291
         },
         {
          "Country": "PT",
          "Date": "2006-06-01T00:00:00",
          "Tourist Arrivals": 1015167
         },
         {
          "Country": "PT",
          "Date": "2006-07-01T00:00:00",
          "Tourist Arrivals": 1150895
         },
         {
          "Country": "PT",
          "Date": "2006-08-01T00:00:00",
          "Tourist Arrivals": 1427130
         },
         {
          "Country": "PT",
          "Date": "2006-09-01T00:00:00",
          "Tourist Arrivals": 1194884
         },
         {
          "Country": "PT",
          "Date": "2006-10-01T00:00:00",
          "Tourist Arrivals": 1023405
         },
         {
          "Country": "PT",
          "Date": "2006-11-01T00:00:00",
          "Tourist Arrivals": 728881
         },
         {
          "Country": "PT",
          "Date": "2006-12-01T00:00:00",
          "Tourist Arrivals": 744185
         },
         {
          "Country": "PT",
          "Date": "2007-01-01T00:00:00",
          "Tourist Arrivals": 576307
         },
         {
          "Country": "PT",
          "Date": "2007-02-01T00:00:00",
          "Tourist Arrivals": 658472
         },
         {
          "Country": "PT",
          "Date": "2007-03-01T00:00:00",
          "Tourist Arrivals": 915489
         },
         {
          "Country": "PT",
          "Date": "2007-04-01T00:00:00",
          "Tourist Arrivals": 1098465
         },
         {
          "Country": "PT",
          "Date": "2007-05-01T00:00:00",
          "Tourist Arrivals": 1148166
         },
         {
          "Country": "PT",
          "Date": "2007-06-01T00:00:00",
          "Tourist Arrivals": 1118169
         },
         {
          "Country": "PT",
          "Date": "2007-07-01T00:00:00",
          "Tourist Arrivals": 1248138
         },
         {
          "Country": "PT",
          "Date": "2007-08-01T00:00:00",
          "Tourist Arrivals": 1526522
         },
         {
          "Country": "PT",
          "Date": "2007-09-01T00:00:00",
          "Tourist Arrivals": 1298201
         },
         {
          "Country": "PT",
          "Date": "2007-10-01T00:00:00",
          "Tourist Arrivals": 1124452
         },
         {
          "Country": "PT",
          "Date": "2007-11-01T00:00:00",
          "Tourist Arrivals": 831812
         },
         {
          "Country": "PT",
          "Date": "2007-12-01T00:00:00",
          "Tourist Arrivals": 734021
         },
         {
          "Country": "PT",
          "Date": "2008-01-01T00:00:00",
          "Tourist Arrivals": 615271
         },
         {
          "Country": "PT",
          "Date": "2008-02-01T00:00:00",
          "Tourist Arrivals": 755601
         },
         {
          "Country": "PT",
          "Date": "2008-03-01T00:00:00",
          "Tourist Arrivals": 1021606
         },
         {
          "Country": "PT",
          "Date": "2008-04-01T00:00:00",
          "Tourist Arrivals": 1056241
         },
         {
          "Country": "PT",
          "Date": "2008-05-01T00:00:00",
          "Tourist Arrivals": 1266949
         },
         {
          "Country": "PT",
          "Date": "2008-06-01T00:00:00",
          "Tourist Arrivals": 1136882
         },
         {
          "Country": "PT",
          "Date": "2008-07-01T00:00:00",
          "Tourist Arrivals": 1271992
         },
         {
          "Country": "PT",
          "Date": "2008-08-01T00:00:00",
          "Tourist Arrivals": 1591623
         },
         {
          "Country": "PT",
          "Date": "2008-09-01T00:00:00",
          "Tourist Arrivals": 1307947
         },
         {
          "Country": "PT",
          "Date": "2008-10-01T00:00:00",
          "Tourist Arrivals": 1080402
         },
         {
          "Country": "PT",
          "Date": "2008-11-01T00:00:00",
          "Tourist Arrivals": 763769
         },
         {
          "Country": "PT",
          "Date": "2008-12-01T00:00:00",
          "Tourist Arrivals": 708589
         },
         {
          "Country": "PT",
          "Date": "2009-01-01T00:00:00",
          "Tourist Arrivals": 577019
         },
         {
          "Country": "PT",
          "Date": "2009-02-01T00:00:00",
          "Tourist Arrivals": 684991
         },
         {
          "Country": "PT",
          "Date": "2009-03-01T00:00:00",
          "Tourist Arrivals": 813284
         },
         {
          "Country": "PT",
          "Date": "2009-04-01T00:00:00",
          "Tourist Arrivals": 1082696
         },
         {
          "Country": "PT",
          "Date": "2009-05-01T00:00:00",
          "Tourist Arrivals": 1117176
         },
         {
          "Country": "PT",
          "Date": "2009-06-01T00:00:00",
          "Tourist Arrivals": 1133948
         },
         {
          "Country": "PT",
          "Date": "2009-07-01T00:00:00",
          "Tourist Arrivals": 1261969
         },
         {
          "Country": "PT",
          "Date": "2009-08-01T00:00:00",
          "Tourist Arrivals": 1590361
         },
         {
          "Country": "PT",
          "Date": "2009-09-01T00:00:00",
          "Tourist Arrivals": 1256136
         },
         {
          "Country": "PT",
          "Date": "2009-10-01T00:00:00",
          "Tourist Arrivals": 1114547
         },
         {
          "Country": "PT",
          "Date": "2009-11-01T00:00:00",
          "Tourist Arrivals": 756640
         },
         {
          "Country": "PT",
          "Date": "2009-12-01T00:00:00",
          "Tourist Arrivals": 718466
         },
         {
          "Country": "PT",
          "Date": "2010-01-01T00:00:00",
          "Tourist Arrivals": 630397
         },
         {
          "Country": "PT",
          "Date": "2010-02-01T00:00:00",
          "Tourist Arrivals": 738501
         },
         {
          "Country": "PT",
          "Date": "2010-03-01T00:00:00",
          "Tourist Arrivals": 915722
         },
         {
          "Country": "PT",
          "Date": "2010-04-01T00:00:00",
          "Tourist Arrivals": 1069915
         },
         {
          "Country": "PT",
          "Date": "2010-05-01T00:00:00",
          "Tourist Arrivals": 1221264
         },
         {
          "Country": "PT",
          "Date": "2010-06-01T00:00:00",
          "Tourist Arrivals": 1162915
         },
         {
          "Country": "PT",
          "Date": "2010-07-01T00:00:00",
          "Tourist Arrivals": 1370520
         },
         {
          "Country": "PT",
          "Date": "2010-08-01T00:00:00",
          "Tourist Arrivals": 1650055
         },
         {
          "Country": "PT",
          "Date": "2010-09-01T00:00:00",
          "Tourist Arrivals": 1360006
         },
         {
          "Country": "PT",
          "Date": "2010-10-01T00:00:00",
          "Tourist Arrivals": 1195378
         },
         {
          "Country": "PT",
          "Date": "2010-11-01T00:00:00",
          "Tourist Arrivals": 754408
         },
         {
          "Country": "PT",
          "Date": "2010-12-01T00:00:00",
          "Tourist Arrivals": 737044
         },
         {
          "Country": "PT",
          "Date": "2011-01-01T00:00:00",
          "Tourist Arrivals": 619120
         },
         {
          "Country": "PT",
          "Date": "2011-02-01T00:00:00",
          "Tourist Arrivals": 710494
         },
         {
          "Country": "PT",
          "Date": "2011-03-01T00:00:00",
          "Tourist Arrivals": 903986
         },
         {
          "Country": "PT",
          "Date": "2011-04-01T00:00:00",
          "Tourist Arrivals": 1205385
         },
         {
          "Country": "PT",
          "Date": "2011-05-01T00:00:00",
          "Tourist Arrivals": 1264144
         },
         {
          "Country": "PT",
          "Date": "2011-06-01T00:00:00",
          "Tourist Arrivals": 1297090
         },
         {
          "Country": "PT",
          "Date": "2011-07-01T00:00:00",
          "Tourist Arrivals": 1485248
         },
         {
          "Country": "PT",
          "Date": "2011-08-01T00:00:00",
          "Tourist Arrivals": 1741037
         },
         {
          "Country": "PT",
          "Date": "2011-09-01T00:00:00",
          "Tourist Arrivals": 1427943
         },
         {
          "Country": "PT",
          "Date": "2011-10-01T00:00:00",
          "Tourist Arrivals": 1191877
         },
         {
          "Country": "PT",
          "Date": "2011-11-01T00:00:00",
          "Tourist Arrivals": 704995
         },
         {
          "Country": "PT",
          "Date": "2011-12-01T00:00:00",
          "Tourist Arrivals": 699457
         },
         {
          "Country": "PT",
          "Date": "2012-01-01T00:00:00",
          "Tourist Arrivals": 589319
         },
         {
          "Country": "PT",
          "Date": "2012-02-01T00:00:00",
          "Tourist Arrivals": 680887
         },
         {
          "Country": "PT",
          "Date": "2012-03-01T00:00:00",
          "Tourist Arrivals": 887387
         },
         {
          "Country": "PT",
          "Date": "2012-04-01T00:00:00",
          "Tourist Arrivals": 1113177
         },
         {
          "Country": "PT",
          "Date": "2012-05-01T00:00:00",
          "Tourist Arrivals": 1237858
         },
         {
          "Country": "PT",
          "Date": "2012-06-01T00:00:00",
          "Tourist Arrivals": 1305418
         },
         {
          "Country": "PT",
          "Date": "2012-07-01T00:00:00",
          "Tourist Arrivals": 1448505
         },
         {
          "Country": "PT",
          "Date": "2012-08-01T00:00:00",
          "Tourist Arrivals": 1696925
         },
         {
          "Country": "PT",
          "Date": "2012-09-01T00:00:00",
          "Tourist Arrivals": 1444346
         },
         {
          "Country": "PT",
          "Date": "2012-10-01T00:00:00",
          "Tourist Arrivals": 1160167
         },
         {
          "Country": "PT",
          "Date": "2012-11-01T00:00:00",
          "Tourist Arrivals": 734534
         },
         {
          "Country": "PT",
          "Date": "2012-12-01T00:00:00",
          "Tourist Arrivals": 682171
         },
         {
          "Country": "PT",
          "Date": "2013-01-01T00:00:00",
          "Tourist Arrivals": 579155
         },
         {
          "Country": "PT",
          "Date": "2013-02-01T00:00:00",
          "Tourist Arrivals": 694407
         },
         {
          "Country": "PT",
          "Date": "2013-03-01T00:00:00",
          "Tourist Arrivals": 977524
         },
         {
          "Country": "PT",
          "Date": "2013-04-01T00:00:00",
          "Tourist Arrivals": 1092958
         },
         {
          "Country": "PT",
          "Date": "2013-05-01T00:00:00",
          "Tourist Arrivals": 1366198
         },
         {
          "Country": "PT",
          "Date": "2013-06-01T00:00:00",
          "Tourist Arrivals": 1436462
         },
         {
          "Country": "PT",
          "Date": "2013-07-01T00:00:00",
          "Tourist Arrivals": 1532246
         },
         {
          "Country": "PT",
          "Date": "2013-08-01T00:00:00",
          "Tourist Arrivals": 1859446
         },
         {
          "Country": "PT",
          "Date": "2013-09-01T00:00:00",
          "Tourist Arrivals": 1528179
         },
         {
          "Country": "PT",
          "Date": "2013-10-01T00:00:00",
          "Tourist Arrivals": 1258137
         },
         {
          "Country": "PT",
          "Date": "2013-11-01T00:00:00",
          "Tourist Arrivals": 824646
         },
         {
          "Country": "PT",
          "Date": "2013-12-01T00:00:00",
          "Tourist Arrivals": 776172
         },
         {
          "Country": "PT",
          "Date": "2014-01-01T00:00:00",
          "Tourist Arrivals": 655036
         },
         {
          "Country": "PT",
          "Date": "2014-02-01T00:00:00",
          "Tourist Arrivals": 758252
         },
         {
          "Country": "PT",
          "Date": "2014-03-01T00:00:00",
          "Tourist Arrivals": 1026996
         },
         {
          "Country": "PT",
          "Date": "2014-04-01T00:00:00",
          "Tourist Arrivals": 1399754
         },
         {
          "Country": "PT",
          "Date": "2014-05-01T00:00:00",
          "Tourist Arrivals": 1591122
         },
         {
          "Country": "PT",
          "Date": "2014-06-01T00:00:00",
          "Tourist Arrivals": 1567208
         },
         {
          "Country": "PT",
          "Date": "2014-07-01T00:00:00",
          "Tourist Arrivals": 1728319
         },
         {
          "Country": "PT",
          "Date": "2014-08-01T00:00:00",
          "Tourist Arrivals": 2136001
         },
         {
          "Country": "PT",
          "Date": "2014-09-01T00:00:00",
          "Tourist Arrivals": 1723994
         },
         {
          "Country": "PT",
          "Date": "2014-10-01T00:00:00",
          "Tourist Arrivals": 1476558
         },
         {
          "Country": "PT",
          "Date": "2014-11-01T00:00:00",
          "Tourist Arrivals": 927964
         },
         {
          "Country": "PT",
          "Date": "2014-12-01T00:00:00",
          "Tourist Arrivals": 912688
         },
         {
          "Country": "PT",
          "Date": "2015-01-01T00:00:00",
          "Tourist Arrivals": 708167
         },
         {
          "Country": "PT",
          "Date": "2015-02-01T00:00:00",
          "Tourist Arrivals": 824846
         },
         {
          "Country": "PT",
          "Date": "2015-03-01T00:00:00",
          "Tourist Arrivals": 1079881
         },
         {
          "Country": "PT",
          "Date": "2015-04-01T00:00:00",
          "Tourist Arrivals": 1368341
         },
         {
          "Country": "PT",
          "Date": "2015-05-01T00:00:00",
          "Tourist Arrivals": 1655763
         },
         {
          "Country": "PT",
          "Date": "2015-06-01T00:00:00",
          "Tourist Arrivals": 1629986
         },
         {
          "Country": "PT",
          "Date": "2015-07-01T00:00:00",
          "Tourist Arrivals": 1786400
         },
         {
          "Country": "PT",
          "Date": "2015-08-01T00:00:00",
          "Tourist Arrivals": 2138545
         },
         {
          "Country": "PT",
          "Date": "2015-09-01T00:00:00",
          "Tourist Arrivals": 1812387
         },
         {
          "Country": "PT",
          "Date": "2015-10-01T00:00:00",
          "Tourist Arrivals": 1525831
         },
         {
          "Country": "PT",
          "Date": "2015-11-01T00:00:00",
          "Tourist Arrivals": 939428
         },
         {
          "Country": "PT",
          "Date": "2015-12-01T00:00:00",
          "Tourist Arrivals": 942327
         },
         {
          "Country": "PT",
          "Date": "2016-01-01T00:00:00",
          "Tourist Arrivals": 804215
         },
         {
          "Country": "PT",
          "Date": "2016-02-01T00:00:00",
          "Tourist Arrivals": 991925
         },
         {
          "Country": "PT",
          "Date": "2016-03-01T00:00:00",
          "Tourist Arrivals": 1341428
         },
         {
          "Country": "PT",
          "Date": "2016-04-01T00:00:00",
          "Tourist Arrivals": 1525734
         },
         {
          "Country": "PT",
          "Date": "2016-05-01T00:00:00",
          "Tourist Arrivals": 1802186
         },
         {
          "Country": "PT",
          "Date": "2016-06-01T00:00:00",
          "Tourist Arrivals": 1861158
         },
         {
          "Country": "PT",
          "Date": "2016-07-01T00:00:00",
          "Tourist Arrivals": 2052728
         },
         {
          "Country": "PT",
          "Date": "2016-08-01T00:00:00",
          "Tourist Arrivals": 2305078
         },
         {
          "Country": "PT",
          "Date": "2016-09-01T00:00:00",
          "Tourist Arrivals": 2027721
         },
         {
          "Country": "PT",
          "Date": "2016-10-01T00:00:00",
          "Tourist Arrivals": 1770236
         },
         {
          "Country": "PT",
          "Date": "2016-11-01T00:00:00",
          "Tourist Arrivals": 1104733
         },
         {
          "Country": "PT",
          "Date": "2016-12-01T00:00:00",
          "Tourist Arrivals": 1054949
         },
         {
          "Country": "PT",
          "Date": "2017-01-01T00:00:00",
          "Tourist Arrivals": 941268
         },
         {
          "Country": "PT",
          "Date": "2017-02-01T00:00:00",
          "Tourist Arrivals": 1076681
         },
         {
          "Country": "PT",
          "Date": "2017-03-01T00:00:00",
          "Tourist Arrivals": 1355755
         },
         {
          "Country": "PT",
          "Date": "2017-04-01T00:00:00",
          "Tourist Arrivals": 1887821
         },
         {
          "Country": "PT",
          "Date": "2017-05-01T00:00:00",
          "Tourist Arrivals": 1954164
         },
         {
          "Country": "PT",
          "Date": "2017-06-01T00:00:00",
          "Tourist Arrivals": 2045274
         },
         {
          "Country": "PT",
          "Date": "2017-07-01T00:00:00",
          "Tourist Arrivals": 2185167
         },
         {
          "Country": "PT",
          "Date": "2017-08-01T00:00:00",
          "Tourist Arrivals": 2424592
         },
         {
          "Country": "PT",
          "Date": "2017-09-01T00:00:00",
          "Tourist Arrivals": 2208608
         },
         {
          "Country": "PT",
          "Date": "2017-10-01T00:00:00",
          "Tourist Arrivals": 1954913
         },
         {
          "Country": "PT",
          "Date": "2017-11-01T00:00:00",
          "Tourist Arrivals": 1225302
         },
         {
          "Country": "PT",
          "Date": "2017-12-01T00:00:00",
          "Tourist Arrivals": 1179559
         },
         {
          "Country": "PT",
          "Date": "2018-01-01T00:00:00",
          "Tourist Arrivals": 955656
         },
         {
          "Country": "PT",
          "Date": "2018-02-01T00:00:00",
          "Tourist Arrivals": 1113035
         },
         {
          "Country": "PT",
          "Date": "2018-03-01T00:00:00",
          "Tourist Arrivals": 1480669
         },
         {
          "Country": "PT",
          "Date": "2018-04-01T00:00:00",
          "Tourist Arrivals": 1732371
         },
         {
          "Country": "PT",
          "Date": "2018-05-01T00:00:00",
          "Tourist Arrivals": 1987980
         },
         {
          "Country": "PT",
          "Date": "2018-06-01T00:00:00",
          "Tourist Arrivals": 1993375
         },
         {
          "Country": "PT",
          "Date": "2018-07-01T00:00:00",
          "Tourist Arrivals": 2124165
         },
         {
          "Country": "PT",
          "Date": "2018-08-01T00:00:00",
          "Tourist Arrivals": 2433537
         },
         {
          "Country": "PT",
          "Date": "2018-09-01T00:00:00",
          "Tourist Arrivals": 2190642
         },
         {
          "Country": "PT",
          "Date": "2018-10-01T00:00:00",
          "Tourist Arrivals": 1943740
         },
         {
          "Country": "PT",
          "Date": "2018-11-01T00:00:00",
          "Tourist Arrivals": 1291337
         },
         {
          "Country": "PT",
          "Date": "2018-12-01T00:00:00",
          "Tourist Arrivals": 1193561
         },
         {
          "Country": "PT",
          "Date": "2019-01-01T00:00:00",
          "Tourist Arrivals": 1012572
         },
         {
          "Country": "PT",
          "Date": "2019-02-01T00:00:00",
          "Tourist Arrivals": 1148242
         },
         {
          "Country": "PT",
          "Date": "2019-03-01T00:00:00",
          "Tourist Arrivals": 1524251
         },
         {
          "Country": "PT",
          "Date": "2019-04-01T00:00:00",
          "Tourist Arrivals": 1888400
         },
         {
          "Country": "PT",
          "Date": "2019-05-01T00:00:00",
          "Tourist Arrivals": 2098320
         },
         {
          "Country": "PT",
          "Date": "2019-06-01T00:00:00",
          "Tourist Arrivals": 2143639
         },
         {
          "Country": "PT",
          "Date": "2019-07-01T00:00:00",
          "Tourist Arrivals": 2205705
         },
         {
          "Country": "PT",
          "Date": "2019-08-01T00:00:00",
          "Tourist Arrivals": 2531809
         },
         {
          "Country": "PT",
          "Date": "2019-09-01T00:00:00",
          "Tourist Arrivals": 2263748
         },
         {
          "Country": "PT",
          "Date": "2019-10-01T00:00:00",
          "Tourist Arrivals": 1995942
         },
         {
          "Country": "ES",
          "Date": "1990-01-01T00:00:00",
          "Tourist Arrivals": 1723786
         },
         {
          "Country": "ES",
          "Date": "1990-02-01T00:00:00",
          "Tourist Arrivals": 1885718
         },
         {
          "Country": "ES",
          "Date": "1990-03-01T00:00:00",
          "Tourist Arrivals": 2337847
         },
         {
          "Country": "ES",
          "Date": "1990-04-01T00:00:00",
          "Tourist Arrivals": 3172302
         },
         {
          "Country": "ES",
          "Date": "1990-05-01T00:00:00",
          "Tourist Arrivals": 3072480
         },
         {
          "Country": "ES",
          "Date": "1990-06-01T00:00:00",
          "Tourist Arrivals": 3086776
         },
         {
          "Country": "ES",
          "Date": "1990-07-01T00:00:00",
          "Tourist Arrivals": 3445909
         },
         {
          "Country": "ES",
          "Date": "1990-08-01T00:00:00",
          "Tourist Arrivals": 4066554
         },
         {
          "Country": "ES",
          "Date": "1990-09-01T00:00:00",
          "Tourist Arrivals": 3545411
         },
         {
          "Country": "ES",
          "Date": "1990-10-01T00:00:00",
          "Tourist Arrivals": 3032533
         },
         {
          "Country": "ES",
          "Date": "1990-11-01T00:00:00",
          "Tourist Arrivals": 2041654
         },
         {
          "Country": "ES",
          "Date": "1990-12-01T00:00:00",
          "Tourist Arrivals": 1825990
         },
         {
          "Country": "ES",
          "Date": "1991-01-01T00:00:00",
          "Tourist Arrivals": 1684492
         },
         {
          "Country": "ES",
          "Date": "1991-02-01T00:00:00",
          "Tourist Arrivals": 1766397
         },
         {
          "Country": "ES",
          "Date": "1991-03-01T00:00:00",
          "Tourist Arrivals": 2486376
         },
         {
          "Country": "ES",
          "Date": "1991-04-01T00:00:00",
          "Tourist Arrivals": 2612284
         },
         {
          "Country": "ES",
          "Date": "1991-05-01T00:00:00",
          "Tourist Arrivals": 3188158
         },
         {
          "Country": "ES",
          "Date": "1991-06-01T00:00:00",
          "Tourist Arrivals": 3216683
         },
         {
          "Country": "ES",
          "Date": "1991-07-01T00:00:00",
          "Tourist Arrivals": 3659230
         },
         {
          "Country": "ES",
          "Date": "1991-08-01T00:00:00",
          "Tourist Arrivals": 4215102
         },
         {
          "Country": "ES",
          "Date": "1991-09-01T00:00:00",
          "Tourist Arrivals": 3679057
         },
         {
          "Country": "ES",
          "Date": "1991-10-01T00:00:00",
          "Tourist Arrivals": 3017583
         },
         {
          "Country": "ES",
          "Date": "1991-11-01T00:00:00",
          "Tourist Arrivals": 2044463
         },
         {
          "Country": "ES",
          "Date": "1991-12-01T00:00:00",
          "Tourist Arrivals": 1876710
         },
         {
          "Country": "ES",
          "Date": "1992-01-01T00:00:00",
          "Tourist Arrivals": 1645561
         },
         {
          "Country": "ES",
          "Date": "1992-02-01T00:00:00",
          "Tourist Arrivals": 1797005
         },
         {
          "Country": "ES",
          "Date": "1992-03-01T00:00:00",
          "Tourist Arrivals": 2236115
         },
         {
          "Country": "ES",
          "Date": "1992-04-01T00:00:00",
          "Tourist Arrivals": 2702542
         },
         {
          "Country": "ES",
          "Date": "1992-05-01T00:00:00",
          "Tourist Arrivals": 3146805
         },
         {
          "Country": "ES",
          "Date": "1992-06-01T00:00:00",
          "Tourist Arrivals": 3070007
         },
         {
          "Country": "ES",
          "Date": "1992-07-01T00:00:00",
          "Tourist Arrivals": 3328654
         },
         {
          "Country": "ES",
          "Date": "1992-08-01T00:00:00",
          "Tourist Arrivals": 3909985
         },
         {
          "Country": "ES",
          "Date": "1992-09-01T00:00:00",
          "Tourist Arrivals": 3695658
         },
         {
          "Country": "ES",
          "Date": "1992-10-01T00:00:00",
          "Tourist Arrivals": 2805822
         },
         {
          "Country": "ES",
          "Date": "1992-11-01T00:00:00",
          "Tourist Arrivals": 1795056
         },
         {
          "Country": "ES",
          "Date": "1992-12-01T00:00:00",
          "Tourist Arrivals": 1705715
         },
         {
          "Country": "ES",
          "Date": "1993-01-01T00:00:00",
          "Tourist Arrivals": 1532720
         },
         {
          "Country": "ES",
          "Date": "1993-02-01T00:00:00",
          "Tourist Arrivals": 1732062
         },
         {
          "Country": "ES",
          "Date": "1993-03-01T00:00:00",
          "Tourist Arrivals": 2190254
         },
         {
          "Country": "ES",
          "Date": "1993-04-01T00:00:00",
          "Tourist Arrivals": 2720216
         },
         {
          "Country": "ES",
          "Date": "1993-05-01T00:00:00",
          "Tourist Arrivals": 2992869
         },
         {
          "Country": "ES",
          "Date": "1993-06-01T00:00:00",
          "Tourist Arrivals": 3044932
         },
         {
          "Country": "ES",
          "Date": "1993-07-01T00:00:00",
          "Tourist Arrivals": 3511758
         },
         {
          "Country": "ES",
          "Date": "1993-08-01T00:00:00",
          "Tourist Arrivals": 4074017
         },
         {
          "Country": "ES",
          "Date": "1993-09-01T00:00:00",
          "Tourist Arrivals": 3654759
         },
         {
          "Country": "ES",
          "Date": "1993-10-01T00:00:00",
          "Tourist Arrivals": 2955828
         },
         {
          "Country": "ES",
          "Date": "1993-11-01T00:00:00",
          "Tourist Arrivals": 1954814
         },
         {
          "Country": "ES",
          "Date": "1993-12-01T00:00:00",
          "Tourist Arrivals": 1821421
         },
         {
          "Country": "ES",
          "Date": "1994-01-01T00:00:00",
          "Tourist Arrivals": 1604591
         },
         {
          "Country": "ES",
          "Date": "1994-02-01T00:00:00",
          "Tourist Arrivals": 1955541
         },
         {
          "Country": "ES",
          "Date": "1994-03-01T00:00:00",
          "Tourist Arrivals": 2645179
         },
         {
          "Country": "ES",
          "Date": "1994-04-01T00:00:00",
          "Tourist Arrivals": 2891058
         },
         {
          "Country": "ES",
          "Date": "1994-05-01T00:00:00",
          "Tourist Arrivals": 3504376
         },
         {
          "Country": "ES",
          "Date": "1994-06-01T00:00:00",
          "Tourist Arrivals": 3535611
         },
         {
          "Country": "ES",
          "Date": "1994-07-01T00:00:00",
          "Tourist Arrivals": 3880009
         },
         {
          "Country": "ES",
          "Date": "1994-08-01T00:00:00",
          "Tourist Arrivals": 4233218
         },
         {
          "Country": "ES",
          "Date": "1994-09-01T00:00:00",
          "Tourist Arrivals": 3998465
         },
         {
          "Country": "ES",
          "Date": "1994-10-01T00:00:00",
          "Tourist Arrivals": 3187417
         },
         {
          "Country": "ES",
          "Date": "1994-11-01T00:00:00",
          "Tourist Arrivals": 2133746
         },
         {
          "Country": "ES",
          "Date": "1994-12-01T00:00:00",
          "Tourist Arrivals": 1960621
         },
         {
          "Country": "ES",
          "Date": "1995-01-01T00:00:00",
          "Tourist Arrivals": 1786666
         },
         {
          "Country": "ES",
          "Date": "1995-02-01T00:00:00",
          "Tourist Arrivals": 1995810
         },
         {
          "Country": "ES",
          "Date": "1995-03-01T00:00:00",
          "Tourist Arrivals": 2585537
         },
         {
          "Country": "ES",
          "Date": "1995-04-01T00:00:00",
          "Tourist Arrivals": 3527122
         },
         {
          "Country": "ES",
          "Date": "1995-05-01T00:00:00",
          "Tourist Arrivals": 3638920
         },
         {
          "Country": "ES",
          "Date": "1995-06-01T00:00:00",
          "Tourist Arrivals": 3679693
         },
         {
          "Country": "ES",
          "Date": "1995-07-01T00:00:00",
          "Tourist Arrivals": 4009026
         },
         {
          "Country": "ES",
          "Date": "1995-08-01T00:00:00",
          "Tourist Arrivals": 4370479
         },
         {
          "Country": "ES",
          "Date": "1995-09-01T00:00:00",
          "Tourist Arrivals": 4075204
         },
         {
          "Country": "ES",
          "Date": "1995-10-01T00:00:00",
          "Tourist Arrivals": 3418189
         },
         {
          "Country": "ES",
          "Date": "1995-11-01T00:00:00",
          "Tourist Arrivals": 2282245
         },
         {
          "Country": "ES",
          "Date": "1995-12-01T00:00:00",
          "Tourist Arrivals": 2060092
         },
         {
          "Country": "ES",
          "Date": "1996-01-01T00:00:00",
          "Tourist Arrivals": 1806754
         },
         {
          "Country": "ES",
          "Date": "1996-02-01T00:00:00",
          "Tourist Arrivals": 2051433
         },
         {
          "Country": "ES",
          "Date": "1996-03-01T00:00:00",
          "Tourist Arrivals": 2756335
         },
         {
          "Country": "ES",
          "Date": "1996-04-01T00:00:00",
          "Tourist Arrivals": 3442084
         },
         {
          "Country": "ES",
          "Date": "1996-05-01T00:00:00",
          "Tourist Arrivals": 3840981
         },
         {
          "Country": "ES",
          "Date": "1996-06-01T00:00:00",
          "Tourist Arrivals": 3887248
         },
         {
          "Country": "ES",
          "Date": "1996-07-01T00:00:00",
          "Tourist Arrivals": 4139100
         },
         {
          "Country": "ES",
          "Date": "1996-08-01T00:00:00",
          "Tourist Arrivals": 4573789
         },
         {
          "Country": "ES",
          "Date": "1996-09-01T00:00:00",
          "Tourist Arrivals": 4204887
         },
         {
          "Country": "ES",
          "Date": "1996-10-01T00:00:00",
          "Tourist Arrivals": 3543409
         },
         {
          "Country": "ES",
          "Date": "1996-11-01T00:00:00",
          "Tourist Arrivals": 2361606
         },
         {
          "Country": "ES",
          "Date": "1996-12-01T00:00:00",
          "Tourist Arrivals": 2123783
         },
         {
          "Country": "ES",
          "Date": "1997-01-01T00:00:00",
          "Tourist Arrivals": 1853657
         },
         {
          "Country": "ES",
          "Date": "1997-02-01T00:00:00",
          "Tourist Arrivals": 2196578
         },
         {
          "Country": "ES",
          "Date": "1997-03-01T00:00:00",
          "Tourist Arrivals": 3021241
         },
         {
          "Country": "ES",
          "Date": "1997-04-01T00:00:00",
          "Tourist Arrivals": 3369287
         },
         {
          "Country": "ES",
          "Date": "1997-05-01T00:00:00",
          "Tourist Arrivals": 4096589
         },
         {
          "Country": "ES",
          "Date": "1997-06-01T00:00:00",
          "Tourist Arrivals": 4049849
         },
         {
          "Country": "ES",
          "Date": "1997-07-01T00:00:00",
          "Tourist Arrivals": 4535355
         },
         {
          "Country": "ES",
          "Date": "1997-08-01T00:00:00",
          "Tourist Arrivals": 5124137
         },
         {
          "Country": "ES",
          "Date": "1997-09-01T00:00:00",
          "Tourist Arrivals": 4623759
         },
         {
          "Country": "ES",
          "Date": "1997-10-01T00:00:00",
          "Tourist Arrivals": 3805328
         },
         {
          "Country": "ES",
          "Date": "1997-11-01T00:00:00",
          "Tourist Arrivals": 2533414
         },
         {
          "Country": "ES",
          "Date": "1997-12-01T00:00:00",
          "Tourist Arrivals": 2362237
         },
         {
          "Country": "ES",
          "Date": "1998-01-01T00:00:00",
          "Tourist Arrivals": 2120497
         },
         {
          "Country": "ES",
          "Date": "1998-02-01T00:00:00",
          "Tourist Arrivals": 2479831
         },
         {
          "Country": "ES",
          "Date": "1998-03-01T00:00:00",
          "Tourist Arrivals": 3163872
         },
         {
          "Country": "ES",
          "Date": "1998-04-01T00:00:00",
          "Tourist Arrivals": 3998559
         },
         {
          "Country": "ES",
          "Date": "1998-05-01T00:00:00",
          "Tourist Arrivals": 4491571
         },
         {
          "Country": "ES",
          "Date": "1998-06-01T00:00:00",
          "Tourist Arrivals": 4455472
         },
         {
          "Country": "ES",
          "Date": "1998-07-01T00:00:00",
          "Tourist Arrivals": 4940251
         },
         {
          "Country": "ES",
          "Date": "1998-08-01T00:00:00",
          "Tourist Arrivals": 5473512
         },
         {
          "Country": "ES",
          "Date": "1998-09-01T00:00:00",
          "Tourist Arrivals": 5038850
         },
         {
          "Country": "ES",
          "Date": "1998-10-01T00:00:00",
          "Tourist Arrivals": 4259194
         },
         {
          "Country": "ES",
          "Date": "1998-11-01T00:00:00",
          "Tourist Arrivals": 2813351
         },
         {
          "Country": "ES",
          "Date": "1998-12-01T00:00:00",
          "Tourist Arrivals": 2546812
         },
         {
          "Country": "ES",
          "Date": "1999-01-01T00:00:00",
          "Tourist Arrivals": 2775738
         },
         {
          "Country": "ES",
          "Date": "1999-02-01T00:00:00",
          "Tourist Arrivals": 3205892
         },
         {
          "Country": "ES",
          "Date": "1999-03-01T00:00:00",
          "Tourist Arrivals": 4143342
         },
         {
          "Country": "ES",
          "Date": "1999-04-01T00:00:00",
          "Tourist Arrivals": 4931385
         },
         {
          "Country": "ES",
          "Date": "1999-05-01T00:00:00",
          "Tourist Arrivals": 5724555
         },
         {
          "Country": "ES",
          "Date": "1999-06-01T00:00:00",
          "Tourist Arrivals": 5834331
         },
         {
          "Country": "ES",
          "Date": "1999-07-01T00:00:00",
          "Tourist Arrivals": 6415298
         },
         {
          "Country": "ES",
          "Date": "1999-08-01T00:00:00",
          "Tourist Arrivals": 6986211
         },
         {
          "Country": "ES",
          "Date": "1999-09-01T00:00:00",
          "Tourist Arrivals": 6349504
         },
         {
          "Country": "ES",
          "Date": "1999-10-01T00:00:00",
          "Tourist Arrivals": 5447891
         },
         {
          "Country": "ES",
          "Date": "1999-11-01T00:00:00",
          "Tourist Arrivals": 3570715
         },
         {
          "Country": "ES",
          "Date": "1999-12-01T00:00:00",
          "Tourist Arrivals": 3204082
         },
         {
          "Country": "ES",
          "Date": "2000-01-01T00:00:00",
          "Tourist Arrivals": 2808737
         },
         {
          "Country": "ES",
          "Date": "2000-02-01T00:00:00",
          "Tourist Arrivals": 3390877
         },
         {
          "Country": "ES",
          "Date": "2000-03-01T00:00:00",
          "Tourist Arrivals": 4244207
         },
         {
          "Country": "ES",
          "Date": "2000-04-01T00:00:00",
          "Tourist Arrivals": 5335325
         },
         {
          "Country": "ES",
          "Date": "2000-05-01T00:00:00",
          "Tourist Arrivals": 5592100
         },
         {
          "Country": "ES",
          "Date": "2000-06-01T00:00:00",
          "Tourist Arrivals": 5806706
         },
         {
          "Country": "ES",
          "Date": "2000-07-01T00:00:00",
          "Tourist Arrivals": 6374390
         },
         {
          "Country": "ES",
          "Date": "2000-08-01T00:00:00",
          "Tourist Arrivals": 6994683
         },
         {
          "Country": "ES",
          "Date": "2000-09-01T00:00:00",
          "Tourist Arrivals": 6327589
         },
         {
          "Country": "ES",
          "Date": "2000-10-01T00:00:00",
          "Tourist Arrivals": 5368961
         },
         {
          "Country": "ES",
          "Date": "2000-11-01T00:00:00",
          "Tourist Arrivals": 3691093
         },
         {
          "Country": "ES",
          "Date": "2000-12-01T00:00:00",
          "Tourist Arrivals": 3347855
         },
         {
          "Country": "ES",
          "Date": "2001-01-01T00:00:00",
          "Tourist Arrivals": 2991632
         },
         {
          "Country": "ES",
          "Date": "2001-02-01T00:00:00",
          "Tourist Arrivals": 3509778
         },
         {
          "Country": "ES",
          "Date": "2001-03-01T00:00:00",
          "Tourist Arrivals": 4335739
         },
         {
          "Country": "ES",
          "Date": "2001-04-01T00:00:00",
          "Tourist Arrivals": 5388491
         },
         {
          "Country": "ES",
          "Date": "2001-05-01T00:00:00",
          "Tourist Arrivals": 5683300
         },
         {
          "Country": "ES",
          "Date": "2001-06-01T00:00:00",
          "Tourist Arrivals": 5900750
         },
         {
          "Country": "ES",
          "Date": "2001-07-01T00:00:00",
          "Tourist Arrivals": 6409088
         },
         {
          "Country": "ES",
          "Date": "2001-08-01T00:00:00",
          "Tourist Arrivals": 7184145
         },
         {
          "Country": "ES",
          "Date": "2001-09-01T00:00:00",
          "Tourist Arrivals": 6294472
         },
         {
          "Country": "ES",
          "Date": "2001-10-01T00:00:00",
          "Tourist Arrivals": 5303305
         },
         {
          "Country": "ES",
          "Date": "2001-11-01T00:00:00",
          "Tourist Arrivals": 3666771
         },
         {
          "Country": "ES",
          "Date": "2001-12-01T00:00:00",
          "Tourist Arrivals": 3213182
         },
         {
          "Country": "ES",
          "Date": "2002-01-01T00:00:00",
          "Tourist Arrivals": 2881288
         },
         {
          "Country": "ES",
          "Date": "2002-02-01T00:00:00",
          "Tourist Arrivals": 3493943
         },
         {
          "Country": "ES",
          "Date": "2002-03-01T00:00:00",
          "Tourist Arrivals": 4718949
         },
         {
          "Country": "ES",
          "Date": "2002-04-01T00:00:00",
          "Tourist Arrivals": 4874010
         },
         {
          "Country": "ES",
          "Date": "2002-05-01T00:00:00",
          "Tourist Arrivals": 5717911
         },
         {
          "Country": "ES",
          "Date": "2002-06-01T00:00:00",
          "Tourist Arrivals": 5718109
         },
         {
          "Country": "ES",
          "Date": "2002-07-01T00:00:00",
          "Tourist Arrivals": 6442518
         },
         {
          "Country": "ES",
          "Date": "2002-08-01T00:00:00",
          "Tourist Arrivals": 7433028
         },
         {
          "Country": "ES",
          "Date": "2002-09-01T00:00:00",
          "Tourist Arrivals": 6234663
         },
         {
          "Country": "ES",
          "Date": "2002-10-01T00:00:00",
          "Tourist Arrivals": 5383091
         },
         {
          "Country": "ES",
          "Date": "2002-11-01T00:00:00",
          "Tourist Arrivals": 3720461
         },
         {
          "Country": "ES",
          "Date": "2002-12-01T00:00:00",
          "Tourist Arrivals": 3358986
         },
         {
          "Country": "ES",
          "Date": "2003-01-01T00:00:00",
          "Tourist Arrivals": 2987151
         },
         {
          "Country": "ES",
          "Date": "2003-02-01T00:00:00",
          "Tourist Arrivals": 3460589
         },
         {
          "Country": "ES",
          "Date": "2003-03-01T00:00:00",
          "Tourist Arrivals": 4402243
         },
         {
          "Country": "ES",
          "Date": "2003-04-01T00:00:00",
          "Tourist Arrivals": 5382686
         },
         {
          "Country": "ES",
          "Date": "2003-05-01T00:00:00",
          "Tourist Arrivals": 5983479
         },
         {
          "Country": "ES",
          "Date": "2003-06-01T00:00:00",
          "Tourist Arrivals": 6266248
         },
         {
          "Country": "ES",
          "Date": "2003-07-01T00:00:00",
          "Tourist Arrivals": 6813992
         },
         {
          "Country": "ES",
          "Date": "2003-08-01T00:00:00",
          "Tourist Arrivals": 7717822
         },
         {
          "Country": "ES",
          "Date": "2003-09-01T00:00:00",
          "Tourist Arrivals": 6505129
         },
         {
          "Country": "ES",
          "Date": "2003-10-01T00:00:00",
          "Tourist Arrivals": 5535202
         },
         {
          "Country": "ES",
          "Date": "2003-11-01T00:00:00",
          "Tourist Arrivals": 3846595
         },
         {
          "Country": "ES",
          "Date": "2003-12-01T00:00:00",
          "Tourist Arrivals": 3589125
         },
         {
          "Country": "ES",
          "Date": "2004-01-01T00:00:00",
          "Tourist Arrivals": 3141459
         },
         {
          "Country": "ES",
          "Date": "2004-02-01T00:00:00",
          "Tourist Arrivals": 3945781
         },
         {
          "Country": "ES",
          "Date": "2004-03-01T00:00:00",
          "Tourist Arrivals": 4707166
         },
         {
          "Country": "ES",
          "Date": "2004-04-01T00:00:00",
          "Tourist Arrivals": 5584409
         },
         {
          "Country": "ES",
          "Date": "2004-05-01T00:00:00",
          "Tourist Arrivals": 6220193
         },
         {
          "Country": "ES",
          "Date": "2004-06-01T00:00:00",
          "Tourist Arrivals": 6490723
         },
         {
          "Country": "ES",
          "Date": "2004-07-01T00:00:00",
          "Tourist Arrivals": 7245836
         },
         {
          "Country": "ES",
          "Date": "2004-08-01T00:00:00",
          "Tourist Arrivals": 8182340
         },
         {
          "Country": "ES",
          "Date": "2004-09-01T00:00:00",
          "Tourist Arrivals": 7168165
         },
         {
          "Country": "ES",
          "Date": "2004-10-01T00:00:00",
          "Tourist Arrivals": 6241128
         },
         {
          "Country": "ES",
          "Date": "2004-11-01T00:00:00",
          "Tourist Arrivals": 4134840
         },
         {
          "Country": "ES",
          "Date": "2004-12-01T00:00:00",
          "Tourist Arrivals": 3890752
         },
         {
          "Country": "ES",
          "Date": "2005-01-01T00:00:00",
          "Tourist Arrivals": 3370550
         },
         {
          "Country": "ES",
          "Date": "2005-02-01T00:00:00",
          "Tourist Arrivals": 4048677
         },
         {
          "Country": "ES",
          "Date": "2005-03-01T00:00:00",
          "Tourist Arrivals": 5234282
         },
         {
          "Country": "ES",
          "Date": "2005-04-01T00:00:00",
          "Tourist Arrivals": 5516187
         },
         {
          "Country": "ES",
          "Date": "2005-05-01T00:00:00",
          "Tourist Arrivals": 6716835
         },
         {
          "Country": "ES",
          "Date": "2005-06-01T00:00:00",
          "Tourist Arrivals": 6944616
         },
         {
          "Country": "ES",
          "Date": "2005-07-01T00:00:00",
          "Tourist Arrivals": 7777232
         },
         {
          "Country": "ES",
          "Date": "2005-08-01T00:00:00",
          "Tourist Arrivals": 8593520
         },
         {
          "Country": "ES",
          "Date": "2005-09-01T00:00:00",
          "Tourist Arrivals": 7453684
         },
         {
          "Country": "ES",
          "Date": "2005-10-01T00:00:00",
          "Tourist Arrivals": 6444907
         },
         {
          "Country": "ES",
          "Date": "2005-11-01T00:00:00",
          "Tourist Arrivals": 4505361
         },
         {
          "Country": "ES",
          "Date": "2005-12-01T00:00:00",
          "Tourist Arrivals": 4023904
         },
         {
          "Country": "ES",
          "Date": "2006-01-01T00:00:00",
          "Tourist Arrivals": 4063638
         },
         {
          "Country": "ES",
          "Date": "2006-02-01T00:00:00",
          "Tourist Arrivals": 4708871
         },
         {
          "Country": "ES",
          "Date": "2006-03-01T00:00:00",
          "Tourist Arrivals": 5826759
         },
         {
          "Country": "ES",
          "Date": "2006-04-01T00:00:00",
          "Tourist Arrivals": 7316609
         },
         {
          "Country": "ES",
          "Date": "2006-05-01T00:00:00",
          "Tourist Arrivals": 7640336
         },
         {
          "Country": "ES",
          "Date": "2006-06-01T00:00:00",
          "Tourist Arrivals": 8116209
         },
         {
          "Country": "ES",
          "Date": "2006-07-01T00:00:00",
          "Tourist Arrivals": 9025100
         },
         {
          "Country": "ES",
          "Date": "2006-08-01T00:00:00",
          "Tourist Arrivals": 9713525
         },
         {
          "Country": "ES",
          "Date": "2006-09-01T00:00:00",
          "Tourist Arrivals": 8443538
         },
         {
          "Country": "ES",
          "Date": "2006-10-01T00:00:00",
          "Tourist Arrivals": 7384473
         },
         {
          "Country": "ES",
          "Date": "2006-11-01T00:00:00",
          "Tourist Arrivals": 5134815
         },
         {
          "Country": "ES",
          "Date": "2006-12-01T00:00:00",
          "Tourist Arrivals": 4657742
         },
         {
          "Country": "ES",
          "Date": "2007-01-01T00:00:00",
          "Tourist Arrivals": 4208407
         },
         {
          "Country": "ES",
          "Date": "2007-02-01T00:00:00",
          "Tourist Arrivals": 4889120
         },
         {
          "Country": "ES",
          "Date": "2007-03-01T00:00:00",
          "Tourist Arrivals": 6198541
         },
         {
          "Country": "ES",
          "Date": "2007-04-01T00:00:00",
          "Tourist Arrivals": 7422367
         },
         {
          "Country": "ES",
          "Date": "2007-05-01T00:00:00",
          "Tourist Arrivals": 7643630
         },
         {
          "Country": "ES",
          "Date": "2007-06-01T00:00:00",
          "Tourist Arrivals": 8594706
         },
         {
          "Country": "ES",
          "Date": "2007-07-01T00:00:00",
          "Tourist Arrivals": 9214318
         },
         {
          "Country": "ES",
          "Date": "2007-08-01T00:00:00",
          "Tourist Arrivals": 10061419
         },
         {
          "Country": "ES",
          "Date": "2007-09-01T00:00:00",
          "Tourist Arrivals": 8647464
         },
         {
          "Country": "ES",
          "Date": "2007-10-01T00:00:00",
          "Tourist Arrivals": 7540039
         },
         {
          "Country": "ES",
          "Date": "2007-11-01T00:00:00",
          "Tourist Arrivals": 5537561
         },
         {
          "Country": "ES",
          "Date": "2007-12-01T00:00:00",
          "Tourist Arrivals": 4776155
         },
         {
          "Country": "ES",
          "Date": "2008-01-01T00:00:00",
          "Tourist Arrivals": 4328482
         },
         {
          "Country": "ES",
          "Date": "2008-02-01T00:00:00",
          "Tourist Arrivals": 5235057
         },
         {
          "Country": "ES",
          "Date": "2008-03-01T00:00:00",
          "Tourist Arrivals": 6610591
         },
         {
          "Country": "ES",
          "Date": "2008-04-01T00:00:00",
          "Tourist Arrivals": 6646817
         },
         {
          "Country": "ES",
          "Date": "2008-05-01T00:00:00",
          "Tourist Arrivals": 8079012
         },
         {
          "Country": "ES",
          "Date": "2008-06-01T00:00:00",
          "Tourist Arrivals": 8294557
         },
         {
          "Country": "ES",
          "Date": "2008-07-01T00:00:00",
          "Tourist Arrivals": 9219451
         },
         {
          "Country": "ES",
          "Date": "2008-08-01T00:00:00",
          "Tourist Arrivals": 9949103
         },
         {
          "Country": "ES",
          "Date": "2008-09-01T00:00:00",
          "Tourist Arrivals": 8345870
         },
         {
          "Country": "ES",
          "Date": "2008-10-01T00:00:00",
          "Tourist Arrivals": 7037949
         },
         {
          "Country": "ES",
          "Date": "2008-11-01T00:00:00",
          "Tourist Arrivals": 4875910
         },
         {
          "Country": "ES",
          "Date": "2008-12-01T00:00:00",
          "Tourist Arrivals": 4316859
         },
         {
          "Country": "ES",
          "Date": "2009-01-01T00:00:00",
          "Tourist Arrivals": 3728578
         },
         {
          "Country": "ES",
          "Date": "2009-02-01T00:00:00",
          "Tourist Arrivals": 4457629
         },
         {
          "Country": "ES",
          "Date": "2009-03-01T00:00:00",
          "Tourist Arrivals": 5319702
         },
         {
          "Country": "ES",
          "Date": "2009-04-01T00:00:00",
          "Tourist Arrivals": 6572598
         },
         {
          "Country": "ES",
          "Date": "2009-05-01T00:00:00",
          "Tourist Arrivals": 7403238
         },
         {
          "Country": "ES",
          "Date": "2009-06-01T00:00:00",
          "Tourist Arrivals": 7662370
         },
         {
          "Country": "ES",
          "Date": "2009-07-01T00:00:00",
          "Tourist Arrivals": 8720043
         },
         {
          "Country": "ES",
          "Date": "2009-08-01T00:00:00",
          "Tourist Arrivals": 9445871
         },
         {
          "Country": "ES",
          "Date": "2009-09-01T00:00:00",
          "Tourist Arrivals": 7833384
         },
         {
          "Country": "ES",
          "Date": "2009-10-01T00:00:00",
          "Tourist Arrivals": 7027737
         },
         {
          "Country": "ES",
          "Date": "2009-11-01T00:00:00",
          "Tourist Arrivals": 4725546
         },
         {
          "Country": "ES",
          "Date": "2009-12-01T00:00:00",
          "Tourist Arrivals": 4430436
         },
         {
          "Country": "ES",
          "Date": "2010-01-01T00:00:00",
          "Tourist Arrivals": 3783809
         },
         {
          "Country": "ES",
          "Date": "2010-02-01T00:00:00",
          "Tourist Arrivals": 4640082
         },
         {
          "Country": "ES",
          "Date": "2010-03-01T00:00:00",
          "Tourist Arrivals": 5714563
         },
         {
          "Country": "ES",
          "Date": "2010-04-01T00:00:00",
          "Tourist Arrivals": 6790660
         },
         {
          "Country": "ES",
          "Date": "2010-05-01T00:00:00",
          "Tourist Arrivals": 7819089
         },
         {
          "Country": "ES",
          "Date": "2010-06-01T00:00:00",
          "Tourist Arrivals": 8159835
         },
         {
          "Country": "ES",
          "Date": "2010-07-01T00:00:00",
          "Tourist Arrivals": 9476378
         },
         {
          "Country": "ES",
          "Date": "2010-08-01T00:00:00",
          "Tourist Arrivals": 10085762
         },
         {
          "Country": "ES",
          "Date": "2010-09-01T00:00:00",
          "Tourist Arrivals": 8383728
         },
         {
          "Country": "ES",
          "Date": "2010-10-01T00:00:00",
          "Tourist Arrivals": 7665545
         },
         {
          "Country": "ES",
          "Date": "2010-11-01T00:00:00",
          "Tourist Arrivals": 4956470
         },
         {
          "Country": "ES",
          "Date": "2010-12-01T00:00:00",
          "Tourist Arrivals": 4685036
         },
         {
          "Country": "ES",
          "Date": "2011-01-01T00:00:00",
          "Tourist Arrivals": 3922519
         },
         {
          "Country": "ES",
          "Date": "2011-02-01T00:00:00",
          "Tourist Arrivals": 4814263
         },
         {
          "Country": "ES",
          "Date": "2011-03-01T00:00:00",
          "Tourist Arrivals": 5828994
         },
         {
          "Country": "ES",
          "Date": "2011-04-01T00:00:00",
          "Tourist Arrivals": 7429664
         },
         {
          "Country": "ES",
          "Date": "2011-05-01T00:00:00",
          "Tourist Arrivals": 7793604
         },
         {
          "Country": "ES",
          "Date": "2011-06-01T00:00:00",
          "Tourist Arrivals": 8819343
         },
         {
          "Country": "ES",
          "Date": "2011-07-01T00:00:00",
          "Tourist Arrivals": 10088978
         },
         {
          "Country": "ES",
          "Date": "2011-08-01T00:00:00",
          "Tourist Arrivals": 10590214
         },
         {
          "Country": "ES",
          "Date": "2011-09-01T00:00:00",
          "Tourist Arrivals": 8919170
         },
         {
          "Country": "ES",
          "Date": "2011-10-01T00:00:00",
          "Tourist Arrivals": 7676617
         },
         {
          "Country": "ES",
          "Date": "2011-11-01T00:00:00",
          "Tourist Arrivals": 4909224
         },
         {
          "Country": "ES",
          "Date": "2011-12-01T00:00:00",
          "Tourist Arrivals": 4601737
         },
         {
          "Country": "ES",
          "Date": "2012-01-01T00:00:00",
          "Tourist Arrivals": 4034869
         },
         {
          "Country": "ES",
          "Date": "2012-02-01T00:00:00",
          "Tourist Arrivals": 4762348
         },
         {
          "Country": "ES",
          "Date": "2012-03-01T00:00:00",
          "Tourist Arrivals": 5771561
         },
         {
          "Country": "ES",
          "Date": "2012-04-01T00:00:00",
          "Tourist Arrivals": 7103714
         },
         {
          "Country": "ES",
          "Date": "2012-05-01T00:00:00",
          "Tourist Arrivals": 7725235
         },
         {
          "Country": "ES",
          "Date": "2012-06-01T00:00:00",
          "Tourist Arrivals": 8587613
         },
         {
          "Country": "ES",
          "Date": "2012-07-01T00:00:00",
          "Tourist Arrivals": 9616052
         },
         {
          "Country": "ES",
          "Date": "2012-08-01T00:00:00",
          "Tourist Arrivals": 10239776
         },
         {
          "Country": "ES",
          "Date": "2012-09-01T00:00:00",
          "Tourist Arrivals": 8756163
         },
         {
          "Country": "ES",
          "Date": "2012-10-01T00:00:00",
          "Tourist Arrivals": 7258394
         },
         {
          "Country": "ES",
          "Date": "2012-11-01T00:00:00",
          "Tourist Arrivals": 4772075
         },
         {
          "Country": "ES",
          "Date": "2012-12-01T00:00:00",
          "Tourist Arrivals": 4334680
         },
         {
          "Country": "ES",
          "Date": "2013-01-01T00:00:00",
          "Tourist Arrivals": 3694459
         },
         {
          "Country": "ES",
          "Date": "2013-02-01T00:00:00",
          "Tourist Arrivals": 4347642
         },
         {
          "Country": "ES",
          "Date": "2013-03-01T00:00:00",
          "Tourist Arrivals": 6171037
         },
         {
          "Country": "ES",
          "Date": "2013-04-01T00:00:00",
          "Tourist Arrivals": 6283128
         },
         {
          "Country": "ES",
          "Date": "2013-05-01T00:00:00",
          "Tourist Arrivals": 8113029
         },
         {
          "Country": "ES",
          "Date": "2013-06-01T00:00:00",
          "Tourist Arrivals": 8725022
         },
         {
          "Country": "ES",
          "Date": "2013-07-01T00:00:00",
          "Tourist Arrivals": 9644411
         },
         {
          "Country": "ES",
          "Date": "2013-08-01T00:00:00",
          "Tourist Arrivals": 10715765
         },
         {
          "Country": "ES",
          "Date": "2013-09-01T00:00:00",
          "Tourist Arrivals": 8886542
         },
         {
          "Country": "ES",
          "Date": "2013-10-01T00:00:00",
          "Tourist Arrivals": 7468192
         },
         {
          "Country": "ES",
          "Date": "2013-11-01T00:00:00",
          "Tourist Arrivals": 5112181
         },
         {
          "Country": "ES",
          "Date": "2013-12-01T00:00:00",
          "Tourist Arrivals": 4659511
         },
         {
          "Country": "ES",
          "Date": "2014-01-01T00:00:00",
          "Tourist Arrivals": 3939144
         },
         {
          "Country": "ES",
          "Date": "2014-02-01T00:00:00",
          "Tourist Arrivals": 4657133
         },
         {
          "Country": "ES",
          "Date": "2014-03-01T00:00:00",
          "Tourist Arrivals": 5770836
         },
         {
          "Country": "ES",
          "Date": "2014-04-01T00:00:00",
          "Tourist Arrivals": 7301730
         },
         {
          "Country": "ES",
          "Date": "2014-05-01T00:00:00",
          "Tourist Arrivals": 8518421
         },
         {
          "Country": "ES",
          "Date": "2014-06-01T00:00:00",
          "Tourist Arrivals": 9038987
         },
         {
          "Country": "ES",
          "Date": "2014-07-01T00:00:00",
          "Tourist Arrivals": 9885449
         },
         {
          "Country": "ES",
          "Date": "2014-08-01T00:00:00",
          "Tourist Arrivals": 11228639
         },
         {
          "Country": "ES",
          "Date": "2014-09-01T00:00:00",
          "Tourist Arrivals": 9320009
         },
         {
          "Country": "ES",
          "Date": "2014-10-01T00:00:00",
          "Tourist Arrivals": 7988684
         },
         {
          "Country": "ES",
          "Date": "2014-11-01T00:00:00",
          "Tourist Arrivals": 5144062
         },
         {
          "Country": "ES",
          "Date": "2014-12-01T00:00:00",
          "Tourist Arrivals": 4998810
         },
         {
          "Country": "ES",
          "Date": "2015-01-01T00:00:00",
          "Tourist Arrivals": 4251906
         },
         {
          "Country": "ES",
          "Date": "2015-02-01T00:00:00",
          "Tourist Arrivals": 4937718
         },
         {
          "Country": "ES",
          "Date": "2015-03-01T00:00:00",
          "Tourist Arrivals": 6146079
         },
         {
          "Country": "ES",
          "Date": "2015-04-01T00:00:00",
          "Tourist Arrivals": 7637074
         },
         {
          "Country": "ES",
          "Date": "2015-05-01T00:00:00",
          "Tourist Arrivals": 9086178
         },
         {
          "Country": "ES",
          "Date": "2015-06-01T00:00:00",
          "Tourist Arrivals": 9434356
         },
         {
          "Country": "ES",
          "Date": "2015-07-01T00:00:00",
          "Tourist Arrivals": 10595557
         },
         {
          "Country": "ES",
          "Date": "2015-08-01T00:00:00",
          "Tourist Arrivals": 11772679
         },
         {
          "Country": "ES",
          "Date": "2015-09-01T00:00:00",
          "Tourist Arrivals": 9722297
         },
         {
          "Country": "ES",
          "Date": "2015-10-01T00:00:00",
          "Tourist Arrivals": 8700286
         },
         {
          "Country": "ES",
          "Date": "2015-11-01T00:00:00",
          "Tourist Arrivals": 5530654
         },
         {
          "Country": "ES",
          "Date": "2015-12-01T00:00:00",
          "Tourist Arrivals": 5307903
         },
         {
          "Country": "ES",
          "Date": "2016-01-01T00:00:00",
          "Tourist Arrivals": 4689263
         },
         {
          "Country": "ES",
          "Date": "2016-02-01T00:00:00",
          "Tourist Arrivals": 5561906
         },
         {
          "Country": "ES",
          "Date": "2016-03-01T00:00:00",
          "Tourist Arrivals": 7221796
         },
         {
          "Country": "ES",
          "Date": "2016-04-01T00:00:00",
          "Tourist Arrivals": 7735455
         },
         {
          "Country": "ES",
          "Date": "2016-05-01T00:00:00",
          "Tourist Arrivals": 9569945
         },
         {
          "Country": "ES",
          "Date": "2016-06-01T00:00:00",
          "Tourist Arrivals": 10180427
         },
         {
          "Country": "ES",
          "Date": "2016-07-01T00:00:00",
          "Tourist Arrivals": 11605320
         },
         {
          "Country": "ES",
          "Date": "2016-08-01T00:00:00",
          "Tourist Arrivals": 12187504
         },
         {
          "Country": "ES",
          "Date": "2016-09-01T00:00:00",
          "Tourist Arrivals": 10486719
         },
         {
          "Country": "ES",
          "Date": "2016-10-01T00:00:00",
          "Tourist Arrivals": 9274924
         },
         {
          "Country": "ES",
          "Date": "2016-11-01T00:00:00",
          "Tourist Arrivals": 5786676
         },
         {
          "Country": "ES",
          "Date": "2016-12-01T00:00:00",
          "Tourist Arrivals": 5540097
         },
         {
          "Country": "ES",
          "Date": "2017-01-01T00:00:00",
          "Tourist Arrivals": 4984634
         },
         {
          "Country": "ES",
          "Date": "2017-02-01T00:00:00",
          "Tourist Arrivals": 5689624
         },
         {
          "Country": "ES",
          "Date": "2017-03-01T00:00:00",
          "Tourist Arrivals": 6901184
         },
         {
          "Country": "ES",
          "Date": "2017-04-01T00:00:00",
          "Tourist Arrivals": 9209285
         },
         {
          "Country": "ES",
          "Date": "2017-05-01T00:00:00",
          "Tourist Arrivals": 9844007
         },
         {
          "Country": "ES",
          "Date": "2017-06-01T00:00:00",
          "Tourist Arrivals": 10640606
         },
         {
          "Country": "ES",
          "Date": "2017-07-01T00:00:00",
          "Tourist Arrivals": 11908505
         },
         {
          "Country": "ES",
          "Date": "2017-08-01T00:00:00",
          "Tourist Arrivals": 12335399
         },
         {
          "Country": "ES",
          "Date": "2017-09-01T00:00:00",
          "Tourist Arrivals": 10928223
         },
         {
          "Country": "ES",
          "Date": "2017-10-01T00:00:00",
          "Tourist Arrivals": 9455826
         },
         {
          "Country": "ES",
          "Date": "2017-11-01T00:00:00",
          "Tourist Arrivals": 6066225
         },
         {
          "Country": "ES",
          "Date": "2017-12-01T00:00:00",
          "Tourist Arrivals": 5803750
         },
         {
          "Country": "ES",
          "Date": "2018-01-01T00:00:00",
          "Tourist Arrivals": 5133729
         },
         {
          "Country": "ES",
          "Date": "2018-02-01T00:00:00",
          "Tourist Arrivals": 5826145
         },
         {
          "Country": "ES",
          "Date": "2018-03-01T00:00:00",
          "Tourist Arrivals": 7532288
         },
         {
          "Country": "ES",
          "Date": "2018-04-01T00:00:00",
          "Tourist Arrivals": 8508796
         },
         {
          "Country": "ES",
          "Date": "2018-05-01T00:00:00",
          "Tourist Arrivals": 10040280
         },
         {
          "Country": "ES",
          "Date": "2018-06-01T00:00:00",
          "Tourist Arrivals": 10846347
         },
         {
          "Country": "ES",
          "Date": "2018-07-01T00:00:00",
          "Tourist Arrivals": 11707840
         },
         {
          "Country": "ES",
          "Date": "2018-08-01T00:00:00",
          "Tourist Arrivals": 12500596
         },
         {
          "Country": "ES",
          "Date": "2018-09-01T00:00:00",
          "Tourist Arrivals": 11000903
         },
         {
          "Country": "ES",
          "Date": "2018-10-01T00:00:00",
          "Tourist Arrivals": 9666570
         },
         {
          "Country": "ES",
          "Date": "2018-11-01T00:00:00",
          "Tourist Arrivals": 6485702
         },
         {
          "Country": "ES",
          "Date": "2018-12-01T00:00:00",
          "Tourist Arrivals": 6071139
         },
         {
          "Country": "ES",
          "Date": "2019-01-01T00:00:00",
          "Tourist Arrivals": 5228869
         },
         {
          "Country": "ES",
          "Date": "2019-02-01T00:00:00",
          "Tourist Arrivals": 6003840
         },
         {
          "Country": "ES",
          "Date": "2019-03-01T00:00:00",
          "Tourist Arrivals": 7542541
         },
         {
          "Country": "ES",
          "Date": "2019-04-01T00:00:00",
          "Tourist Arrivals": 9141970
         },
         {
          "Country": "ES",
          "Date": "2019-05-01T00:00:00",
          "Tourist Arrivals": 10562869
         },
         {
          "Country": "ES",
          "Date": "2019-06-01T00:00:00",
          "Tourist Arrivals": 11344295
         },
         {
          "Country": "ES",
          "Date": "2019-07-01T00:00:00",
          "Tourist Arrivals": 12097382
         },
         {
          "Country": "ES",
          "Date": "2019-08-01T00:00:00",
          "Tourist Arrivals": 12893366
         },
         {
          "Country": "ES",
          "Date": "2019-09-01T00:00:00",
          "Tourist Arrivals": null
         },
         {
          "Country": "ES",
          "Date": "2019-10-01T00:00:00",
          "Tourist Arrivals": null
         },
         {
          "Country": "UK",
          "Date": "1990-01-01T00:00:00",
          "Tourist Arrivals": 1776000
         },
         {
          "Country": "UK",
          "Date": "1990-02-01T00:00:00",
          "Tourist Arrivals": 2250000
         },
         {
          "Country": "UK",
          "Date": "1990-03-01T00:00:00",
          "Tourist Arrivals": 2662000
         },
         {
          "Country": "UK",
          "Date": "1990-04-01T00:00:00",
          "Tourist Arrivals": 2645000
         },
         {
          "Country": "UK",
          "Date": "1990-05-01T00:00:00",
          "Tourist Arrivals": 3096000
         },
         {
          "Country": "UK",
          "Date": "1990-06-01T00:00:00",
          "Tourist Arrivals": 2986000
         },
         {
          "Country": "UK",
          "Date": "1990-07-01T00:00:00",
          "Tourist Arrivals": 3796000
         },
         {
          "Country": "UK",
          "Date": "1990-08-01T00:00:00",
          "Tourist Arrivals": 4434000
         },
         {
          "Country": "UK",
          "Date": "1990-09-01T00:00:00",
          "Tourist Arrivals": 3452000
         },
         {
          "Country": "UK",
          "Date": "1990-10-01T00:00:00",
          "Tourist Arrivals": 3360000
         },
         {
          "Country": "UK",
          "Date": "1990-11-01T00:00:00",
          "Tourist Arrivals": 2545000
         },
         {
          "Country": "UK",
          "Date": "1990-12-01T00:00:00",
          "Tourist Arrivals": 2367000
         },
         {
          "Country": "UK",
          "Date": "1991-01-01T00:00:00",
          "Tourist Arrivals": 1530000
         },
         {
          "Country": "UK",
          "Date": "1991-02-01T00:00:00",
          "Tourist Arrivals": 1600000
         },
         {
          "Country": "UK",
          "Date": "1991-03-01T00:00:00",
          "Tourist Arrivals": 2340000
         },
         {
          "Country": "UK",
          "Date": "1991-04-01T00:00:00",
          "Tourist Arrivals": 2390000
         },
         {
          "Country": "UK",
          "Date": "1991-05-01T00:00:00",
          "Tourist Arrivals": 3080000
         },
         {
          "Country": "UK",
          "Date": "1991-06-01T00:00:00",
          "Tourist Arrivals": 2790000
         },
         {
          "Country": "UK",
          "Date": "1991-07-01T00:00:00",
          "Tourist Arrivals": 3570000
         },
         {
          "Country": "UK",
          "Date": "1991-08-01T00:00:00",
          "Tourist Arrivals": 4330000
         },
         {
          "Country": "UK",
          "Date": "1991-09-01T00:00:00",
          "Tourist Arrivals": 2810000
         },
         {
          "Country": "UK",
          "Date": "1991-10-01T00:00:00",
          "Tourist Arrivals": 2580000
         },
         {
          "Country": "UK",
          "Date": "1991-11-01T00:00:00",
          "Tourist Arrivals": 1970000
         },
         {
          "Country": "UK",
          "Date": "1991-12-01T00:00:00",
          "Tourist Arrivals": 2620000
         },
         {
          "Country": "UK",
          "Date": "1992-01-01T00:00:00",
          "Tourist Arrivals": 1730000
         },
         {
          "Country": "UK",
          "Date": "1992-02-01T00:00:00",
          "Tourist Arrivals": 1800000
         },
         {
          "Country": "UK",
          "Date": "1992-03-01T00:00:00",
          "Tourist Arrivals": 1920000
         },
         {
          "Country": "UK",
          "Date": "1992-04-01T00:00:00",
          "Tourist Arrivals": 2670000
         },
         {
          "Country": "UK",
          "Date": "1992-05-01T00:00:00",
          "Tourist Arrivals": 2940000
         },
         {
          "Country": "UK",
          "Date": "1992-06-01T00:00:00",
          "Tourist Arrivals": 2880000
         },
         {
          "Country": "UK",
          "Date": "1992-07-01T00:00:00",
          "Tourist Arrivals": 3790000
         },
         {
          "Country": "UK",
          "Date": "1992-08-01T00:00:00",
          "Tourist Arrivals": 4810000
         },
         {
          "Country": "UK",
          "Date": "1992-09-01T00:00:00",
          "Tourist Arrivals": 2910000
         },
         {
          "Country": "UK",
          "Date": "1992-10-01T00:00:00",
          "Tourist Arrivals": 2650000
         },
         {
          "Country": "UK",
          "Date": "1992-11-01T00:00:00",
          "Tourist Arrivals": 1720000
         },
         {
          "Country": "UK",
          "Date": "1992-12-01T00:00:00",
          "Tourist Arrivals": 2800000
         },
         {
          "Country": "UK",
          "Date": "1993-01-01T00:00:00",
          "Tourist Arrivals": null
         },
         {
          "Country": "UK",
          "Date": "1993-02-01T00:00:00",
          "Tourist Arrivals": null
         },
         {
          "Country": "UK",
          "Date": "1993-03-01T00:00:00",
          "Tourist Arrivals": null
         },
         {
          "Country": "UK",
          "Date": "1993-04-01T00:00:00",
          "Tourist Arrivals": null
         },
         {
          "Country": "UK",
          "Date": "1993-05-01T00:00:00",
          "Tourist Arrivals": null
         },
         {
          "Country": "UK",
          "Date": "1993-06-01T00:00:00",
          "Tourist Arrivals": null
         },
         {
          "Country": "UK",
          "Date": "1993-07-01T00:00:00",
          "Tourist Arrivals": null
         },
         {
          "Country": "UK",
          "Date": "1993-08-01T00:00:00",
          "Tourist Arrivals": null
         },
         {
          "Country": "UK",
          "Date": "1993-09-01T00:00:00",
          "Tourist Arrivals": null
         },
         {
          "Country": "UK",
          "Date": "1993-10-01T00:00:00",
          "Tourist Arrivals": null
         },
         {
          "Country": "UK",
          "Date": "1993-11-01T00:00:00",
          "Tourist Arrivals": null
         },
         {
          "Country": "UK",
          "Date": "1993-12-01T00:00:00",
          "Tourist Arrivals": null
         },
         {
          "Country": "UK",
          "Date": "1994-01-01T00:00:00",
          "Tourist Arrivals": 1767000
         },
         {
          "Country": "UK",
          "Date": "1994-02-01T00:00:00",
          "Tourist Arrivals": 1915000
         },
         {
          "Country": "UK",
          "Date": "1994-03-01T00:00:00",
          "Tourist Arrivals": 2405000
         },
         {
          "Country": "UK",
          "Date": "1994-04-01T00:00:00",
          "Tourist Arrivals": 2681000
         },
         {
          "Country": "UK",
          "Date": "1994-05-01T00:00:00",
          "Tourist Arrivals": 2941000
         },
         {
          "Country": "UK",
          "Date": "1994-06-01T00:00:00",
          "Tourist Arrivals": 2790000
         },
         {
          "Country": "UK",
          "Date": "1994-07-01T00:00:00",
          "Tourist Arrivals": 3766000
         },
         {
          "Country": "UK",
          "Date": "1994-08-01T00:00:00",
          "Tourist Arrivals": 4338000
         },
         {
          "Country": "UK",
          "Date": "1994-09-01T00:00:00",
          "Tourist Arrivals": 3127000
         },
         {
          "Country": "UK",
          "Date": "1994-10-01T00:00:00",
          "Tourist Arrivals": 2992000
         },
         {
          "Country": "UK",
          "Date": "1994-11-01T00:00:00",
          "Tourist Arrivals": 2166000
         },
         {
          "Country": "UK",
          "Date": "1994-12-01T00:00:00",
          "Tourist Arrivals": 3043000
         },
         {
          "Country": "UK",
          "Date": "1995-01-01T00:00:00",
          "Tourist Arrivals": 2134530
         },
         {
          "Country": "UK",
          "Date": "1995-02-01T00:00:00",
          "Tourist Arrivals": 2472754
         },
         {
          "Country": "UK",
          "Date": "1995-03-01T00:00:00",
          "Tourist Arrivals": 2961941
         },
         {
          "Country": "UK",
          "Date": "1995-04-01T00:00:00",
          "Tourist Arrivals": 3030087
         },
         {
          "Country": "UK",
          "Date": "1995-05-01T00:00:00",
          "Tourist Arrivals": 3943848
         },
         {
          "Country": "UK",
          "Date": "1995-06-01T00:00:00",
          "Tourist Arrivals": 3448138
         },
         {
          "Country": "UK",
          "Date": "1995-07-01T00:00:00",
          "Tourist Arrivals": 4628162
         },
         {
          "Country": "UK",
          "Date": "1995-08-01T00:00:00",
          "Tourist Arrivals": 5244077
         },
         {
          "Country": "UK",
          "Date": "1995-09-01T00:00:00",
          "Tourist Arrivals": 4499343
         },
         {
          "Country": "UK",
          "Date": "1995-10-01T00:00:00",
          "Tourist Arrivals": 4263004
         },
         {
          "Country": "UK",
          "Date": "1995-11-01T00:00:00",
          "Tourist Arrivals": 3080776
         },
         {
          "Country": "UK",
          "Date": "1995-12-01T00:00:00",
          "Tourist Arrivals": 2821445
         },
         {
          "Country": "UK",
          "Date": "1996-01-01T00:00:00",
          "Tourist Arrivals": 2981032
         },
         {
          "Country": "UK",
          "Date": "1996-02-01T00:00:00",
          "Tourist Arrivals": 3803185
         },
         {
          "Country": "UK",
          "Date": "1996-03-01T00:00:00",
          "Tourist Arrivals": 4621148
         },
         {
          "Country": "UK",
          "Date": "1996-04-01T00:00:00",
          "Tourist Arrivals": 4604023
         },
         {
          "Country": "UK",
          "Date": "1996-05-01T00:00:00",
          "Tourist Arrivals": 5675587
         },
         {
          "Country": "UK",
          "Date": "1996-06-01T00:00:00",
          "Tourist Arrivals": 5154119
         },
         {
          "Country": "UK",
          "Date": "1996-07-01T00:00:00",
          "Tourist Arrivals": 6419168
         },
         {
          "Country": "UK",
          "Date": "1996-08-01T00:00:00",
          "Tourist Arrivals": 7481978
         },
         {
          "Country": "UK",
          "Date": "1996-09-01T00:00:00",
          "Tourist Arrivals": 6055646
         },
         {
          "Country": "UK",
          "Date": "1996-10-01T00:00:00",
          "Tourist Arrivals": 6003090
         },
         {
          "Country": "UK",
          "Date": "1996-11-01T00:00:00",
          "Tourist Arrivals": 4495843
         },
         {
          "Country": "UK",
          "Date": "1996-12-01T00:00:00",
          "Tourist Arrivals": 4090510
         },
         {
          "Country": "UK",
          "Date": "1997-01-01T00:00:00",
          "Tourist Arrivals": 2533691
         },
         {
          "Country": "UK",
          "Date": "1997-02-01T00:00:00",
          "Tourist Arrivals": 3138616
         },
         {
          "Country": "UK",
          "Date": "1997-03-01T00:00:00",
          "Tourist Arrivals": 4100911
         },
         {
          "Country": "UK",
          "Date": "1997-04-01T00:00:00",
          "Tourist Arrivals": 3803158
         },
         {
          "Country": "UK",
          "Date": "1997-05-01T00:00:00",
          "Tourist Arrivals": 4807861
         },
         {
          "Country": "UK",
          "Date": "1997-06-01T00:00:00",
          "Tourist Arrivals": 4554311
         },
         {
          "Country": "UK",
          "Date": "1997-07-01T00:00:00",
          "Tourist Arrivals": 5679518
         },
         {
          "Country": "UK",
          "Date": "1997-08-01T00:00:00",
          "Tourist Arrivals": 6428158
         },
         {
          "Country": "UK",
          "Date": "1997-09-01T00:00:00",
          "Tourist Arrivals": 5546601
         },
         {
          "Country": "UK",
          "Date": "1997-10-01T00:00:00",
          "Tourist Arrivals": 5261434
         },
         {
          "Country": "UK",
          "Date": "1997-11-01T00:00:00",
          "Tourist Arrivals": 3973100
         },
         {
          "Country": "UK",
          "Date": "1997-12-01T00:00:00",
          "Tourist Arrivals": 3602214
         },
         {
          "Country": "UK",
          "Date": "1998-01-01T00:00:00",
          "Tourist Arrivals": 2425000
         },
         {
          "Country": "UK",
          "Date": "1998-02-01T00:00:00",
          "Tourist Arrivals": 2966000
         },
         {
          "Country": "UK",
          "Date": "1998-03-01T00:00:00",
          "Tourist Arrivals": 3423000
         },
         {
          "Country": "UK",
          "Date": "1998-04-01T00:00:00",
          "Tourist Arrivals": 3777000
         },
         {
          "Country": "UK",
          "Date": "1998-05-01T00:00:00",
          "Tourist Arrivals": 4571000
         },
         {
          "Country": "UK",
          "Date": "1998-06-01T00:00:00",
          "Tourist Arrivals": 3992000
         },
         {
          "Country": "UK",
          "Date": "1998-07-01T00:00:00",
          "Tourist Arrivals": 4975000
         },
         {
          "Country": "UK",
          "Date": "1998-08-01T00:00:00",
          "Tourist Arrivals": 5855000
         },
         {
          "Country": "UK",
          "Date": "1998-09-01T00:00:00",
          "Tourist Arrivals": 4493000
         },
         {
          "Country": "UK",
          "Date": "1998-10-01T00:00:00",
          "Tourist Arrivals": 4602000
         },
         {
          "Country": "UK",
          "Date": "1998-11-01T00:00:00",
          "Tourist Arrivals": 3413000
         },
         {
          "Country": "UK",
          "Date": "1998-12-01T00:00:00",
          "Tourist Arrivals": 3078000
         },
         {
          "Country": "UK",
          "Date": "1999-01-01T00:00:00",
          "Tourist Arrivals": 2555998
         },
         {
          "Country": "UK",
          "Date": "1999-02-01T00:00:00",
          "Tourist Arrivals": 3507000
         },
         {
          "Country": "UK",
          "Date": "1999-03-01T00:00:00",
          "Tourist Arrivals": 4097003
         },
         {
          "Country": "UK",
          "Date": "1999-04-01T00:00:00",
          "Tourist Arrivals": 4596998
         },
         {
          "Country": "UK",
          "Date": "1999-05-01T00:00:00",
          "Tourist Arrivals": 4591998
         },
         {
          "Country": "UK",
          "Date": "1999-06-01T00:00:00",
          "Tourist Arrivals": 4905002
         },
         {
          "Country": "UK",
          "Date": "1999-07-01T00:00:00",
          "Tourist Arrivals": 5573002
         },
         {
          "Country": "UK",
          "Date": "1999-08-01T00:00:00",
          "Tourist Arrivals": 6318000
         },
         {
          "Country": "UK",
          "Date": "1999-09-01T00:00:00",
          "Tourist Arrivals": 5198999
         },
         {
          "Country": "UK",
          "Date": "1999-10-01T00:00:00",
          "Tourist Arrivals": 5023997
         },
         {
          "Country": "UK",
          "Date": "1999-11-01T00:00:00",
          "Tourist Arrivals": 4176000
         },
         {
          "Country": "UK",
          "Date": "1999-12-01T00:00:00",
          "Tourist Arrivals": 3724999
         },
         {
          "Country": "UK",
          "Date": "2000-01-01T00:00:00",
          "Tourist Arrivals": 4647933
         },
         {
          "Country": "UK",
          "Date": "2000-02-01T00:00:00",
          "Tourist Arrivals": 4729614
         },
         {
          "Country": "UK",
          "Date": "2000-03-01T00:00:00",
          "Tourist Arrivals": 5713558
         },
         {
          "Country": "UK",
          "Date": "2000-04-01T00:00:00",
          "Tourist Arrivals": 6383695
         },
         {
          "Country": "UK",
          "Date": "2000-05-01T00:00:00",
          "Tourist Arrivals": 7321448
         },
         {
          "Country": "UK",
          "Date": "2000-06-01T00:00:00",
          "Tourist Arrivals": 6993762
         },
         {
          "Country": "UK",
          "Date": "2000-07-01T00:00:00",
          "Tourist Arrivals": 7805789
         },
         {
          "Country": "UK",
          "Date": "2000-08-01T00:00:00",
          "Tourist Arrivals": 8803192
         },
         {
          "Country": "UK",
          "Date": "2000-09-01T00:00:00",
          "Tourist Arrivals": 6906723
         },
         {
          "Country": "UK",
          "Date": "2000-10-01T00:00:00",
          "Tourist Arrivals": 7155652
         },
         {
          "Country": "UK",
          "Date": "2000-11-01T00:00:00",
          "Tourist Arrivals": 5255352
         },
         {
          "Country": "UK",
          "Date": "2000-12-01T00:00:00",
          "Tourist Arrivals": 4386210
         },
         {
          "Country": "UK",
          "Date": "2001-01-01T00:00:00",
          "Tourist Arrivals": 3732111
         },
         {
          "Country": "UK",
          "Date": "2001-02-01T00:00:00",
          "Tourist Arrivals": 4315809
         },
         {
          "Country": "UK",
          "Date": "2001-03-01T00:00:00",
          "Tourist Arrivals": 5386644
         },
         {
          "Country": "UK",
          "Date": "2001-04-01T00:00:00",
          "Tourist Arrivals": 5392706
         },
         {
          "Country": "UK",
          "Date": "2001-05-01T00:00:00",
          "Tourist Arrivals": 7141387
         },
         {
          "Country": "UK",
          "Date": "2001-06-01T00:00:00",
          "Tourist Arrivals": 6214540
         },
         {
          "Country": "UK",
          "Date": "2001-07-01T00:00:00",
          "Tourist Arrivals": 7401748
         },
         {
          "Country": "UK",
          "Date": "2001-08-01T00:00:00",
          "Tourist Arrivals": 8149346
         },
         {
          "Country": "UK",
          "Date": "2001-09-01T00:00:00",
          "Tourist Arrivals": 7286425
         },
         {
          "Country": "UK",
          "Date": "2001-10-01T00:00:00",
          "Tourist Arrivals": 6825383
         },
         {
          "Country": "UK",
          "Date": "2001-11-01T00:00:00",
          "Tourist Arrivals": 5919230
         },
         {
          "Country": "UK",
          "Date": "2001-12-01T00:00:00",
          "Tourist Arrivals": 4871169
         },
         {
          "Country": "UK",
          "Date": "2002-01-01T00:00:00",
          "Tourist Arrivals": 4094004
         },
         {
          "Country": "UK",
          "Date": "2002-02-01T00:00:00",
          "Tourist Arrivals": 4919729
         },
         {
          "Country": "UK",
          "Date": "2002-03-01T00:00:00",
          "Tourist Arrivals": 5809313
         },
         {
          "Country": "UK",
          "Date": "2002-04-01T00:00:00",
          "Tourist Arrivals": 6267079
         },
         {
          "Country": "UK",
          "Date": "2002-05-01T00:00:00",
          "Tourist Arrivals": 6533181
         },
         {
          "Country": "UK",
          "Date": "2002-06-01T00:00:00",
          "Tourist Arrivals": 6374078
         },
         {
          "Country": "UK",
          "Date": "2002-07-01T00:00:00",
          "Tourist Arrivals": 7238728
         },
         {
          "Country": "UK",
          "Date": "2002-08-01T00:00:00",
          "Tourist Arrivals": 8299313
         },
         {
          "Country": "UK",
          "Date": "2002-09-01T00:00:00",
          "Tourist Arrivals": 6907813
         },
         {
          "Country": "UK",
          "Date": "2002-10-01T00:00:00",
          "Tourist Arrivals": 6460467
         },
         {
          "Country": "UK",
          "Date": "2002-11-01T00:00:00",
          "Tourist Arrivals": 5435683
         },
         {
          "Country": "UK",
          "Date": "2002-12-01T00:00:00",
          "Tourist Arrivals": 5229604
         },
         {
          "Country": "UK",
          "Date": "2003-01-01T00:00:00",
          "Tourist Arrivals": 4183000
         },
         {
          "Country": "UK",
          "Date": "2003-02-01T00:00:00",
          "Tourist Arrivals": 5118000
         },
         {
          "Country": "UK",
          "Date": "2003-03-01T00:00:00",
          "Tourist Arrivals": 5218000
         },
         {
          "Country": "UK",
          "Date": "2003-04-01T00:00:00",
          "Tourist Arrivals": 5745000
         },
         {
          "Country": "UK",
          "Date": "2003-05-01T00:00:00",
          "Tourist Arrivals": 6218000
         },
         {
          "Country": "UK",
          "Date": "2003-06-01T00:00:00",
          "Tourist Arrivals": 5897000
         },
         {
          "Country": "UK",
          "Date": "2003-07-01T00:00:00",
          "Tourist Arrivals": 6505000
         },
         {
          "Country": "UK",
          "Date": "2003-08-01T00:00:00",
          "Tourist Arrivals": 7708000
         },
         {
          "Country": "UK",
          "Date": "2003-09-01T00:00:00",
          "Tourist Arrivals": 6775000
         },
         {
          "Country": "UK",
          "Date": "2003-10-01T00:00:00",
          "Tourist Arrivals": 6731000
         },
         {
          "Country": "UK",
          "Date": "2003-11-01T00:00:00",
          "Tourist Arrivals": 4705000
         },
         {
          "Country": "UK",
          "Date": "2003-12-01T00:00:00",
          "Tourist Arrivals": 4289000
         },
         {
          "Country": "UK",
          "Date": "2004-01-01T00:00:00",
          "Tourist Arrivals": 4373000
         },
         {
          "Country": "UK",
          "Date": "2004-02-01T00:00:00",
          "Tourist Arrivals": 4537000
         },
         {
          "Country": "UK",
          "Date": "2004-03-01T00:00:00",
          "Tourist Arrivals": 5415000
         },
         {
          "Country": "UK",
          "Date": "2004-04-01T00:00:00",
          "Tourist Arrivals": 5275000
         },
         {
          "Country": "UK",
          "Date": "2004-05-01T00:00:00",
          "Tourist Arrivals": 5428000
         },
         {
          "Country": "UK",
          "Date": "2004-06-01T00:00:00",
          "Tourist Arrivals": 5440000
         },
         {
          "Country": "UK",
          "Date": "2004-07-01T00:00:00",
          "Tourist Arrivals": 6677000
         },
         {
          "Country": "UK",
          "Date": "2004-08-01T00:00:00",
          "Tourist Arrivals": 6901000
         },
         {
          "Country": "UK",
          "Date": "2004-09-01T00:00:00",
          "Tourist Arrivals": 5551000
         },
         {
          "Country": "UK",
          "Date": "2004-10-01T00:00:00",
          "Tourist Arrivals": 6006000
         },
         {
          "Country": "UK",
          "Date": "2004-11-01T00:00:00",
          "Tourist Arrivals": 4433000
         },
         {
          "Country": "UK",
          "Date": "2004-12-01T00:00:00",
          "Tourist Arrivals": 4120000
         },
         {
          "Country": "UK",
          "Date": "2005-01-01T00:00:00",
          "Tourist Arrivals": 4740411
         },
         {
          "Country": "UK",
          "Date": "2005-02-01T00:00:00",
          "Tourist Arrivals": 5289479
         },
         {
          "Country": "UK",
          "Date": "2005-03-01T00:00:00",
          "Tourist Arrivals": 6419680
         },
         {
          "Country": "UK",
          "Date": "2005-04-01T00:00:00",
          "Tourist Arrivals": 6242384
         },
         {
          "Country": "UK",
          "Date": "2005-05-01T00:00:00",
          "Tourist Arrivals": 7320000
         },
         {
          "Country": "UK",
          "Date": "2005-06-01T00:00:00",
          "Tourist Arrivals": 7142000
         },
         {
          "Country": "UK",
          "Date": "2005-07-01T00:00:00",
          "Tourist Arrivals": 8959000
         },
         {
          "Country": "UK",
          "Date": "2005-08-01T00:00:00",
          "Tourist Arrivals": 8117000
         },
         {
          "Country": "UK",
          "Date": "2005-09-01T00:00:00",
          "Tourist Arrivals": 6699000
         },
         {
          "Country": "UK",
          "Date": "2005-10-01T00:00:00",
          "Tourist Arrivals": 6219000
         },
         {
          "Country": "UK",
          "Date": "2005-11-01T00:00:00",
          "Tourist Arrivals": 5052000
         },
         {
          "Country": "UK",
          "Date": "2005-12-01T00:00:00",
          "Tourist Arrivals": 4812000
         },
         {
          "Country": "UK",
          "Date": "2006-01-01T00:00:00",
          "Tourist Arrivals": 3898000
         },
         {
          "Country": "UK",
          "Date": "2006-02-01T00:00:00",
          "Tourist Arrivals": 4589000
         },
         {
          "Country": "UK",
          "Date": "2006-03-01T00:00:00",
          "Tourist Arrivals": 4691000
         },
         {
          "Country": "UK",
          "Date": "2006-04-01T00:00:00",
          "Tourist Arrivals": 6185000
         },
         {
          "Country": "UK",
          "Date": "2006-05-01T00:00:00",
          "Tourist Arrivals": 5934000
         },
         {
          "Country": "UK",
          "Date": "2006-06-01T00:00:00",
          "Tourist Arrivals": 6224000
         },
         {
          "Country": "UK",
          "Date": "2006-07-01T00:00:00",
          "Tourist Arrivals": 6818000
         },
         {
          "Country": "UK",
          "Date": "2006-08-01T00:00:00",
          "Tourist Arrivals": 7533000
         },
         {
          "Country": "UK",
          "Date": "2006-09-01T00:00:00",
          "Tourist Arrivals": 6560000
         },
         {
          "Country": "UK",
          "Date": "2006-10-01T00:00:00",
          "Tourist Arrivals": 5610000
         },
         {
          "Country": "UK",
          "Date": "2006-11-01T00:00:00",
          "Tourist Arrivals": 5143000
         },
         {
          "Country": "UK",
          "Date": "2006-12-01T00:00:00",
          "Tourist Arrivals": 5266000
         },
         {
          "Country": "UK",
          "Date": "2007-01-01T00:00:00",
          "Tourist Arrivals": 4041000
         },
         {
          "Country": "UK",
          "Date": "2007-02-01T00:00:00",
          "Tourist Arrivals": 4439000
         },
         {
          "Country": "UK",
          "Date": "2007-03-01T00:00:00",
          "Tourist Arrivals": 5594000
         },
         {
          "Country": "UK",
          "Date": "2007-04-01T00:00:00",
          "Tourist Arrivals": 5533000
         },
         {
          "Country": "UK",
          "Date": "2007-05-01T00:00:00",
          "Tourist Arrivals": 6347000
         },
         {
          "Country": "UK",
          "Date": "2007-06-01T00:00:00",
          "Tourist Arrivals": 6069000
         },
         {
          "Country": "UK",
          "Date": "2007-07-01T00:00:00",
          "Tourist Arrivals": 7065000
         },
         {
          "Country": "UK",
          "Date": "2007-08-01T00:00:00",
          "Tourist Arrivals": 7866000
         },
         {
          "Country": "UK",
          "Date": "2007-09-01T00:00:00",
          "Tourist Arrivals": 6228000
         },
         {
          "Country": "UK",
          "Date": "2007-10-01T00:00:00",
          "Tourist Arrivals": 5665000
         },
         {
          "Country": "UK",
          "Date": "2007-11-01T00:00:00",
          "Tourist Arrivals": 4978000
         },
         {
          "Country": "UK",
          "Date": "2007-12-01T00:00:00",
          "Tourist Arrivals": 4461000
         },
         {
          "Country": "UK",
          "Date": "2008-01-01T00:00:00",
          "Tourist Arrivals": 4120000
         },
         {
          "Country": "UK",
          "Date": "2008-02-01T00:00:00",
          "Tourist Arrivals": 4970000
         },
         {
          "Country": "UK",
          "Date": "2008-03-01T00:00:00",
          "Tourist Arrivals": 5625000
         },
         {
          "Country": "UK",
          "Date": "2008-04-01T00:00:00",
          "Tourist Arrivals": 5265000
         },
         {
          "Country": "UK",
          "Date": "2008-05-01T00:00:00",
          "Tourist Arrivals": 6465000
         },
         {
          "Country": "UK",
          "Date": "2008-06-01T00:00:00",
          "Tourist Arrivals": 6281741
         },
         {
          "Country": "UK",
          "Date": "2008-07-01T00:00:00",
          "Tourist Arrivals": 7324885
         },
         {
          "Country": "UK",
          "Date": "2008-08-01T00:00:00",
          "Tourist Arrivals": 7785991
         },
         {
          "Country": "UK",
          "Date": "2008-09-01T00:00:00",
          "Tourist Arrivals": 6302148
         },
         {
          "Country": "UK",
          "Date": "2008-10-01T00:00:00",
          "Tourist Arrivals": 5995363
         },
         {
          "Country": "UK",
          "Date": "2008-11-01T00:00:00",
          "Tourist Arrivals": 4568145
         },
         {
          "Country": "UK",
          "Date": "2008-12-01T00:00:00",
          "Tourist Arrivals": 4440308
         },
         {
          "Country": "UK",
          "Date": "2009-01-01T00:00:00",
          "Tourist Arrivals": 3529899
         },
         {
          "Country": "UK",
          "Date": "2009-02-01T00:00:00",
          "Tourist Arrivals": 4370953
         },
         {
          "Country": "UK",
          "Date": "2009-03-01T00:00:00",
          "Tourist Arrivals": 4514101
         },
         {
          "Country": "UK",
          "Date": "2009-04-01T00:00:00",
          "Tourist Arrivals": 6084164
         },
         {
          "Country": "UK",
          "Date": "2009-05-01T00:00:00",
          "Tourist Arrivals": 6578981
         },
         {
          "Country": "UK",
          "Date": "2009-06-01T00:00:00",
          "Tourist Arrivals": 6328427
         },
         {
          "Country": "UK",
          "Date": "2009-07-01T00:00:00",
          "Tourist Arrivals": 7163790
         },
         {
          "Country": "UK",
          "Date": "2009-08-01T00:00:00",
          "Tourist Arrivals": 7606062
         },
         {
          "Country": "UK",
          "Date": "2009-09-01T00:00:00",
          "Tourist Arrivals": 6299820
         },
         {
          "Country": "UK",
          "Date": "2009-10-01T00:00:00",
          "Tourist Arrivals": 5866539
         },
         {
          "Country": "UK",
          "Date": "2009-11-01T00:00:00",
          "Tourist Arrivals": 4547239
         },
         {
          "Country": "UK",
          "Date": "2009-12-01T00:00:00",
          "Tourist Arrivals": 4462055
         },
         {
          "Country": "UK",
          "Date": "2010-01-01T00:00:00",
          "Tourist Arrivals": 3441319
         },
         {
          "Country": "UK",
          "Date": "2010-02-01T00:00:00",
          "Tourist Arrivals": 4368478
         },
         {
          "Country": "UK",
          "Date": "2010-03-01T00:00:00",
          "Tourist Arrivals": 5194091
         },
         {
          "Country": "UK",
          "Date": "2010-04-01T00:00:00",
          "Tourist Arrivals": 6287778
         },
         {
          "Country": "UK",
          "Date": "2010-05-01T00:00:00",
          "Tourist Arrivals": 6919401
         },
         {
          "Country": "UK",
          "Date": "2010-06-01T00:00:00",
          "Tourist Arrivals": 6209296
         },
         {
          "Country": "UK",
          "Date": "2010-07-01T00:00:00",
          "Tourist Arrivals": 6872769
         },
         {
          "Country": "UK",
          "Date": "2010-08-01T00:00:00",
          "Tourist Arrivals": 7539899
         },
         {
          "Country": "UK",
          "Date": "2010-09-01T00:00:00",
          "Tourist Arrivals": 6385254
         },
         {
          "Country": "UK",
          "Date": "2010-10-01T00:00:00",
          "Tourist Arrivals": 6353132
         },
         {
          "Country": "UK",
          "Date": "2010-11-01T00:00:00",
          "Tourist Arrivals": 5123717
         },
         {
          "Country": "UK",
          "Date": "2010-12-01T00:00:00",
          "Tourist Arrivals": 3642145
         },
         {
          "Country": "UK",
          "Date": "2011-01-01T00:00:00",
          "Tourist Arrivals": 3728218
         },
         {
          "Country": "UK",
          "Date": "2011-02-01T00:00:00",
          "Tourist Arrivals": 4637592
         },
         {
          "Country": "UK",
          "Date": "2011-03-01T00:00:00",
          "Tourist Arrivals": 5002944
         },
         {
          "Country": "UK",
          "Date": "2011-04-01T00:00:00",
          "Tourist Arrivals": 6027745
         },
         {
          "Country": "UK",
          "Date": "2011-05-01T00:00:00",
          "Tourist Arrivals": 6090305
         },
         {
          "Country": "UK",
          "Date": "2011-06-01T00:00:00",
          "Tourist Arrivals": 6420332
         },
         {
          "Country": "UK",
          "Date": "2011-07-01T00:00:00",
          "Tourist Arrivals": 7937669
         },
         {
          "Country": "UK",
          "Date": "2011-08-01T00:00:00",
          "Tourist Arrivals": 7835861
         },
         {
          "Country": "UK",
          "Date": "2011-09-01T00:00:00",
          "Tourist Arrivals": 6895201
         },
         {
          "Country": "UK",
          "Date": "2011-10-01T00:00:00",
          "Tourist Arrivals": 6940499
         },
         {
          "Country": "UK",
          "Date": "2011-11-01T00:00:00",
          "Tourist Arrivals": 5414810
         },
         {
          "Country": "UK",
          "Date": "2011-12-01T00:00:00",
          "Tourist Arrivals": 4663569
         },
         {
          "Country": "UK",
          "Date": "2012-01-01T00:00:00",
          "Tourist Arrivals": 4114545
         },
         {
          "Country": "UK",
          "Date": "2012-02-01T00:00:00",
          "Tourist Arrivals": 4309079
         },
         {
          "Country": "UK",
          "Date": "2012-03-01T00:00:00",
          "Tourist Arrivals": 5318773
         },
         {
          "Country": "UK",
          "Date": "2012-04-01T00:00:00",
          "Tourist Arrivals": 6927702
         },
         {
          "Country": "UK",
          "Date": "2012-05-01T00:00:00",
          "Tourist Arrivals": 6442073
         },
         {
          "Country": "UK",
          "Date": "2012-06-01T00:00:00",
          "Tourist Arrivals": 6611371
         },
         {
          "Country": "UK",
          "Date": "2012-07-01T00:00:00",
          "Tourist Arrivals": 6841761
         },
         {
          "Country": "UK",
          "Date": "2012-08-01T00:00:00",
          "Tourist Arrivals": 7337013
         },
         {
          "Country": "UK",
          "Date": "2012-09-01T00:00:00",
          "Tourist Arrivals": 6445456
         },
         {
          "Country": "UK",
          "Date": "2012-10-01T00:00:00",
          "Tourist Arrivals": 6273498
         },
         {
          "Country": "UK",
          "Date": "2012-11-01T00:00:00",
          "Tourist Arrivals": 6359470
         },
         {
          "Country": "UK",
          "Date": "2012-12-01T00:00:00",
          "Tourist Arrivals": 4908426
         },
         {
          "Country": "UK",
          "Date": "2013-01-01T00:00:00",
          "Tourist Arrivals": 4176193
         },
         {
          "Country": "UK",
          "Date": "2013-02-01T00:00:00",
          "Tourist Arrivals": 5083332
         },
         {
          "Country": "UK",
          "Date": "2013-03-01T00:00:00",
          "Tourist Arrivals": 5272996
         },
         {
          "Country": "UK",
          "Date": "2013-04-01T00:00:00",
          "Tourist Arrivals": 6508910
         },
         {
          "Country": "UK",
          "Date": "2013-05-01T00:00:00",
          "Tourist Arrivals": 6885334
         },
         {
          "Country": "UK",
          "Date": "2013-06-01T00:00:00",
          "Tourist Arrivals": 7203792
         },
         {
          "Country": "UK",
          "Date": "2013-07-01T00:00:00",
          "Tourist Arrivals": 7647168
         },
         {
          "Country": "UK",
          "Date": "2013-08-01T00:00:00",
          "Tourist Arrivals": 8371376
         },
         {
          "Country": "UK",
          "Date": "2013-09-01T00:00:00",
          "Tourist Arrivals": 7107514
         },
         {
          "Country": "UK",
          "Date": "2013-10-01T00:00:00",
          "Tourist Arrivals": 6429387
         },
         {
          "Country": "UK",
          "Date": "2013-11-01T00:00:00",
          "Tourist Arrivals": 5952249
         },
         {
          "Country": "UK",
          "Date": "2013-12-01T00:00:00",
          "Tourist Arrivals": 4376731
         },
         {
          "Country": "UK",
          "Date": "2014-01-01T00:00:00",
          "Tourist Arrivals": 3832836
         },
         {
          "Country": "UK",
          "Date": "2014-02-01T00:00:00",
          "Tourist Arrivals": 4790494
         },
         {
          "Country": "UK",
          "Date": "2014-03-01T00:00:00",
          "Tourist Arrivals": 4642864
         },
         {
          "Country": "UK",
          "Date": "2014-04-01T00:00:00",
          "Tourist Arrivals": 6346482
         },
         {
          "Country": "UK",
          "Date": "2014-05-01T00:00:00",
          "Tourist Arrivals": 6870276
         },
         {
          "Country": "UK",
          "Date": "2014-06-01T00:00:00",
          "Tourist Arrivals": 7109072
         },
         {
          "Country": "UK",
          "Date": "2014-07-01T00:00:00",
          "Tourist Arrivals": 7393415
         },
         {
          "Country": "UK",
          "Date": "2014-08-01T00:00:00",
          "Tourist Arrivals": 7759167
         },
         {
          "Country": "UK",
          "Date": "2014-09-01T00:00:00",
          "Tourist Arrivals": 6817573
         },
         {
          "Country": "UK",
          "Date": "2014-10-01T00:00:00",
          "Tourist Arrivals": 6400368
         },
         {
          "Country": "UK",
          "Date": "2014-11-01T00:00:00",
          "Tourist Arrivals": 5238868
         },
         {
          "Country": "UK",
          "Date": "2014-12-01T00:00:00",
          "Tourist Arrivals": 4161170
         },
         {
          "Country": "UK",
          "Date": "2015-01-01T00:00:00",
          "Tourist Arrivals": 3688964
         },
         {
          "Country": "UK",
          "Date": "2015-02-01T00:00:00",
          "Tourist Arrivals": 5018409
         },
         {
          "Country": "UK",
          "Date": "2015-03-01T00:00:00",
          "Tourist Arrivals": 5545399
         },
         {
          "Country": "UK",
          "Date": "2015-04-01T00:00:00",
          "Tourist Arrivals": 6180946
         },
         {
          "Country": "UK",
          "Date": "2015-05-01T00:00:00",
          "Tourist Arrivals": 7407668
         },
         {
          "Country": "UK",
          "Date": "2015-06-01T00:00:00",
          "Tourist Arrivals": 6544780
         },
         {
          "Country": "UK",
          "Date": "2015-07-01T00:00:00",
          "Tourist Arrivals": 8218437
         },
         {
          "Country": "UK",
          "Date": "2015-08-01T00:00:00",
          "Tourist Arrivals": 7838539
         },
         {
          "Country": "UK",
          "Date": "2015-09-01T00:00:00",
          "Tourist Arrivals": 6801622
         },
         {
          "Country": "UK",
          "Date": "2015-10-01T00:00:00",
          "Tourist Arrivals": 6837867
         },
         {
          "Country": "UK",
          "Date": "2015-11-01T00:00:00",
          "Tourist Arrivals": 5119256
         },
         {
          "Country": "UK",
          "Date": "2015-12-01T00:00:00",
          "Tourist Arrivals": 5462066
         },
         {
          "Country": "UK",
          "Date": "2016-01-01T00:00:00",
          "Tourist Arrivals": 3814084
         },
         {
          "Country": "UK",
          "Date": "2016-02-01T00:00:00",
          "Tourist Arrivals": 4583683
         },
         {
          "Country": "UK",
          "Date": "2016-03-01T00:00:00",
          "Tourist Arrivals": 5254735
         },
         {
          "Country": "UK",
          "Date": "2016-04-01T00:00:00",
          "Tourist Arrivals": 5774146
         },
         {
          "Country": "UK",
          "Date": "2016-05-01T00:00:00",
          "Tourist Arrivals": 7097405
         },
         {
          "Country": "UK",
          "Date": "2016-06-01T00:00:00",
          "Tourist Arrivals": 6502355
         },
         {
          "Country": "UK",
          "Date": "2016-07-01T00:00:00",
          "Tourist Arrivals": 6847483
         },
         {
          "Country": "UK",
          "Date": "2016-08-01T00:00:00",
          "Tourist Arrivals": 6847483
         },
         {
          "Country": "UK",
          "Date": "2016-09-01T00:00:00",
          "Tourist Arrivals": 6793985
         },
         {
          "Country": "UK",
          "Date": "2016-10-01T00:00:00",
          "Tourist Arrivals": 6545945
         },
         {
          "Country": "UK",
          "Date": "2016-11-01T00:00:00",
          "Tourist Arrivals": 5736586
         },
         {
          "Country": "UK",
          "Date": "2016-12-01T00:00:00",
          "Tourist Arrivals": 4699805
         },
         {
          "Country": "UK",
          "Date": "2017-01-01T00:00:00",
          "Tourist Arrivals": 4010112
         },
         {
          "Country": "UK",
          "Date": "2017-02-01T00:00:00",
          "Tourist Arrivals": 4804777
         },
         {
          "Country": "UK",
          "Date": "2017-03-01T00:00:00",
          "Tourist Arrivals": 5768081
         },
         {
          "Country": "UK",
          "Date": "2017-04-01T00:00:00",
          "Tourist Arrivals": 6899294
         },
         {
          "Country": "UK",
          "Date": "2017-05-01T00:00:00",
          "Tourist Arrivals": 6462162
         },
         {
          "Country": "UK",
          "Date": "2017-06-01T00:00:00",
          "Tourist Arrivals": 7530626
         },
         {
          "Country": "UK",
          "Date": "2017-07-01T00:00:00",
          "Tourist Arrivals": 7604075
         },
         {
          "Country": "UK",
          "Date": "2017-08-01T00:00:00",
          "Tourist Arrivals": 8241038
         },
         {
          "Country": "UK",
          "Date": "2017-09-01T00:00:00",
          "Tourist Arrivals": 6373017
         },
         {
          "Country": "UK",
          "Date": "2017-10-01T00:00:00",
          "Tourist Arrivals": 6283884
         },
         {
          "Country": "UK",
          "Date": "2017-11-01T00:00:00",
          "Tourist Arrivals": 5782031
         },
         {
          "Country": "UK",
          "Date": "2017-12-01T00:00:00",
          "Tourist Arrivals": 4963594
         },
         {
          "Country": "UK",
          "Date": "2018-01-01T00:00:00",
          "Tourist Arrivals": 4726903
         },
         {
          "Country": "UK",
          "Date": "2018-02-01T00:00:00",
          "Tourist Arrivals": 5587972
         },
         {
          "Country": "UK",
          "Date": "2018-03-01T00:00:00",
          "Tourist Arrivals": 5569624
         },
         {
          "Country": "UK",
          "Date": "2018-04-01T00:00:00",
          "Tourist Arrivals": 6459937
         },
         {
          "Country": "UK",
          "Date": "2018-05-01T00:00:00",
          "Tourist Arrivals": 7671524
         },
         {
          "Country": "UK",
          "Date": "2018-06-01T00:00:00",
          "Tourist Arrivals": 6910956
         },
         {
          "Country": "UK",
          "Date": "2018-07-01T00:00:00",
          "Tourist Arrivals": 7507666
         },
         {
          "Country": "UK",
          "Date": "2018-08-01T00:00:00",
          "Tourist Arrivals": 8070282
         },
         {
          "Country": "UK",
          "Date": "2018-09-01T00:00:00",
          "Tourist Arrivals": 6877716
         },
         {
          "Country": "UK",
          "Date": "2018-10-01T00:00:00",
          "Tourist Arrivals": 6015579
         },
         {
          "Country": "UK",
          "Date": "2018-11-01T00:00:00",
          "Tourist Arrivals": 6030547
         },
         {
          "Country": "UK",
          "Date": "2018-12-01T00:00:00",
          "Tourist Arrivals": 5078777
         },
         {
          "Country": "UK",
          "Date": "2019-01-01T00:00:00",
          "Tourist Arrivals": 4851435
         },
         {
          "Country": "UK",
          "Date": "2019-02-01T00:00:00",
          "Tourist Arrivals": 4798975
         },
         {
          "Country": "UK",
          "Date": "2019-03-01T00:00:00",
          "Tourist Arrivals": 5409050
         },
         {
          "Country": "UK",
          "Date": "2019-04-01T00:00:00",
          "Tourist Arrivals": 6625861
         },
         {
          "Country": "UK",
          "Date": "2019-05-01T00:00:00",
          "Tourist Arrivals": 7600202
         },
         {
          "Country": "UK",
          "Date": "2019-06-01T00:00:00",
          "Tourist Arrivals": 7525413
         },
         {
          "Country": "UK",
          "Date": "2019-07-01T00:00:00",
          "Tourist Arrivals": 8962949
         },
         {
          "Country": "UK",
          "Date": "2019-08-01T00:00:00",
          "Tourist Arrivals": 8889049
         },
         {
          "Country": "UK",
          "Date": "2019-09-01T00:00:00",
          "Tourist Arrivals": 5858984
         },
         {
          "Country": "UK",
          "Date": "2019-10-01T00:00:00",
          "Tourist Arrivals": 7455781
         }
        ]
       },
       "encoding": {
        "color": {
         "field": "Country",
         "type": "nominal"
        },
        "x": {
         "field": "Date",
         "type": "temporal"
        },
        "y": {
         "field": "Tourist Arrivals",
         "type": "quantitative"
        }
       },
       "mark": {
        "type": "line"
       }
      },
      "image/png": "[encoded data removed]",
      "text/plain": [
       "<VegaLite 5 object>\n",
       "\n",
       "If you see this message, it means the renderer has not been properly enabled\n",
       "for the frontend that you are using. For more information, see\n",
       "https://altair-viz.github.io/user_guide/display_frontends.html#troubleshooting\n"
      ]
     },
     "execution_count": 8,
     "metadata": {},
     "output_type": "execute_result"
    }
   ],
   "source": [
    "chart = alt.Chart(df1).mark_line().encode(\n",
    "    x = 'Date:T',\n",
    "    y = 'Tourist Arrivals:Q',\n",
    "    color=alt.Color('Country:N')\n",
    ")\n",
    "\n",
    "chart"
   ]
  },
  {
   "cell_type": "code",
   "execution_count": 9,
   "id": "c6191aa8-406b-4da3-a5ac-ec8bfae24f20",
   "metadata": {},
   "outputs": [],
   "source": [
    "df1.loc[:, 'Year'] = df1['Date'].dt.year\n",
    "# filter out years before 1994 and after 2018\n",
    "df1 = df1[(df1['Year'] >= 1994) & (df1['Year'] <= 2018)]"
   ]
  }
 ],
 "metadata": {
  "kernelspec": {
   "display_name": "Python 3 (ipykernel)",
   "language": "python",
   "name": "python3"
  },
  "language_info": {
   "codemirror_mode": {
    "name": "ipython",
    "version": 3
   },
   "file_extension": ".py",
   "mimetype": "text/x-python",
   "name": "python",
   "nbconvert_exporter": "python",
   "pygments_lexer": "ipython3",
   "version": "3.12.0"
  }
 },
 "nbformat": 4,
 "nbformat_minor": 5
}
